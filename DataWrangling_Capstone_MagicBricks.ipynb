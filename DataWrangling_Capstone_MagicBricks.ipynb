{
 "cells": [
  {
   "cell_type": "markdown",
   "metadata": {},
   "source": [
    "# Data Wrangling - Magic Bricks Data"
   ]
  },
  {
   "cell_type": "markdown",
   "metadata": {},
   "source": [
    "This notebook details the steps I've taken to handle, wrangle, transform into a format usable for supplying as input to a learning model. \n",
    "\n",
    "After the data was collected from magicbricks.com, it was saved into a file. I've edited this file from the source to make sure that the column names didn't have any commas as we had saved it in a csv format and would cause trouble when it is loaded into a dataframe. "
   ]
  },
  {
   "cell_type": "markdown",
   "metadata": {},
   "source": [
    "First step is to list out the columns available and consider the ones that are important to us. "
   ]
  },
  {
   "cell_type": "code",
   "execution_count": 1,
   "metadata": {},
   "outputs": [
    {
     "name": "stderr",
     "output_type": "stream",
     "text": [
      "C:\\ProgramData\\Anaconda3\\lib\\site-packages\\IPython\\core\\interactiveshell.py:3020: DtypeWarning: Columns (2,5,6,23,25,27,31,38,51,53,59,62,69,74,75,96,98,99,100,103,104,110,111,112) have mixed types. Specify dtype option on import or set low_memory=False.\n",
      "  interactivity=interactivity, compiler=compiler, result=result)\n"
     ]
    },
    {
     "data": {
      "text/plain": [
       "Index(['Unnamed: 0', 'Unnamed: 0.1', 'Balconies', 'Balcony', 'Bathroom',\n",
       "       'Bathrooms', 'Bedroom', 'Bedrooms', 'Car parking', 'Carpet area',\n",
       "       ...\n",
       "       'Type of Ownership', 'Water Availability', 'golden\"', 'v6', '\"',\n",
       "       'park,school', 's', 'Availability', 'Project Name',\n",
       "       'Status of Electricity'],\n",
       "      dtype='object', length=113)"
      ]
     },
     "execution_count": 1,
     "metadata": {},
     "output_type": "execute_result"
    }
   ],
   "source": [
    "import pandas as pd\n",
    "\n",
    "df_loaded = pd.read_csv('URLsDataMaster_2_Edited.csv')\n",
    "df_loaded.columns"
   ]
  },
  {
   "cell_type": "markdown",
   "metadata": {},
   "source": [
    "Among these columns, the ones that I considered are of importance are following:\n",
    "   1. Bedrooms - 'data-bedroomd' column\n",
    "   2. Bathrooms - 'data-bathrooms' column\n",
    "   3. Car parking availability\n",
    "   4. Super area - Area of the house. (Carpet area is not available for all properties. So we will use carpet area)\n",
    "   5. Property type - 'data-propertytype' column\n",
    "   6. Transaction Type - 'Transaction Type' column\n",
    "   7. Locality Rating - Locality rating is retrieved from other file which was created by querying locality ids only\n",
    "   \n",
    "Price(data-price column) will be the prediction output. \n",
    "\n",
    "Initial filtering steps:\n",
    "\n",
    "1. The record should have a title. It can't be null or empty.'\n",
    "2. Mandatory parameters are bathrooms, bedrooms, property type. "
   ]
  },
  {
   "cell_type": "markdown",
   "metadata": {},
   "source": [
    "Drop the unnecessary columns from the Dataframe and examine the records."
   ]
  },
  {
   "cell_type": "code",
   "execution_count": 3,
   "metadata": {},
   "outputs": [
    {
     "data": {
      "text/html": [
       "<div>\n",
       "<style scoped>\n",
       "    .dataframe tbody tr th:only-of-type {\n",
       "        vertical-align: middle;\n",
       "    }\n",
       "\n",
       "    .dataframe tbody tr th {\n",
       "        vertical-align: top;\n",
       "    }\n",
       "\n",
       "    .dataframe thead th {\n",
       "        text-align: right;\n",
       "    }\n",
       "</style>\n",
       "<table border=\"1\" class=\"dataframe\">\n",
       "  <thead>\n",
       "    <tr style=\"text-align: right;\">\n",
       "      <th></th>\n",
       "      <th>Balconies</th>\n",
       "      <th>Balcony</th>\n",
       "      <th>Bathroom</th>\n",
       "      <th>Bathrooms</th>\n",
       "      <th>Bedroom</th>\n",
       "      <th>Bedrooms</th>\n",
       "      <th>Car parking</th>\n",
       "      <th>Carpet area</th>\n",
       "      <th>Floor</th>\n",
       "      <th>Furnished status</th>\n",
       "      <th>...</th>\n",
       "      <th>Type of Ownership</th>\n",
       "      <th>Water Availability</th>\n",
       "      <th>golden\"</th>\n",
       "      <th>v6</th>\n",
       "      <th>\"</th>\n",
       "      <th>park,school</th>\n",
       "      <th>s</th>\n",
       "      <th>Availability</th>\n",
       "      <th>Project Name</th>\n",
       "      <th>Status of Electricity</th>\n",
       "    </tr>\n",
       "  </thead>\n",
       "  <tbody>\n",
       "    <tr>\n",
       "      <th>0</th>\n",
       "      <td>NaN</td>\n",
       "      <td>NaN</td>\n",
       "      <td>NaN</td>\n",
       "      <td>2</td>\n",
       "      <td>NaN</td>\n",
       "      <td>3See DimensionBedroom 113.06 X 11.04 ft</td>\n",
       "      <td>NaN</td>\n",
       "      <td>952sqftsqftsqyrdsqmacrebighahectaremarlakanalb...</td>\n",
       "      <td>13 (Out of 13 Floors)</td>\n",
       "      <td>NaN</td>\n",
       "      <td>...</td>\n",
       "      <td>NaN</td>\n",
       "      <td>NaN</td>\n",
       "      <td>NaN</td>\n",
       "      <td>NaN</td>\n",
       "      <td>NaN</td>\n",
       "      <td>NaN</td>\n",
       "      <td>NaN</td>\n",
       "      <td>NaN</td>\n",
       "      <td>NaN</td>\n",
       "      <td>NaN</td>\n",
       "    </tr>\n",
       "    <tr>\n",
       "      <th>1</th>\n",
       "      <td>NaN</td>\n",
       "      <td>NaN</td>\n",
       "      <td>NaN</td>\n",
       "      <td>3</td>\n",
       "      <td>NaN</td>\n",
       "      <td>3See DimensionsBedroom 111 X 12.9 ftBedroom 2 ...</td>\n",
       "      <td>1 Covered</td>\n",
       "      <td>NaN</td>\n",
       "      <td>6 (Out of 18 Floors)</td>\n",
       "      <td>NaN</td>\n",
       "      <td>...</td>\n",
       "      <td>NaN</td>\n",
       "      <td>NaN</td>\n",
       "      <td>NaN</td>\n",
       "      <td>NaN</td>\n",
       "      <td>NaN</td>\n",
       "      <td>NaN</td>\n",
       "      <td>NaN</td>\n",
       "      <td>NaN</td>\n",
       "      <td>NaN</td>\n",
       "      <td>NaN</td>\n",
       "    </tr>\n",
       "    <tr>\n",
       "      <th>2</th>\n",
       "      <td>NaN</td>\n",
       "      <td>NaN</td>\n",
       "      <td>NaN</td>\n",
       "      <td>5</td>\n",
       "      <td>NaN</td>\n",
       "      <td>5</td>\n",
       "      <td>None</td>\n",
       "      <td>NaN</td>\n",
       "      <td>NaN</td>\n",
       "      <td>Unfurnished</td>\n",
       "      <td>...</td>\n",
       "      <td>NaN</td>\n",
       "      <td>NaN</td>\n",
       "      <td>NaN</td>\n",
       "      <td>NaN</td>\n",
       "      <td>NaN</td>\n",
       "      <td>NaN</td>\n",
       "      <td>NaN</td>\n",
       "      <td>NaN</td>\n",
       "      <td>NaN</td>\n",
       "      <td>NaN</td>\n",
       "    </tr>\n",
       "    <tr>\n",
       "      <th>3</th>\n",
       "      <td>NaN</td>\n",
       "      <td>NaN</td>\n",
       "      <td>NaN</td>\n",
       "      <td>3</td>\n",
       "      <td>NaN</td>\n",
       "      <td>3</td>\n",
       "      <td>None</td>\n",
       "      <td>NaN</td>\n",
       "      <td>NaN</td>\n",
       "      <td>Unfurnished</td>\n",
       "      <td>...</td>\n",
       "      <td>NaN</td>\n",
       "      <td>NaN</td>\n",
       "      <td>NaN</td>\n",
       "      <td>NaN</td>\n",
       "      <td>NaN</td>\n",
       "      <td>NaN</td>\n",
       "      <td>NaN</td>\n",
       "      <td>NaN</td>\n",
       "      <td>NaN</td>\n",
       "      <td>NaN</td>\n",
       "    </tr>\n",
       "    <tr>\n",
       "      <th>4</th>\n",
       "      <td>NaN</td>\n",
       "      <td>NaN</td>\n",
       "      <td>NaN</td>\n",
       "      <td>2</td>\n",
       "      <td>NaN</td>\n",
       "      <td>2</td>\n",
       "      <td>1 Covered</td>\n",
       "      <td>NaN</td>\n",
       "      <td>NaN</td>\n",
       "      <td>NaN</td>\n",
       "      <td>...</td>\n",
       "      <td>NaN</td>\n",
       "      <td>NaN</td>\n",
       "      <td>NaN</td>\n",
       "      <td>NaN</td>\n",
       "      <td>NaN</td>\n",
       "      <td>NaN</td>\n",
       "      <td>NaN</td>\n",
       "      <td>NaN</td>\n",
       "      <td>NaN</td>\n",
       "      <td>NaN</td>\n",
       "    </tr>\n",
       "  </tbody>\n",
       "</table>\n",
       "<p>5 rows × 111 columns</p>\n",
       "</div>"
      ],
      "text/plain": [
       "  Balconies  Balcony  Bathroom Bathrooms Bedroom  \\\n",
       "0       NaN      NaN       NaN         2     NaN   \n",
       "1       NaN      NaN       NaN         3     NaN   \n",
       "2       NaN      NaN       NaN         5     NaN   \n",
       "3       NaN      NaN       NaN         3     NaN   \n",
       "4       NaN      NaN       NaN         2     NaN   \n",
       "\n",
       "                                            Bedrooms Car parking  \\\n",
       "0            3See DimensionBedroom 113.06 X 11.04 ft         NaN   \n",
       "1  3See DimensionsBedroom 111 X 12.9 ftBedroom 2 ...   1 Covered   \n",
       "2                                                  5        None   \n",
       "3                                                  3        None   \n",
       "4                                                  2   1 Covered   \n",
       "\n",
       "                                         Carpet area                  Floor  \\\n",
       "0  952sqftsqftsqyrdsqmacrebighahectaremarlakanalb...  13 (Out of 13 Floors)   \n",
       "1                                                NaN   6 (Out of 18 Floors)   \n",
       "2                                                NaN                    NaN   \n",
       "3                                                NaN                    NaN   \n",
       "4                                                NaN                    NaN   \n",
       "\n",
       "  Furnished status          ...           Type of Ownership  \\\n",
       "0              NaN          ...                         NaN   \n",
       "1              NaN          ...                         NaN   \n",
       "2      Unfurnished          ...                         NaN   \n",
       "3      Unfurnished          ...                         NaN   \n",
       "4              NaN          ...                         NaN   \n",
       "\n",
       "  Water Availability  golden\"  v6   \" park,school   s  Availability  \\\n",
       "0                NaN      NaN NaN NaN         NaN NaN           NaN   \n",
       "1                NaN      NaN NaN NaN         NaN NaN           NaN   \n",
       "2                NaN      NaN NaN NaN         NaN NaN           NaN   \n",
       "3                NaN      NaN NaN NaN         NaN NaN           NaN   \n",
       "4                NaN      NaN NaN NaN         NaN NaN           NaN   \n",
       "\n",
       "   Project Name  Status of Electricity  \n",
       "0           NaN                    NaN  \n",
       "1           NaN                    NaN  \n",
       "2           NaN                    NaN  \n",
       "3           NaN                    NaN  \n",
       "4           NaN                    NaN  \n",
       "\n",
       "[5 rows x 111 columns]"
      ]
     },
     "execution_count": 3,
     "metadata": {},
     "output_type": "execute_result"
    }
   ],
   "source": [
    "df_loaded.drop(['Unnamed: 0', 'Unnamed: 0.1'], axis=1, inplace=True)\n",
    "df_loaded.head(5)"
   ]
  },
  {
   "cell_type": "code",
   "execution_count": 12,
   "metadata": {},
   "outputs": [],
   "source": [
    "df_loaded.dropna(subset=['data-title', 'data-bathrooms','data-bedroomd','data-propertytype', 'Transaction type'], inplace=True)"
   ]
  },
  {
   "cell_type": "markdown",
   "metadata": {},
   "source": [
    "Examine the dataset again."
   ]
  },
  {
   "cell_type": "code",
   "execution_count": 13,
   "metadata": {},
   "outputs": [
    {
     "name": "stdout",
     "output_type": "stream",
     "text": [
      "26357\n"
     ]
    },
    {
     "data": {
      "text/html": [
       "<div>\n",
       "<style scoped>\n",
       "    .dataframe tbody tr th:only-of-type {\n",
       "        vertical-align: middle;\n",
       "    }\n",
       "\n",
       "    .dataframe tbody tr th {\n",
       "        vertical-align: top;\n",
       "    }\n",
       "\n",
       "    .dataframe thead th {\n",
       "        text-align: right;\n",
       "    }\n",
       "</style>\n",
       "<table border=\"1\" class=\"dataframe\">\n",
       "  <thead>\n",
       "    <tr style=\"text-align: right;\">\n",
       "      <th></th>\n",
       "      <th>Balconies</th>\n",
       "      <th>Balcony</th>\n",
       "      <th>Bathroom</th>\n",
       "      <th>Bathrooms</th>\n",
       "      <th>Bedroom</th>\n",
       "      <th>Bedrooms</th>\n",
       "      <th>Car parking</th>\n",
       "      <th>Carpet area</th>\n",
       "      <th>Floor</th>\n",
       "      <th>Furnished status</th>\n",
       "      <th>...</th>\n",
       "      <th>golden\"</th>\n",
       "      <th>v6</th>\n",
       "      <th>\"</th>\n",
       "      <th>park,school</th>\n",
       "      <th>s</th>\n",
       "      <th>Availability</th>\n",
       "      <th>Project Name</th>\n",
       "      <th>Status of Electricity</th>\n",
       "      <th>superArea</th>\n",
       "      <th>carP1</th>\n",
       "    </tr>\n",
       "  </thead>\n",
       "  <tbody>\n",
       "    <tr>\n",
       "      <th>0</th>\n",
       "      <td>NaN</td>\n",
       "      <td>NaN</td>\n",
       "      <td>NaN</td>\n",
       "      <td>2</td>\n",
       "      <td>NaN</td>\n",
       "      <td>3See DimensionBedroom 113.06 X 11.04 ft</td>\n",
       "      <td>NaN</td>\n",
       "      <td>952sqftsqftsqyrdsqmacrebighahectaremarlakanalb...</td>\n",
       "      <td>13 (Out of 13 Floors)</td>\n",
       "      <td>NaN</td>\n",
       "      <td>...</td>\n",
       "      <td>NaN</td>\n",
       "      <td>NaN</td>\n",
       "      <td>NaN</td>\n",
       "      <td>NaN</td>\n",
       "      <td>NaN</td>\n",
       "      <td>NaN</td>\n",
       "      <td>NaN</td>\n",
       "      <td>NaN</td>\n",
       "      <td>1435</td>\n",
       "      <td>1</td>\n",
       "    </tr>\n",
       "    <tr>\n",
       "      <th>1</th>\n",
       "      <td>NaN</td>\n",
       "      <td>NaN</td>\n",
       "      <td>NaN</td>\n",
       "      <td>3</td>\n",
       "      <td>NaN</td>\n",
       "      <td>3See DimensionsBedroom 111 X 12.9 ftBedroom 2 ...</td>\n",
       "      <td>1 Covered</td>\n",
       "      <td>NaN</td>\n",
       "      <td>6 (Out of 18 Floors)</td>\n",
       "      <td>NaN</td>\n",
       "      <td>...</td>\n",
       "      <td>NaN</td>\n",
       "      <td>NaN</td>\n",
       "      <td>NaN</td>\n",
       "      <td>NaN</td>\n",
       "      <td>NaN</td>\n",
       "      <td>NaN</td>\n",
       "      <td>NaN</td>\n",
       "      <td>NaN</td>\n",
       "      <td>1814</td>\n",
       "      <td>1</td>\n",
       "    </tr>\n",
       "    <tr>\n",
       "      <th>2</th>\n",
       "      <td>NaN</td>\n",
       "      <td>NaN</td>\n",
       "      <td>NaN</td>\n",
       "      <td>5</td>\n",
       "      <td>NaN</td>\n",
       "      <td>5</td>\n",
       "      <td>None</td>\n",
       "      <td>NaN</td>\n",
       "      <td>NaN</td>\n",
       "      <td>Unfurnished</td>\n",
       "      <td>...</td>\n",
       "      <td>NaN</td>\n",
       "      <td>NaN</td>\n",
       "      <td>NaN</td>\n",
       "      <td>NaN</td>\n",
       "      <td>NaN</td>\n",
       "      <td>NaN</td>\n",
       "      <td>NaN</td>\n",
       "      <td>NaN</td>\n",
       "      <td>3842</td>\n",
       "      <td>0</td>\n",
       "    </tr>\n",
       "    <tr>\n",
       "      <th>3</th>\n",
       "      <td>NaN</td>\n",
       "      <td>NaN</td>\n",
       "      <td>NaN</td>\n",
       "      <td>3</td>\n",
       "      <td>NaN</td>\n",
       "      <td>3</td>\n",
       "      <td>None</td>\n",
       "      <td>NaN</td>\n",
       "      <td>NaN</td>\n",
       "      <td>Unfurnished</td>\n",
       "      <td>...</td>\n",
       "      <td>NaN</td>\n",
       "      <td>NaN</td>\n",
       "      <td>NaN</td>\n",
       "      <td>NaN</td>\n",
       "      <td>NaN</td>\n",
       "      <td>NaN</td>\n",
       "      <td>NaN</td>\n",
       "      <td>NaN</td>\n",
       "      <td>1538</td>\n",
       "      <td>0</td>\n",
       "    </tr>\n",
       "    <tr>\n",
       "      <th>4</th>\n",
       "      <td>NaN</td>\n",
       "      <td>NaN</td>\n",
       "      <td>NaN</td>\n",
       "      <td>2</td>\n",
       "      <td>NaN</td>\n",
       "      <td>2</td>\n",
       "      <td>1 Covered</td>\n",
       "      <td>NaN</td>\n",
       "      <td>NaN</td>\n",
       "      <td>NaN</td>\n",
       "      <td>...</td>\n",
       "      <td>NaN</td>\n",
       "      <td>NaN</td>\n",
       "      <td>NaN</td>\n",
       "      <td>NaN</td>\n",
       "      <td>NaN</td>\n",
       "      <td>NaN</td>\n",
       "      <td>NaN</td>\n",
       "      <td>NaN</td>\n",
       "      <td>1405</td>\n",
       "      <td>1</td>\n",
       "    </tr>\n",
       "  </tbody>\n",
       "</table>\n",
       "<p>5 rows × 113 columns</p>\n",
       "</div>"
      ],
      "text/plain": [
       "  Balconies  Balcony  Bathroom Bathrooms Bedroom  \\\n",
       "0       NaN      NaN       NaN         2     NaN   \n",
       "1       NaN      NaN       NaN         3     NaN   \n",
       "2       NaN      NaN       NaN         5     NaN   \n",
       "3       NaN      NaN       NaN         3     NaN   \n",
       "4       NaN      NaN       NaN         2     NaN   \n",
       "\n",
       "                                            Bedrooms Car parking  \\\n",
       "0            3See DimensionBedroom 113.06 X 11.04 ft         NaN   \n",
       "1  3See DimensionsBedroom 111 X 12.9 ftBedroom 2 ...   1 Covered   \n",
       "2                                                  5        None   \n",
       "3                                                  3        None   \n",
       "4                                                  2   1 Covered   \n",
       "\n",
       "                                         Carpet area                  Floor  \\\n",
       "0  952sqftsqftsqyrdsqmacrebighahectaremarlakanalb...  13 (Out of 13 Floors)   \n",
       "1                                                NaN   6 (Out of 18 Floors)   \n",
       "2                                                NaN                    NaN   \n",
       "3                                                NaN                    NaN   \n",
       "4                                                NaN                    NaN   \n",
       "\n",
       "  Furnished status  ...   golden\"  v6   \" park,school   s Availability  \\\n",
       "0              NaN  ...       NaN NaN NaN         NaN NaN          NaN   \n",
       "1              NaN  ...       NaN NaN NaN         NaN NaN          NaN   \n",
       "2      Unfurnished  ...       NaN NaN NaN         NaN NaN          NaN   \n",
       "3      Unfurnished  ...       NaN NaN NaN         NaN NaN          NaN   \n",
       "4              NaN  ...       NaN NaN NaN         NaN NaN          NaN   \n",
       "\n",
       "  Project Name  Status of Electricity  superArea  carP1  \n",
       "0          NaN                    NaN       1435      1  \n",
       "1          NaN                    NaN       1814      1  \n",
       "2          NaN                    NaN       3842      0  \n",
       "3          NaN                    NaN       1538      0  \n",
       "4          NaN                    NaN       1405      1  \n",
       "\n",
       "[5 rows x 113 columns]"
      ]
     },
     "execution_count": 13,
     "metadata": {},
     "output_type": "execute_result"
    }
   ],
   "source": [
    "print(len(df_loaded))\n",
    "df_loaded.head(5)"
   ]
  },
  {
   "cell_type": "markdown",
   "metadata": {},
   "source": [
    "Let's examine the column of 'Super area'. "
   ]
  },
  {
   "cell_type": "code",
   "execution_count": 6,
   "metadata": {},
   "outputs": [
    {
     "data": {
      "text/plain": [
       "0    1435sqftsqftsqyrdsqmacrebighahectaremarlakanal...\n",
       "1    1814sqftsqftsqyrdsqmacrebighahectaremarlakanal...\n",
       "2    3842sqftsqftsqyrdsqmacrebighahectaremarlakanal...\n",
       "3    1538sqftsqftsqyrdsqmacrebighahectaremarlakanal...\n",
       "4    1405sqftsqftsqyrdsqmacrebighahectaremarlakanal...\n",
       "Name: Super area, dtype: object"
      ]
     },
     "execution_count": 6,
     "metadata": {},
     "output_type": "execute_result"
    }
   ],
   "source": [
    "df_loaded['Super area'].head(5)"
   ]
  },
  {
   "cell_type": "markdown",
   "metadata": {},
   "source": [
    "We see that it is of string type with lot of text in each record. What we want is just the first 3-6 digits which show the exact area. Below function, which uses the regular expression, will help extract the area."
   ]
  },
  {
   "cell_type": "code",
   "execution_count": 9,
   "metadata": {},
   "outputs": [],
   "source": [
    "import re\n",
    "def extract_area(st):\n",
    "    st = str(st)\n",
    "    st = st.replace(',','')\n",
    "    ars = re.findall(r'\\d{3,6}',st)\n",
    "    if len(ars) > 0:\n",
    "        return int(ars[0])\n",
    "    else:        \n",
    "        return 0\n",
    "\n",
    "df_loaded['superArea'] = [extract_area(st) for st in df_loaded['Super area']]"
   ]
  },
  {
   "cell_type": "markdown",
   "metadata": {},
   "source": [
    "Next up is Car parking. We are taking it as a boolean where just the availability of the car parking is considered. Below, we will create a new column 'carP1' which has this transformation of car parking. Before that, we will replace the consider the ones without values (default value) as None meaning no parking available. The other parameter which has to be filled with default values for NaNs is the data-bathrooms(This is because there can't be a property without at least on of these). "
   ]
  },
  {
   "cell_type": "code",
   "execution_count": 20,
   "metadata": {},
   "outputs": [],
   "source": [
    "df_loaded.fillna(value={'data-bathrooms':1,'Car parking':'None'},inplace=True)\n",
    "\n",
    "def carParks(x):\n",
    "    if x == 'None':\n",
    "        return 0 \n",
    "    else: \n",
    "        return 1\n",
    "    \n",
    "df_loaded['carP1'] = [carParks(x) for x in df_loaded['Car parking']]"
   ]
  },
  {
   "cell_type": "markdown",
   "metadata": {},
   "source": [
    "Now let's see the 'Transaction type' column. "
   ]
  },
  {
   "cell_type": "code",
   "execution_count": 14,
   "metadata": {},
   "outputs": [
    {
     "data": {
      "text/plain": [
       "array(['New Property', 'Resale', 'Rent'], dtype=object)"
      ]
     },
     "execution_count": 14,
     "metadata": {},
     "output_type": "execute_result"
    }
   ],
   "source": [
    "df_loaded['Transaction type'].unique()"
   ]
  },
  {
   "cell_type": "markdown",
   "metadata": {},
   "source": [
    "We only want to predict the prices of the properties being sold. So, we will drop the 'Rent's"
   ]
  },
  {
   "cell_type": "code",
   "execution_count": 16,
   "metadata": {},
   "outputs": [],
   "source": [
    "df_loaded = df_loaded[(df_loaded['Transaction type'] != 'Rent')]"
   ]
  },
  {
   "cell_type": "code",
   "execution_count": 28,
   "metadata": {},
   "outputs": [
    {
     "data": {
      "text/plain": [
       "array(['Under Construction', 'Ready to Move', nan], dtype=object)"
      ]
     },
     "execution_count": 28,
     "metadata": {},
     "output_type": "execute_result"
    }
   ],
   "source": [
    "df_loaded['data-possessionstatus'].unique()"
   ]
  },
  {
   "cell_type": "code",
   "execution_count": 29,
   "metadata": {},
   "outputs": [
    {
     "data": {
      "text/plain": [
       "array([ 79613.,  80361.,  89025.,  89358.,  80326.,  81971., 102497.,\n",
       "        87713.,  95570.,  80059., 107299.,  84226.,  87738.,  88527.,\n",
       "        89374.,  89668.,  80058., 102724.,  89912., 105564.,  79525.,\n",
       "        79594.,  82097.,  80298.,  79482.,  79507.,  79562., 107969.,\n",
       "       102621.,  79489.,  86579.,  79498.,  85612.,  81960., 103081.,\n",
       "        84172., 102223., 102593.,  80349.,  79524., 103046.,  95415.,\n",
       "       102389.,  80398.,  84752.,  79566.,  90364.,  80353.,  80474.,\n",
       "        79483., 102767.,  79522.,  89882., 102393.,  95476.,  84119.,\n",
       "       102412., 102656.,  79561.,  90265.,  80316.,  79603., 102718.,\n",
       "        95584., 102057.,  80367.,  90528.,  86589.,  79509.,  87357.,\n",
       "        80071.,  80057., 102633.,  79587.,  84491.,     nan,  79517.,\n",
       "        81051.,  82095.,  81965., 102302., 103129.,  79504., 102589.,\n",
       "       102906., 102175., 103611.,  85619., 102819.,  85244.,  79487.,\n",
       "       102995., 102231.,  87647., 102350., 106541.,  86573., 102450.,\n",
       "       102076.,  79578., 102874.,  89907.,  79553.,  79485.,  80095.,\n",
       "        80324.,  79550., 102618.,  55940., 103716., 102835., 103755.,\n",
       "       102811.,  80401., 102848., 103013., 102094., 102203.,  95658.,\n",
       "        84404.,  79523.,  82106., 102476.,  79609.,  81940.,  80099.,\n",
       "        79565.,  88675.,  79581.,  56076.,  80310.,  89908.,  79496.,\n",
       "        79580.,  85239.,  82113.,  55893.,  84009.,  80060., 102148.,\n",
       "        82107.,  90974., 107244., 105514., 102117.,  95414., 103186.,\n",
       "        84213.,  81949., 102110.,  84702.,  89339., 105157.,  87363.,\n",
       "        79570.,  83744.,  79574., 106411., 102052.,  79519., 102404.,\n",
       "       104948., 102970., 102631., 103217., 102728.,  81944., 101983.,\n",
       "        86588.,  87373., 101831.,  84211.,  80064.,  79605., 102019.,\n",
       "        79595.,  84014.,  95490., 106427.,  95461., 107583.,  79480.,\n",
       "        84221., 105515.,  80345.,  79513., 102745.,  79481.,  80066.,\n",
       "        82006., 102662.,  85934., 102560., 104166., 104958.,  89927.,\n",
       "       102756.,  95719., 104929., 102740., 103073., 102069., 103212.,\n",
       "       102768.,  81927., 101903., 104509.,  87508.,  84750., 102082.,\n",
       "       106410., 102856., 102473.,  79585.,  85236., 102501.,  80070.,\n",
       "        88895.,  90267.,  79538.,  79505.,  79620.,  79492.,  79639.,\n",
       "       102647., 102002., 102992.,  85229.,  79571.,  80502., 102121.,\n",
       "       103219., 102765.,  81925.,  84220., 103057., 103086.,  79579.,\n",
       "        89645., 102113.,  79647.,  89487.,  79493.,  89538.,  86581.,\n",
       "       102741., 102377.,  80356., 101984.,  84144.,  84396.,  81941.,\n",
       "        80455., 101923.,  95491.,  81948., 102364., 101846.,  84111.,\n",
       "       103215., 103663.,  84641., 102180.,  79506.,  85009.,  81917.,\n",
       "       102376., 102407., 101902.,  81943.,  79604.,  80363., 102112.,\n",
       "        85237., 106831., 102149.,  79645.,  80080., 101848., 102559.,\n",
       "       103070., 102734., 102638., 102562.,  80383.,  86587.,  55914.,\n",
       "        55978.,  84175., 102521., 102641.,  80503.,  90257., 102654.,\n",
       "        80438.,  80061.,  79486., 101910., 102544., 102960., 102721.,\n",
       "        79646.,  79535.,  90747., 102554.,  95660., 102277., 102118.,\n",
       "       101890., 101905., 101872., 102548., 106152.,  80384.,  84007.,\n",
       "        79563.,  82014., 102649., 102406.,  81921.,  55974., 102899.,\n",
       "       102686., 102539.,  80315.,  79598.,  55913.,  95718., 106429.,\n",
       "       102252.,  79488., 102157., 102245., 102726.,  80497.,  80374.,\n",
       "       101901., 102371., 102517.,  79510., 102524.,  80369.,  80063.,\n",
       "        84508., 101970., 106423.,  84390.,  82644., 102415., 102730.,\n",
       "        80372., 102290.,  80394., 102068., 102201., 102597.,  80421.,\n",
       "        80314., 102198.,  79536., 102366., 102658.,  80440., 102107.,\n",
       "        90488., 102587.,  80069., 102020., 103074.,  90138.,  80452.,\n",
       "       102547.,  79583., 103097.,  80500., 104693.,  87723., 102585.,\n",
       "        79584.,  96100.,  82100., 102564., 106158., 102307., 102839.,\n",
       "        90028., 103768.,  84135.,  80392., 103125., 102733.,  80341.,\n",
       "        95419.,  95474.,  84012.,  84013.,  96152.,  85013., 101986.,\n",
       "       102380., 102313.,  79511., 103170., 102304., 102402., 101909.,\n",
       "        79540., 101975., 101936., 102936., 102055.,  80067.,  84006.,\n",
       "        79623.,  79640.,  79607.,  79567., 102596.,  80302., 103199.,\n",
       "        79582., 103075., 102624., 102991., 103118., 102134., 102024.,\n",
       "       101985., 102445.,  80411.,  79627., 101918., 102116., 102392.,\n",
       "        80482.,  85245., 102270.,  89551., 102021., 102292., 106419.,\n",
       "        82633., 102051., 102049., 102720.,  79615.,  79589.,  80309.,\n",
       "        95271.,  86593., 102343., 103068.,  79490.,  80397., 102418.,\n",
       "       102965.,  88702.,  81044., 103739., 103083.,  89359., 101844.,\n",
       "        90004.,  87361.,  81049.,  89006.,  80325., 102846.,  84228.,\n",
       "       102528., 102000., 103204.,  89373.,  79576.,  87706., 104004.,\n",
       "        80449., 102297.,  81936., 102625.,  80344., 102408., 103033.,\n",
       "        95744.,  80321.,  85007.,  81922., 104881., 103143., 102865.,\n",
       "        90999., 101888.,  79633.,  84386., 102657., 102128., 102598.,\n",
       "       101887., 101840., 102778.,  80406., 102541.,  80299., 102388.,\n",
       "        87362.,  79502., 102852., 102799., 102844., 101938.,  79526.,\n",
       "        96150.,  80379., 102356.,  89277., 102437., 102255.,  80078.,\n",
       "       101920., 103131., 102860.,  80483., 101829., 102609., 102321.,\n",
       "       102491., 102289., 101854., 105151., 104944., 102572., 105911.,\n",
       "       102673., 103206.,  85014.,  85924., 102962., 102405., 102575.,\n",
       "       102449.,  79591.,  80362.,  80385.,  80313., 101908., 102746.,\n",
       "       102291., 102714., 102972., 102831., 102713., 102181., 102813.,\n",
       "        80441.,  79527., 101963., 102849., 102583., 102046., 104943.,\n",
       "        82650., 103088.,  80454., 103069., 102891., 102352., 106432.,\n",
       "       102807., 104611., 102910., 107539., 107135., 102727., 101961.,\n",
       "        89933., 103176., 103712., 102588., 102549., 102616., 102586.,\n",
       "       101950.,  90995., 102845., 102179., 101835.,  89939.,  80425.,\n",
       "        86578.,  89833., 102060.,  86569., 102011.,  79543., 102229.,\n",
       "       102550.,  80484., 102731.,  84703.,  80427., 102114., 102805.,\n",
       "       102209., 102506.,  80318., 102900.,  85004., 102873.,  91044.,\n",
       "        79514., 102553., 107350., 102205., 103015.,  90052., 101949.,\n",
       "       102160., 102451., 560085., 107366., 102207.,  79479.,  79529.,\n",
       "       102722., 103102., 102474., 102671., 101919., 105853., 105156.,\n",
       "       103065.,  80348., 102363., 102370., 102204.,  79508., 103026.,\n",
       "        85931.,  81961., 102927., 106937.,  80351., 102694.,  80488.,\n",
       "        89128.,  79631., 102963., 103085., 102419., 102605.,  84153.,\n",
       "       103077.,  80396., 102396.,  81933., 102795., 102639., 102409.,\n",
       "       102315.,  79606., 102516., 103024., 102911., 103014., 105834.,\n",
       "        79542., 102394., 102675., 102161.,  79532., 102841.,  80294.,\n",
       "       102390., 102678., 102075., 101861.,  95560.,  82634.,  85936.,\n",
       "       102793., 103044., 101911., 103100.,  79552., 102918., 102869.,\n",
       "       107133., 102917., 103134.,  85001., 102379., 102682., 105153.,\n",
       "       102234.,  90134., 102073., 102182., 102968., 107650., 102922.,\n",
       "       102498., 102985., 102764.,  89073., 102022., 101904., 102620.,\n",
       "       106404.,  79569., 102465., 102269.,  80417., 101935., 102417.,\n",
       "       106412., 103090.,  84150.,  88864.,  84395.,  84174., 102637.,\n",
       "        89279.,  90075.,  80477.,  85939., 102710., 102876., 102480.,\n",
       "       101930., 103056.,  80436.,  80306.,  80487., 102293., 102447.,\n",
       "       102518., 103016.,  80443., 101978., 102909., 102246.,  84243.,\n",
       "       103034., 102573.,  80358., 102820.,  93861., 101838., 106422.,\n",
       "        81930.,  82001., 103201.,  79547., 102794.,  79592., 102184.,\n",
       "       104740.,  80322., 102070.,  79528., 103164., 102505.,  90008.,\n",
       "        79545., 102502., 103169., 103203.,  79644., 102374., 102818.,\n",
       "       102998.,  80391., 102236.,  82630.,  90983., 102602., 101943.,\n",
       "       107609., 106428., 102514., 102715., 102353., 102864., 102833.,\n",
       "        82101.,  81964., 102816., 102645., 102903., 102737.,  86577.,\n",
       "       102503.,  89577., 101945.,  95441., 102482.,  95270., 104947.,\n",
       "       102368., 102847.,  84585., 102225., 102948.,  90398., 102286.,\n",
       "        80370.,  81955.,  89103.,  79622., 102781., 102627., 102987.,\n",
       "       102640.,  84008.,  80354., 102827., 102115., 102037., 106436.,\n",
       "        90636., 102096., 102800.,  84705.,  80328., 104965., 102629.,\n",
       "       102950., 102151.,  79531.,  80423., 103039., 102440., 102504.,\n",
       "       102815.,  80495., 102227., 102427., 102681., 106277., 102870.,\n",
       "       102202., 102880.,  80312.,  80293., 102050., 102964., 106440.,\n",
       "        79521., 103027., 102226., 102273., 102446., 102108., 102258.,\n",
       "       102466., 103213., 102387.,  89478., 102127., 102660., 104967.,\n",
       "        82002., 101873., 101921., 102173., 102249.,  80098.,  79516.,\n",
       "        80504.,  79630.,  95724.,  81914.,  85616., 102253., 102062.,\n",
       "        80359., 102410., 106414., 102974., 102152., 102067., 103152.,\n",
       "       102652., 102546., 102200., 102472., 102219.,  91054., 102680.,\n",
       "       102089., 103076., 102698., 102739., 102622.,  79494.,  84136.,\n",
       "       102391.,  79534., 103177., 102072.,  80446., 102613.,  80434.,\n",
       "       103166., 102159., 102251.,  82646.,  89619., 102080., 101833.,\n",
       "        79559.,  79641., 102772.,  79557., 103207., 101959., 102283.,\n",
       "       102119., 102996.,  80317., 101862.,  84011., 102543.,  79554.,\n",
       "       103089., 103019.,  85234., 103017.,  87665., 102288., 102792.,\n",
       "       105138.,  84707., 101937., 102443.,  79503., 102507., 102104.,\n",
       "       103000., 102956., 101973., 101968.,  91079.,  82011., 106563.,\n",
       "        79500., 102422.,  84748.])"
      ]
     },
     "execution_count": 29,
     "metadata": {},
     "output_type": "execute_result"
    }
   ],
   "source": [
    "df_loaded['data-localityid'].unique()"
   ]
  },
  {
   "cell_type": "markdown",
   "metadata": {},
   "source": [
    "Next, we see that there are NaN values in data-localityid and data-possessionstatus columns. As there can't be properties without any locality and possession status, we will filter out these records as well"
   ]
  },
  {
   "cell_type": "code",
   "execution_count": 30,
   "metadata": {},
   "outputs": [],
   "source": [
    "df_loaded.dropna(subset=['data-localityid','data-possessionstatus'],inplace=True)"
   ]
  },
  {
   "cell_type": "markdown",
   "metadata": {},
   "source": [
    "Now let's look at the bedroom and bathrooms columns. These columns should be numeric. "
   ]
  },
  {
   "cell_type": "code",
   "execution_count": 31,
   "metadata": {},
   "outputs": [
    {
     "data": {
      "text/plain": [
       "array([2.0, 3.0, 5.0, 1.0, 4.0, '5.0', '3.0', '2.0', '1.0', '4.0', '2',\n",
       "       '3', '4', '5', '1', '> 10', '6', '10', '9', '8', '7'], dtype=object)"
      ]
     },
     "execution_count": 31,
     "metadata": {},
     "output_type": "execute_result"
    }
   ],
   "source": [
    "df_loaded['data-bathrooms'].unique()"
   ]
  },
  {
   "cell_type": "code",
   "execution_count": 32,
   "metadata": {},
   "outputs": [
    {
     "data": {
      "text/plain": [
       "array([3, 5, 2, 1, 4, '5', '3', '2', '1', '4', '10-plus', '10', '6', '9',\n",
       "       '7', '8'], dtype=object)"
      ]
     },
     "execution_count": 32,
     "metadata": {},
     "output_type": "execute_result"
    }
   ],
   "source": [
    "df_loaded['data-bedroomd'].unique()"
   ]
  },
  {
   "cell_type": "markdown",
   "metadata": {},
   "source": [
    "We see that there are some string objects. '10-plus' and '> 10'. Let's replace these with 11 and also convert these columns to numeric."
   ]
  },
  {
   "cell_type": "code",
   "execution_count": 33,
   "metadata": {},
   "outputs": [],
   "source": [
    "df_loaded['data-bedroomd'].replace('10-plus','11',inplace=True)\n",
    "df_loaded['data-bathrooms'].replace('> 10','11',inplace=True)\n",
    "df_loaded['data-bathrooms'] = pd.to_numeric(df_loaded['data-bathrooms'])\n",
    "df_loaded['data-bedroomd'] = pd.to_numeric(df_loaded['data-bedroomd'])"
   ]
  },
  {
   "cell_type": "markdown",
   "metadata": {},
   "source": [
    "Now let's look at the numeric data. First the superArea"
   ]
  },
  {
   "cell_type": "code",
   "execution_count": 39,
   "metadata": {},
   "outputs": [
    {
     "data": {
      "text/plain": [
       "<matplotlib.axes._subplots.AxesSubplot at 0x13b0da9e8>"
      ]
     },
     "execution_count": 39,
     "metadata": {},
     "output_type": "execute_result"
    },
    {
     "data": {
      "image/png": "[encoded data removed]",
      "text/plain": [
       "<Figure size 432x288 with 1 Axes>"
      ]
     },
     "metadata": {
      "needs_background": "light"
     },
     "output_type": "display_data"
    }
   ],
   "source": [
    "df_loaded.boxplot('superArea')"
   ]
  },
  {
   "cell_type": "markdown",
   "metadata": {},
   "source": [
    "We see that there are outliers here with values much greater than 5000. So, we can have a filter to consider the records with area < 5500 and at least 500. (Having a minimum makes sense)"
   ]
  },
  {
   "cell_type": "code",
   "execution_count": 40,
   "metadata": {},
   "outputs": [],
   "source": [
    "df_loaded = df_loaded[(df_loaded.superArea < 5500) & (df_loaded.superArea > 500)]"
   ]
  },
  {
   "cell_type": "markdown",
   "metadata": {},
   "source": [
    "Next up is the property price."
   ]
  },
  {
   "cell_type": "code",
   "execution_count": 41,
   "metadata": {},
   "outputs": [
    {
     "data": {
      "text/plain": [
       "<matplotlib.axes._subplots.AxesSubplot at 0x13ccba550>"
      ]
     },
     "execution_count": 41,
     "metadata": {},
     "output_type": "execute_result"
    },
    {
     "data": {
      "image/png": "[encoded data removed]",
      "text/plain": [
       "<Figure size 432x288 with 1 Axes>"
      ]
     },
     "metadata": {
      "needs_background": "light"
     },
     "output_type": "display_data"
    }
   ],
   "source": [
    "df_loaded.boxplot('data-price')"
   ]
  },
  {
   "cell_type": "code",
   "execution_count": 49,
   "metadata": {
    "scrolled": true
   },
   "outputs": [
    {
     "data": {
      "text/plain": [
       "21021    2100000.0\n",
       "22217    2100000.0\n",
       "17853    2100000.0\n",
       "21390    2150000.0\n",
       "25106    2160000.0\n",
       "24902    2200000.0\n",
       "16987    2200000.0\n",
       "25345    2200000.0\n",
       "24717    2200000.0\n",
       "17061    2200000.0\n",
       "22684    2200000.0\n",
       "24516    2200000.0\n",
       "25244    2200000.0\n",
       "17486    2200000.0\n",
       "20542    2200000.0\n",
       "15651    2200000.0\n",
       "24631    2200000.0\n",
       "15629    2200000.0\n",
       "17307    2240000.0\n",
       "24337    2300000.0\n",
       "Name: data-price, dtype: float64"
      ]
     },
     "execution_count": 49,
     "metadata": {},
     "output_type": "execute_result"
    }
   ],
   "source": [
    "df_loaded['data-price'].sort_values(ascending=True).iloc[100:120]"
   ]
  },
  {
   "cell_type": "code",
   "execution_count": 50,
   "metadata": {},
   "outputs": [
    {
     "data": {
      "text/plain": [
       "25507    1.600000e+10\n",
       "25468    6.000000e+09\n",
       "19730    1.200000e+08\n",
       "25521    8.000000e+07\n",
       "15392    7.700000e+07\n",
       "16847    7.700000e+07\n",
       "25470    7.200000e+07\n",
       "24781    6.700000e+07\n",
       "25477    6.500000e+07\n",
       "16269    6.500000e+07\n",
       "16844    6.300000e+07\n",
       "16664    6.250000e+07\n",
       "15820    6.000000e+07\n",
       "17404    5.900020e+07\n",
       "24501    5.830000e+07\n",
       "4977     5.770000e+07\n",
       "12117    5.770000e+07\n",
       "14847    5.770000e+07\n",
       "8727     5.770000e+07\n",
       "2187     5.770000e+07\n",
       "Name: data-price, dtype: float64"
      ]
     },
     "execution_count": 50,
     "metadata": {},
     "output_type": "execute_result"
    }
   ],
   "source": [
    "df_loaded['data-price'].sort_values(ascending=False).head(20)"
   ]
  },
  {
   "cell_type": "markdown",
   "metadata": {},
   "source": [
    "We see there are many outliers here as well. With price going upwards of 5cr. So, we can have a filter to consider records having price with a minimum of 20lac and a max of 5cr"
   ]
  },
  {
   "cell_type": "code",
   "execution_count": 53,
   "metadata": {},
   "outputs": [],
   "source": [
    "df_loaded = df_loaded[(df_loaded['data-price'] < 50000000) & (df_loaded['data-price'] > 2000000)]"
   ]
  },
  {
   "cell_type": "markdown",
   "metadata": {},
   "source": [
    "Let's load the dataframe containing the locality Ids and ratings of the specific localities."
   ]
  },
  {
   "cell_type": "code",
   "execution_count": 55,
   "metadata": {},
   "outputs": [],
   "source": [
    "df_locdata = pd.read_csv('locs_data1.csv')"
   ]
  },
  {
   "cell_type": "code",
   "execution_count": 57,
   "metadata": {
    "scrolled": true
   },
   "outputs": [
    {
     "data": {
      "text/html": [
       "<div>\n",
       "<style scoped>\n",
       "    .dataframe tbody tr th:only-of-type {\n",
       "        vertical-align: middle;\n",
       "    }\n",
       "\n",
       "    .dataframe tbody tr th {\n",
       "        vertical-align: top;\n",
       "    }\n",
       "\n",
       "    .dataframe thead th {\n",
       "        text-align: right;\n",
       "    }\n",
       "</style>\n",
       "<table border=\"1\" class=\"dataframe\">\n",
       "  <thead>\n",
       "    <tr style=\"text-align: right;\">\n",
       "      <th></th>\n",
       "      <th>Unnamed: 0</th>\n",
       "      <th>Hospital</th>\n",
       "      <th>Market</th>\n",
       "      <th>Restaurants</th>\n",
       "      <th>Schools</th>\n",
       "      <th>rating</th>\n",
       "      <th>locId</th>\n",
       "    </tr>\n",
       "  </thead>\n",
       "  <tbody>\n",
       "    <tr>\n",
       "      <th>count</th>\n",
       "      <td>932.000000</td>\n",
       "      <td>826.000000</td>\n",
       "      <td>826.000000</td>\n",
       "      <td>825.000000</td>\n",
       "      <td>826.000000</td>\n",
       "      <td>845.000000</td>\n",
       "      <td>932.000000</td>\n",
       "    </tr>\n",
       "    <tr>\n",
       "      <th>mean</th>\n",
       "      <td>465.500000</td>\n",
       "      <td>4.333083</td>\n",
       "      <td>4.391053</td>\n",
       "      <td>4.180128</td>\n",
       "      <td>4.498876</td>\n",
       "      <td>4.414438</td>\n",
       "      <td>94652.168455</td>\n",
       "    </tr>\n",
       "    <tr>\n",
       "      <th>std</th>\n",
       "      <td>269.189524</td>\n",
       "      <td>0.503628</td>\n",
       "      <td>0.464329</td>\n",
       "      <td>0.579172</td>\n",
       "      <td>0.423197</td>\n",
       "      <td>0.352351</td>\n",
       "      <td>18602.317130</td>\n",
       "    </tr>\n",
       "    <tr>\n",
       "      <th>min</th>\n",
       "      <td>0.000000</td>\n",
       "      <td>1.000000</td>\n",
       "      <td>2.000000</td>\n",
       "      <td>1.000000</td>\n",
       "      <td>1.000000</td>\n",
       "      <td>2.500000</td>\n",
       "      <td>55893.000000</td>\n",
       "    </tr>\n",
       "    <tr>\n",
       "      <th>25%</th>\n",
       "      <td>232.750000</td>\n",
       "      <td>4.000000</td>\n",
       "      <td>4.153846</td>\n",
       "      <td>3.857143</td>\n",
       "      <td>4.333334</td>\n",
       "      <td>4.200000</td>\n",
       "      <td>82005.000000</td>\n",
       "    </tr>\n",
       "    <tr>\n",
       "      <th>50%</th>\n",
       "      <td>465.500000</td>\n",
       "      <td>4.428571</td>\n",
       "      <td>4.500000</td>\n",
       "      <td>4.235294</td>\n",
       "      <td>4.555555</td>\n",
       "      <td>4.500000</td>\n",
       "      <td>102021.500000</td>\n",
       "    </tr>\n",
       "    <tr>\n",
       "      <th>75%</th>\n",
       "      <td>698.250000</td>\n",
       "      <td>4.666666</td>\n",
       "      <td>4.671474</td>\n",
       "      <td>4.600000</td>\n",
       "      <td>4.750000</td>\n",
       "      <td>4.600000</td>\n",
       "      <td>102671.500000</td>\n",
       "    </tr>\n",
       "    <tr>\n",
       "      <th>max</th>\n",
       "      <td>931.000000</td>\n",
       "      <td>5.000000</td>\n",
       "      <td>5.000000</td>\n",
       "      <td>5.000000</td>\n",
       "      <td>5.000000</td>\n",
       "      <td>5.000000</td>\n",
       "      <td>560085.000000</td>\n",
       "    </tr>\n",
       "  </tbody>\n",
       "</table>\n",
       "</div>"
      ],
      "text/plain": [
       "       Unnamed: 0    Hospital      Market  Restaurants     Schools  \\\n",
       "count  932.000000  826.000000  826.000000   825.000000  826.000000   \n",
       "mean   465.500000    4.333083    4.391053     4.180128    4.498876   \n",
       "std    269.189524    0.503628    0.464329     0.579172    0.423197   \n",
       "min      0.000000    1.000000    2.000000     1.000000    1.000000   \n",
       "25%    232.750000    4.000000    4.153846     3.857143    4.333334   \n",
       "50%    465.500000    4.428571    4.500000     4.235294    4.555555   \n",
       "75%    698.250000    4.666666    4.671474     4.600000    4.750000   \n",
       "max    931.000000    5.000000    5.000000     5.000000    5.000000   \n",
       "\n",
       "           rating          locId  \n",
       "count  845.000000     932.000000  \n",
       "mean     4.414438   94652.168455  \n",
       "std      0.352351   18602.317130  \n",
       "min      2.500000   55893.000000  \n",
       "25%      4.200000   82005.000000  \n",
       "50%      4.500000  102021.500000  \n",
       "75%      4.600000  102671.500000  \n",
       "max      5.000000  560085.000000  "
      ]
     },
     "execution_count": 57,
     "metadata": {},
     "output_type": "execute_result"
    }
   ],
   "source": [
    "df_locdata.describe()"
   ]
  },
  {
   "cell_type": "code",
   "execution_count": 58,
   "metadata": {},
   "outputs": [],
   "source": [
    "df_locdata.drop('Unnamed: 0', axis=1, inplace=True)"
   ]
  },
  {
   "cell_type": "markdown",
   "metadata": {},
   "source": [
    "Let's join this with our main data frame so that we can get all the columns required in one place. df_loaded dataframe has the locality id as data-localityid and in the loaded dataframe, we see that the column is locId. "
   ]
  },
  {
   "cell_type": "code",
   "execution_count": 59,
   "metadata": {},
   "outputs": [],
   "source": [
    "df_loaded = df_loaded.join(df_locdata.set_index('locId'),on='data-localityid')"
   ]
  },
  {
   "cell_type": "markdown",
   "metadata": {},
   "source": [
    "Now let's look at the columns that we consider as important. "
   ]
  },
  {
   "cell_type": "code",
   "execution_count": 62,
   "metadata": {},
   "outputs": [
    {
     "name": "stdout",
     "output_type": "stream",
     "text": [
      "<class 'pandas.core.frame.DataFrame'>\n",
      "Int64Index: 24630 entries, 0 to 29370\n",
      "Data columns (total 9 columns):\n",
      "data-bathrooms       24630 non-null float64\n",
      "data-bedroomd        24630 non-null int64\n",
      "data-propertytype    24630 non-null object\n",
      "Transaction type     24630 non-null object\n",
      "carP1                24630 non-null int64\n",
      "superArea            24630 non-null int64\n",
      "data-localityid      24630 non-null float64\n",
      "rating               24509 non-null float64\n",
      "data-price           24630 non-null float64\n",
      "dtypes: float64(4), int64(3), object(2)\n",
      "memory usage: 1.9+ MB\n"
     ]
    }
   ],
   "source": [
    "df_new = df_loaded[['data-bathrooms', 'data-bedroomd','data-propertytype', 'Transaction type', 'carP1', 'superArea', 'data-localityid',\n",
    "                    'rating', 'data-price']]\n",
    "df_new.info()"
   ]
  },
  {
   "cell_type": "markdown",
   "metadata": {},
   "source": [
    "Now we have transformed all the columns that we consider as important. Let's use them and create a model. But before that save these into a file for future use. We can split and save them in different files as training and testing datasets. "
   ]
  },
  {
   "cell_type": "code",
   "execution_count": 63,
   "metadata": {},
   "outputs": [],
   "source": [
    "# Save the full data set into a file before splitting.\n",
    "df_loaded.to_csv('Full_Filtered_1.csv')"
   ]
  },
  {
   "cell_type": "code",
   "execution_count": 65,
   "metadata": {},
   "outputs": [
    {
     "name": "stderr",
     "output_type": "stream",
     "text": [
      "C:\\ProgramData\\Anaconda3\\lib\\site-packages\\ipykernel_launcher.py:8: SettingWithCopyWarning: \n",
      "A value is trying to be set on a copy of a slice from a DataFrame.\n",
      "Try using .loc[row_indexer,col_indexer] = value instead\n",
      "\n",
      "See the caveats in the documentation: http://pandas.pydata.org/pandas-docs/stable/indexing.html#indexing-view-versus-copy\n",
      "  \n",
      "C:\\ProgramData\\Anaconda3\\lib\\site-packages\\ipykernel_launcher.py:10: SettingWithCopyWarning: \n",
      "A value is trying to be set on a copy of a slice from a DataFrame.\n",
      "Try using .loc[row_indexer,col_indexer] = value instead\n",
      "\n",
      "See the caveats in the documentation: http://pandas.pydata.org/pandas-docs/stable/indexing.html#indexing-view-versus-copy\n",
      "  # Remove the CWD from sys.path while we load stuff.\n"
     ]
    }
   ],
   "source": [
    "from sklearn.model_selection import train_test_split\n",
    "\n",
    "X = df_loaded.drop('data-price',axis=1)\n",
    "y = df_loaded['data-price']\n",
    "\n",
    "X_tr, X_te, y_tr, y_te = train_test_split(X, y, test_size=.4, random_state=42)\n",
    "\n",
    "X_tr['data-price'] = y_tr\n",
    "X_tr.to_csv('Train_Filtered_1.csv')\n",
    "X_te['data-price'] = y_te\n",
    "X_te.to_csv('Test_Filtered_1.csv')"
   ]
  },
  {
   "cell_type": "markdown",
   "metadata": {},
   "source": [
    "Now we are done with the Data Wrangling. Happy Learning!!!"
   ]
  },
  {
   "cell_type": "markdown",
   "metadata": {},
   "source": [
    "P.S.: We can explore more columns as and when needed. So, I've not dropped any columns rather only filtered records having no important parameters."
   ]
  }
 ],
 "metadata": {
  "kernelspec": {
   "display_name": "Python 3",
   "language": "python",
   "name": "python3"
  },
  "language_info": {
   "codemirror_mode": {
    "name": "ipython",
    "version": 3
   },
   "file_extension": ".py",
   "mimetype": "text/x-python",
   "name": "python",
   "nbconvert_exporter": "python",
   "pygments_lexer": "ipython3",
   "version": "3.7.1"
  }
 },
 "nbformat": 4,
 "nbformat_minor": 2
}
