{
 "cells": [
  {
   "cell_type": "markdown",
   "metadata": {},
   "source": [
    "# Mini-Project: Data Wrangling and Transformation with Pandas\n",
    "\n",
    "Working with tabular data is a necessity for anyone with enterprises having a majority of their data in relational databases and flat files. This mini-project is adopted from the excellent tutorial on pandas by Brandon Rhodes which you have watched earlier in the Data Wrangling Unit. In this mini-project, we will be looking at some interesting data based on movie data from the IMDB.\n",
    "\n",
    "This assignment should help you reinforce the concepts you learnt in the curriculum for Data Wrangling and sharpen your skills in using Pandas. Good Luck!"
   ]
  },
  {
   "cell_type": "markdown",
   "metadata": {},
   "source": [
    "### Please make sure you have one of the more recent versions of Pandas"
   ]
  },
  {
   "cell_type": "code",
   "execution_count": 1,
   "metadata": {},
   "outputs": [
    {
     "name": "stdout",
     "output_type": "stream",
     "text": [
      "Collecting pandas==0.23\n",
      "  Downloading https://files.pythonhosted.org/packages/45/12/1e1ba99fb65df9f7f3724d3232feef35cc044d18604d57492d561e90219f/pandas-0.23.0.tar.gz (13.1MB)\n",
      "Requirement already satisfied: python-dateutil>=2.5.0 in c:\\programdata\\anaconda3\\lib\\site-packages (from pandas==0.23) (2.7.5)\n",
      "Requirement already satisfied: pytz>=2011k in c:\\programdata\\anaconda3\\lib\\site-packages (from pandas==0.23) (2018.7)\n",
      "Requirement already satisfied: numpy>=1.9.0 in c:\\programdata\\anaconda3\\lib\\site-packages (from pandas==0.23) (1.15.4)\n",
      "Requirement already satisfied: six>=1.5 in c:\\programdata\\anaconda3\\lib\\site-packages (from python-dateutil>=2.5.0->pandas==0.23) (1.12.0)\n",
      "Building wheels for collected packages: pandas\n",
      "  Running setup.py bdist_wheel for pandas: started\n",
      "  Running setup.py bdist_wheel for pandas: finished with status 'error'\n",
      "  Complete output from command C:\\ProgramData\\Anaconda3\\python.exe -u -c \"import setuptools, tokenize;__file__='C:\\\\Users\\\\Admin\\\\AppData\\\\Local\\\\Temp\\\\pip-install-oaebimnc\\\\pandas\\\\setup.py';f=getattr(tokenize, 'open', open)(__file__);code=f.read().replace('\\r\\n', '\\n');f.close();exec(compile(code, __file__, 'exec'))\" bdist_wheel -d C:\\Users\\Admin\\AppData\\Local\\Temp\\pip-wheel-ath8pzf2 --python-tag cp37:\n",
      "  running bdist_wheel\n",
      "  running build\n",
      "  running build_py\n",
      "  creating build\n",
      "  creating build\\lib.win-amd64-3.7\n",
      "  creating build\\lib.win-amd64-3.7\\pandas\n",
      "  copying pandas\\conftest.py -> build\\lib.win-amd64-3.7\\pandas\n",
      "  copying pandas\\json.py -> build\\lib.win-amd64-3.7\\pandas\n",
      "  copying pandas\\lib.py -> build\\lib.win-amd64-3.7\\pandas\n",
      "  copying pandas\\parser.py -> build\\lib.win-amd64-3.7\\pandas\n",
      "  copying pandas\\testing.py -> build\\lib.win-amd64-3.7\\pandas\n",
      "  copying pandas\\tslib.py -> build\\lib.win-amd64-3.7\\pandas\n",
      "  copying pandas\\_version.py -> build\\lib.win-amd64-3.7\\pandas\n",
      "  copying pandas\\__init__.py -> build\\lib.win-amd64-3.7\\pandas\n",
      "  creating build\\lib.win-amd64-3.7\\pandas\\api\n",
      "  copying pandas\\api\\__init__.py -> build\\lib.win-amd64-3.7\\pandas\\api\n",
      "  creating build\\lib.win-amd64-3.7\\pandas\\compat\n",
      "  copying pandas\\compat\\chainmap.py -> build\\lib.win-amd64-3.7\\pandas\\compat\n",
      "  copying pandas\\compat\\chainmap_impl.py -> build\\lib.win-amd64-3.7\\pandas\\compat\n",
      "  copying pandas\\compat\\pickle_compat.py -> build\\lib.win-amd64-3.7\\pandas\\compat\n",
      "  copying pandas\\compat\\__init__.py -> build\\lib.win-amd64-3.7\\pandas\\compat\n",
      "  creating build\\lib.win-amd64-3.7\\pandas\\computation\n",
      "  copying pandas\\computation\\expressions.py -> build\\lib.win-amd64-3.7\\pandas\\computation\n",
      "  copying pandas\\computation\\__init__.py -> build\\lib.win-amd64-3.7\\pandas\\computation\n",
      "  creating build\\lib.win-amd64-3.7\\pandas\\core\n",
      "  copying pandas\\core\\accessor.py -> build\\lib.win-amd64-3.7\\pandas\\core\n",
      "  copying pandas\\core\\algorithms.py -> build\\lib.win-amd64-3.7\\pandas\\core\n",
      "  copying pandas\\core\\api.py -> build\\lib.win-amd64-3.7\\pandas\\core\n",
      "  copying pandas\\core\\apply.py -> build\\lib.win-amd64-3.7\\pandas\\core\n",
      "  copying pandas\\core\\base.py -> build\\lib.win-amd64-3.7\\pandas\\core\n",
      "  copying pandas\\core\\categorical.py -> build\\lib.win-amd64-3.7\\pandas\\core\n",
      "  copying pandas\\core\\common.py -> build\\lib.win-amd64-3.7\\pandas\\core\n",
      "  copying pandas\\core\\config.py -> build\\lib.win-amd64-3.7\\pandas\\core\n",
      "  copying pandas\\core\\config_init.py -> build\\lib.win-amd64-3.7\\pandas\\core\n",
      "  copying pandas\\core\\datetools.py -> build\\lib.win-amd64-3.7\\pandas\\core\n",
      "  copying pandas\\core\\frame.py -> build\\lib.win-amd64-3.7\\pandas\\core\n",
      "  copying pandas\\core\\generic.py -> build\\lib.win-amd64-3.7\\pandas\\core\n",
      "  copying pandas\\core\\index.py -> build\\lib.win-amd64-3.7\\pandas\\core\n",
      "  copying pandas\\core\\indexing.py -> build\\lib.win-amd64-3.7\\pandas\\core\n",
      "  copying pandas\\core\\internals.py -> build\\lib.win-amd64-3.7\\pandas\\core\n",
      "  copying pandas\\core\\missing.py -> build\\lib.win-amd64-3.7\\pandas\\core\n",
      "  copying pandas\\core\\nanops.py -> build\\lib.win-amd64-3.7\\pandas\\core\n",
      "  copying pandas\\core\\ops.py -> build\\lib.win-amd64-3.7\\pandas\\core\n",
      "  copying pandas\\core\\panel.py -> build\\lib.win-amd64-3.7\\pandas\\core\n",
      "  copying pandas\\core\\resample.py -> build\\lib.win-amd64-3.7\\pandas\\core\n",
      "  copying pandas\\core\\series.py -> build\\lib.win-amd64-3.7\\pandas\\core\n",
      "  copying pandas\\core\\sorting.py -> build\\lib.win-amd64-3.7\\pandas\\core\n",
      "  copying pandas\\core\\strings.py -> build\\lib.win-amd64-3.7\\pandas\\core\n",
      "  copying pandas\\core\\window.py -> build\\lib.win-amd64-3.7\\pandas\\core\n",
      "  copying pandas\\core\\__init__.py -> build\\lib.win-amd64-3.7\\pandas\\core\n",
      "  creating build\\lib.win-amd64-3.7\\pandas\\errors\n",
      "  copying pandas\\errors\\__init__.py -> build\\lib.win-amd64-3.7\\pandas\\errors\n",
      "  creating build\\lib.win-amd64-3.7\\pandas\\formats\n",
      "  copying pandas\\formats\\style.py -> build\\lib.win-amd64-3.7\\pandas\\formats\n",
      "  copying pandas\\formats\\__init__.py -> build\\lib.win-amd64-3.7\\pandas\\formats\n",
      "  creating build\\lib.win-amd64-3.7\\pandas\\io\n",
      "  copying pandas\\io\\api.py -> build\\lib.win-amd64-3.7\\pandas\\io\n",
      "  copying pandas\\io\\clipboards.py -> build\\lib.win-amd64-3.7\\pandas\\io\n",
      "  copying pandas\\io\\common.py -> build\\lib.win-amd64-3.7\\pandas\\io\n",
      "  copying pandas\\io\\date_converters.py -> build\\lib.win-amd64-3.7\\pandas\\io\n",
      "  copying pandas\\io\\excel.py -> build\\lib.win-amd64-3.7\\pandas\\io\n",
      "  copying pandas\\io\\feather_format.py -> build\\lib.win-amd64-3.7\\pandas\\io\n",
      "  copying pandas\\io\\gbq.py -> build\\lib.win-amd64-3.7\\pandas\\io\n",
      "  copying pandas\\io\\html.py -> build\\lib.win-amd64-3.7\\pandas\\io\n",
      "  copying pandas\\io\\packers.py -> build\\lib.win-amd64-3.7\\pandas\\io\n",
      "  copying pandas\\io\\parquet.py -> build\\lib.win-amd64-3.7\\pandas\\io\n",
      "  copying pandas\\io\\parsers.py -> build\\lib.win-amd64-3.7\\pandas\\io\n",
      "  copying pandas\\io\\pickle.py -> build\\lib.win-amd64-3.7\\pandas\\io\n",
      "  copying pandas\\io\\pytables.py -> build\\lib.win-amd64-3.7\\pandas\\io\n",
      "  copying pandas\\io\\s3.py -> build\\lib.win-amd64-3.7\\pandas\\io\n",
      "  copying pandas\\io\\sql.py -> build\\lib.win-amd64-3.7\\pandas\\io\n",
      "  copying pandas\\io\\stata.py -> build\\lib.win-amd64-3.7\\pandas\\io\n",
      "  copying pandas\\io\\__init__.py -> build\\lib.win-amd64-3.7\\pandas\\io\n",
      "  creating build\\lib.win-amd64-3.7\\pandas\\plotting\n",
      "  copying pandas\\plotting\\_compat.py -> build\\lib.win-amd64-3.7\\pandas\\plotting\n",
      "  copying pandas\\plotting\\_converter.py -> build\\lib.win-amd64-3.7\\pandas\\plotting\n",
      "  copying pandas\\plotting\\_core.py -> build\\lib.win-amd64-3.7\\pandas\\plotting\n",
      "  copying pandas\\plotting\\_misc.py -> build\\lib.win-amd64-3.7\\pandas\\plotting\n",
      "  copying pandas\\plotting\\_style.py -> build\\lib.win-amd64-3.7\\pandas\\plotting\n",
      "  copying pandas\\plotting\\_timeseries.py -> build\\lib.win-amd64-3.7\\pandas\\plotting\n",
      "  copying pandas\\plotting\\_tools.py -> build\\lib.win-amd64-3.7\\pandas\\plotting\n",
      "  copying pandas\\plotting\\__init__.py -> build\\lib.win-amd64-3.7\\pandas\\plotting\n",
      "  creating build\\lib.win-amd64-3.7\\pandas\\tests\n",
      "  copying pandas\\tests\\test_algos.py -> build\\lib.win-amd64-3.7\\pandas\\tests\n",
      "  copying pandas\\tests\\test_base.py -> build\\lib.win-amd64-3.7\\pandas\\tests\n",
      "  copying pandas\\tests\\test_common.py -> build\\lib.win-amd64-3.7\\pandas\\tests\n",
      "  copying pandas\\tests\\test_compat.py -> build\\lib.win-amd64-3.7\\pandas\\tests\n",
      "  copying pandas\\tests\\test_config.py -> build\\lib.win-amd64-3.7\\pandas\\tests\n",
      "  copying pandas\\tests\\test_downstream.py -> build\\lib.win-amd64-3.7\\pandas\\tests\n",
      "  copying pandas\\tests\\test_errors.py -> build\\lib.win-amd64-3.7\\pandas\\tests\n",
      "  copying pandas\\tests\\test_expressions.py -> build\\lib.win-amd64-3.7\\pandas\\tests\n",
      "  copying pandas\\tests\\test_join.py -> build\\lib.win-amd64-3.7\\pandas\\tests\n",
      "  copying pandas\\tests\\test_lib.py -> build\\lib.win-amd64-3.7\\pandas\\tests\n",
      "  copying pandas\\tests\\test_multilevel.py -> build\\lib.win-amd64-3.7\\pandas\\tests\n",
      "  copying pandas\\tests\\test_nanops.py -> build\\lib.win-amd64-3.7\\pandas\\tests\n",
      "  copying pandas\\tests\\test_panel.py -> build\\lib.win-amd64-3.7\\pandas\\tests\n",
      "  copying pandas\\tests\\test_register_accessor.py -> build\\lib.win-amd64-3.7\\pandas\\tests\n",
      "  copying pandas\\tests\\test_resample.py -> build\\lib.win-amd64-3.7\\pandas\\tests\n",
      "  copying pandas\\tests\\test_sorting.py -> build\\lib.win-amd64-3.7\\pandas\\tests\n",
      "  copying pandas\\tests\\test_strings.py -> build\\lib.win-amd64-3.7\\pandas\\tests\n",
      "  copying pandas\\tests\\test_take.py -> build\\lib.win-amd64-3.7\\pandas\\tests\n",
      "  copying pandas\\tests\\test_window.py -> build\\lib.win-amd64-3.7\\pandas\\tests\n",
      "  copying pandas\\tests\\__init__.py -> build\\lib.win-amd64-3.7\\pandas\\tests\n",
      "  creating build\\lib.win-amd64-3.7\\pandas\\tools\n",
      "  copying pandas\\tools\\merge.py -> build\\lib.win-amd64-3.7\\pandas\\tools\n",
      "  copying pandas\\tools\\plotting.py -> build\\lib.win-amd64-3.7\\pandas\\tools\n",
      "  copying pandas\\tools\\__init__.py -> build\\lib.win-amd64-3.7\\pandas\\tools\n",
      "  creating build\\lib.win-amd64-3.7\\pandas\\tseries\n",
      "  copying pandas\\tseries\\api.py -> build\\lib.win-amd64-3.7\\pandas\\tseries\n",
      "  copying pandas\\tseries\\converter.py -> build\\lib.win-amd64-3.7\\pandas\\tseries\n",
      "  copying pandas\\tseries\\frequencies.py -> build\\lib.win-amd64-3.7\\pandas\\tseries\n",
      "  copying pandas\\tseries\\holiday.py -> build\\lib.win-amd64-3.7\\pandas\\tseries\n",
      "  copying pandas\\tseries\\offsets.py -> build\\lib.win-amd64-3.7\\pandas\\tseries\n",
      "  copying pandas\\tseries\\plotting.py -> build\\lib.win-amd64-3.7\\pandas\\tseries\n",
      "  copying pandas\\tseries\\__init__.py -> build\\lib.win-amd64-3.7\\pandas\\tseries\n",
      "  creating build\\lib.win-amd64-3.7\\pandas\\types\n",
      "  copying pandas\\types\\common.py -> build\\lib.win-amd64-3.7\\pandas\\types\n",
      "  copying pandas\\types\\concat.py -> build\\lib.win-amd64-3.7\\pandas\\types\n",
      "  copying pandas\\types\\__init__.py -> build\\lib.win-amd64-3.7\\pandas\\types\n",
      "  creating build\\lib.win-amd64-3.7\\pandas\\util\n",
      "  copying pandas\\util\\decorators.py -> build\\lib.win-amd64-3.7\\pandas\\util\n",
      "  copying pandas\\util\\testing.py -> build\\lib.win-amd64-3.7\\pandas\\util\n",
      "  copying pandas\\util\\_decorators.py -> build\\lib.win-amd64-3.7\\pandas\\util\n",
      "  copying pandas\\util\\_depr_module.py -> build\\lib.win-amd64-3.7\\pandas\\util\n",
      "  copying pandas\\util\\_doctools.py -> build\\lib.win-amd64-3.7\\pandas\\util\n",
      "  copying pandas\\util\\_print_versions.py -> build\\lib.win-amd64-3.7\\pandas\\util\n",
      "  copying pandas\\util\\_tester.py -> build\\lib.win-amd64-3.7\\pandas\\util\n",
      "  copying pandas\\util\\_test_decorators.py -> build\\lib.win-amd64-3.7\\pandas\\util\n",
      "  copying pandas\\util\\_validators.py -> build\\lib.win-amd64-3.7\\pandas\\util\n",
      "  copying pandas\\util\\__init__.py -> build\\lib.win-amd64-3.7\\pandas\\util\n",
      "  creating build\\lib.win-amd64-3.7\\pandas\\_libs\n",
      "  copying pandas\\_libs\\__init__.py -> build\\lib.win-amd64-3.7\\pandas\\_libs\n",
      "  creating build\\lib.win-amd64-3.7\\pandas\\api\\extensions\n",
      "  copying pandas\\api\\extensions\\__init__.py -> build\\lib.win-amd64-3.7\\pandas\\api\\extensions\n",
      "  creating build\\lib.win-amd64-3.7\\pandas\\api\\types\n",
      "  copying pandas\\api\\types\\__init__.py -> build\\lib.win-amd64-3.7\\pandas\\api\\types\n",
      "  creating build\\lib.win-amd64-3.7\\pandas\\compat\\numpy\n",
      "  copying pandas\\compat\\numpy\\function.py -> build\\lib.win-amd64-3.7\\pandas\\compat\\numpy\n",
      "  copying pandas\\compat\\numpy\\__init__.py -> build\\lib.win-amd64-3.7\\pandas\\compat\\numpy\n",
      "  creating build\\lib.win-amd64-3.7\\pandas\\core\\arrays\n",
      "  copying pandas\\core\\arrays\\base.py -> build\\lib.win-amd64-3.7\\pandas\\core\\arrays\n",
      "  copying pandas\\core\\arrays\\categorical.py -> build\\lib.win-amd64-3.7\\pandas\\core\\arrays\n",
      "  copying pandas\\core\\arrays\\__init__.py -> build\\lib.win-amd64-3.7\\pandas\\core\\arrays\n",
      "  creating build\\lib.win-amd64-3.7\\pandas\\core\\computation\n",
      "  copying pandas\\core\\computation\\align.py -> build\\lib.win-amd64-3.7\\pandas\\core\\computation\n",
      "  copying pandas\\core\\computation\\api.py -> build\\lib.win-amd64-3.7\\pandas\\core\\computation\n",
      "  copying pandas\\core\\computation\\check.py -> build\\lib.win-amd64-3.7\\pandas\\core\\computation\n",
      "  copying pandas\\core\\computation\\common.py -> build\\lib.win-amd64-3.7\\pandas\\core\\computation\n",
      "  copying pandas\\core\\computation\\engines.py -> build\\lib.win-amd64-3.7\\pandas\\core\\computation\n",
      "  copying pandas\\core\\computation\\eval.py -> build\\lib.win-amd64-3.7\\pandas\\core\\computation\n",
      "  copying pandas\\core\\computation\\expr.py -> build\\lib.win-amd64-3.7\\pandas\\core\\computation\n",
      "  copying pandas\\core\\computation\\expressions.py -> build\\lib.win-amd64-3.7\\pandas\\core\\computation\n",
      "  copying pandas\\core\\computation\\ops.py -> build\\lib.win-amd64-3.7\\pandas\\core\\computation\n",
      "  copying pandas\\core\\computation\\pytables.py -> build\\lib.win-amd64-3.7\\pandas\\core\\computation\n",
      "  copying pandas\\core\\computation\\scope.py -> build\\lib.win-amd64-3.7\\pandas\\core\\computation\n",
      "  copying pandas\\core\\computation\\__init__.py -> build\\lib.win-amd64-3.7\\pandas\\core\\computation\n",
      "  creating build\\lib.win-amd64-3.7\\pandas\\core\\dtypes\n",
      "  copying pandas\\core\\dtypes\\api.py -> build\\lib.win-amd64-3.7\\pandas\\core\\dtypes\n",
      "  copying pandas\\core\\dtypes\\base.py -> build\\lib.win-amd64-3.7\\pandas\\core\\dtypes\n",
      "  copying pandas\\core\\dtypes\\cast.py -> build\\lib.win-amd64-3.7\\pandas\\core\\dtypes\n",
      "  copying pandas\\core\\dtypes\\common.py -> build\\lib.win-amd64-3.7\\pandas\\core\\dtypes\n",
      "  copying pandas\\core\\dtypes\\concat.py -> build\\lib.win-amd64-3.7\\pandas\\core\\dtypes\n",
      "  copying pandas\\core\\dtypes\\dtypes.py -> build\\lib.win-amd64-3.7\\pandas\\core\\dtypes\n",
      "  copying pandas\\core\\dtypes\\generic.py -> build\\lib.win-amd64-3.7\\pandas\\core\\dtypes\n",
      "  copying pandas\\core\\dtypes\\inference.py -> build\\lib.win-amd64-3.7\\pandas\\core\\dtypes\n",
      "  copying pandas\\core\\dtypes\\missing.py -> build\\lib.win-amd64-3.7\\pandas\\core\\dtypes\n",
      "  copying pandas\\core\\dtypes\\__init__.py -> build\\lib.win-amd64-3.7\\pandas\\core\\dtypes\n",
      "  creating build\\lib.win-amd64-3.7\\pandas\\core\\groupby\n",
      "  copying pandas\\core\\groupby\\groupby.py -> build\\lib.win-amd64-3.7\\pandas\\core\\groupby\n",
      "  copying pandas\\core\\groupby\\__init__.py -> build\\lib.win-amd64-3.7\\pandas\\core\\groupby\n",
      "  creating build\\lib.win-amd64-3.7\\pandas\\core\\indexes\n",
      "  copying pandas\\core\\indexes\\accessors.py -> build\\lib.win-amd64-3.7\\pandas\\core\\indexes\n",
      "  copying pandas\\core\\indexes\\api.py -> build\\lib.win-amd64-3.7\\pandas\\core\\indexes\n",
      "  copying pandas\\core\\indexes\\base.py -> build\\lib.win-amd64-3.7\\pandas\\core\\indexes\n",
      "  copying pandas\\core\\indexes\\category.py -> build\\lib.win-amd64-3.7\\pandas\\core\\indexes\n",
      "  copying pandas\\core\\indexes\\datetimelike.py -> build\\lib.win-amd64-3.7\\pandas\\core\\indexes\n",
      "  copying pandas\\core\\indexes\\datetimes.py -> build\\lib.win-amd64-3.7\\pandas\\core\\indexes\n",
      "  copying pandas\\core\\indexes\\frozen.py -> build\\lib.win-amd64-3.7\\pandas\\core\\indexes\n",
      "  copying pandas\\core\\indexes\\interval.py -> build\\lib.win-amd64-3.7\\pandas\\core\\indexes\n",
      "  copying pandas\\core\\indexes\\multi.py -> build\\lib.win-amd64-3.7\\pandas\\core\\indexes\n",
      "  copying pandas\\core\\indexes\\numeric.py -> build\\lib.win-amd64-3.7\\pandas\\core\\indexes\n",
      "  copying pandas\\core\\indexes\\period.py -> build\\lib.win-amd64-3.7\\pandas\\core\\indexes\n",
      "  copying pandas\\core\\indexes\\range.py -> build\\lib.win-amd64-3.7\\pandas\\core\\indexes\n",
      "  copying pandas\\core\\indexes\\timedeltas.py -> build\\lib.win-amd64-3.7\\pandas\\core\\indexes\n",
      "  copying pandas\\core\\indexes\\__init__.py -> build\\lib.win-amd64-3.7\\pandas\\core\\indexes\n",
      "  creating build\\lib.win-amd64-3.7\\pandas\\core\\reshape\n",
      "  copying pandas\\core\\reshape\\api.py -> build\\lib.win-amd64-3.7\\pandas\\core\\reshape\n",
      "  copying pandas\\core\\reshape\\concat.py -> build\\lib.win-amd64-3.7\\pandas\\core\\reshape\n",
      "  copying pandas\\core\\reshape\\melt.py -> build\\lib.win-amd64-3.7\\pandas\\core\\reshape\n",
      "  copying pandas\\core\\reshape\\merge.py -> build\\lib.win-amd64-3.7\\pandas\\core\\reshape\n",
      "  copying pandas\\core\\reshape\\pivot.py -> build\\lib.win-amd64-3.7\\pandas\\core\\reshape\n",
      "  copying pandas\\core\\reshape\\reshape.py -> build\\lib.win-amd64-3.7\\pandas\\core\\reshape\n",
      "  copying pandas\\core\\reshape\\tile.py -> build\\lib.win-amd64-3.7\\pandas\\core\\reshape\n",
      "  copying pandas\\core\\reshape\\util.py -> build\\lib.win-amd64-3.7\\pandas\\core\\reshape\n",
      "  copying pandas\\core\\reshape\\__init__.py -> build\\lib.win-amd64-3.7\\pandas\\core\\reshape\n",
      "  creating build\\lib.win-amd64-3.7\\pandas\\core\\sparse\n",
      "  copying pandas\\core\\sparse\\api.py -> build\\lib.win-amd64-3.7\\pandas\\core\\sparse\n",
      "  copying pandas\\core\\sparse\\array.py -> build\\lib.win-amd64-3.7\\pandas\\core\\sparse\n",
      "  copying pandas\\core\\sparse\\frame.py -> build\\lib.win-amd64-3.7\\pandas\\core\\sparse\n",
      "  copying pandas\\core\\sparse\\scipy_sparse.py -> build\\lib.win-amd64-3.7\\pandas\\core\\sparse\n",
      "  copying pandas\\core\\sparse\\series.py -> build\\lib.win-amd64-3.7\\pandas\\core\\sparse\n",
      "  copying pandas\\core\\sparse\\__init__.py -> build\\lib.win-amd64-3.7\\pandas\\core\\sparse\n",
      "  creating build\\lib.win-amd64-3.7\\pandas\\core\\tools\n",
      "  copying pandas\\core\\tools\\datetimes.py -> build\\lib.win-amd64-3.7\\pandas\\core\\tools\n",
      "  copying pandas\\core\\tools\\numeric.py -> build\\lib.win-amd64-3.7\\pandas\\core\\tools\n",
      "  copying pandas\\core\\tools\\timedeltas.py -> build\\lib.win-amd64-3.7\\pandas\\core\\tools\n",
      "  copying pandas\\core\\tools\\__init__.py -> build\\lib.win-amd64-3.7\\pandas\\core\\tools\n",
      "  creating build\\lib.win-amd64-3.7\\pandas\\core\\util\n",
      "  copying pandas\\core\\util\\hashing.py -> build\\lib.win-amd64-3.7\\pandas\\core\\util\n",
      "  copying pandas\\core\\util\\__init__.py -> build\\lib.win-amd64-3.7\\pandas\\core\\util\n",
      "  creating build\\lib.win-amd64-3.7\\pandas\\io\\clipboard\n",
      "  copying pandas\\io\\clipboard\\clipboards.py -> build\\lib.win-amd64-3.7\\pandas\\io\\clipboard\n",
      "  copying pandas\\io\\clipboard\\exceptions.py -> build\\lib.win-amd64-3.7\\pandas\\io\\clipboard\n",
      "  copying pandas\\io\\clipboard\\windows.py -> build\\lib.win-amd64-3.7\\pandas\\io\\clipboard\n",
      "  copying pandas\\io\\clipboard\\__init__.py -> build\\lib.win-amd64-3.7\\pandas\\io\\clipboard\n",
      "  creating build\\lib.win-amd64-3.7\\pandas\\io\\formats\n",
      "  copying pandas\\io\\formats\\console.py -> build\\lib.win-amd64-3.7\\pandas\\io\\formats\n",
      "  copying pandas\\io\\formats\\css.py -> build\\lib.win-amd64-3.7\\pandas\\io\\formats\n",
      "  copying pandas\\io\\formats\\csvs.py -> build\\lib.win-amd64-3.7\\pandas\\io\\formats\n",
      "  copying pandas\\io\\formats\\excel.py -> build\\lib.win-amd64-3.7\\pandas\\io\\formats\n",
      "  copying pandas\\io\\formats\\format.py -> build\\lib.win-amd64-3.7\\pandas\\io\\formats\n",
      "  copying pandas\\io\\formats\\html.py -> build\\lib.win-amd64-3.7\\pandas\\io\\formats\n",
      "  copying pandas\\io\\formats\\latex.py -> build\\lib.win-amd64-3.7\\pandas\\io\\formats\n",
      "  copying pandas\\io\\formats\\printing.py -> build\\lib.win-amd64-3.7\\pandas\\io\\formats\n",
      "  copying pandas\\io\\formats\\style.py -> build\\lib.win-amd64-3.7\\pandas\\io\\formats\n",
      "  copying pandas\\io\\formats\\terminal.py -> build\\lib.win-amd64-3.7\\pandas\\io\\formats\n",
      "  copying pandas\\io\\formats\\__init__.py -> build\\lib.win-amd64-3.7\\pandas\\io\\formats\n",
      "  creating build\\lib.win-amd64-3.7\\pandas\\io\\json\n",
      "  copying pandas\\io\\json\\json.py -> build\\lib.win-amd64-3.7\\pandas\\io\\json\n",
      "  copying pandas\\io\\json\\normalize.py -> build\\lib.win-amd64-3.7\\pandas\\io\\json\n",
      "  copying pandas\\io\\json\\table_schema.py -> build\\lib.win-amd64-3.7\\pandas\\io\\json\n",
      "  copying pandas\\io\\json\\__init__.py -> build\\lib.win-amd64-3.7\\pandas\\io\\json\n",
      "  creating build\\lib.win-amd64-3.7\\pandas\\io\\msgpack\n",
      "  copying pandas\\io\\msgpack\\exceptions.py -> build\\lib.win-amd64-3.7\\pandas\\io\\msgpack\n",
      "  copying pandas\\io\\msgpack\\_version.py -> build\\lib.win-amd64-3.7\\pandas\\io\\msgpack\n",
      "  copying pandas\\io\\msgpack\\__init__.py -> build\\lib.win-amd64-3.7\\pandas\\io\\msgpack\n",
      "  creating build\\lib.win-amd64-3.7\\pandas\\io\\sas\n",
      "  copying pandas\\io\\sas\\sas7bdat.py -> build\\lib.win-amd64-3.7\\pandas\\io\\sas\n",
      "  copying pandas\\io\\sas\\sasreader.py -> build\\lib.win-amd64-3.7\\pandas\\io\\sas\n",
      "  copying pandas\\io\\sas\\sas_constants.py -> build\\lib.win-amd64-3.7\\pandas\\io\\sas\n",
      "  copying pandas\\io\\sas\\sas_xport.py -> build\\lib.win-amd64-3.7\\pandas\\io\\sas\n",
      "  copying pandas\\io\\sas\\__init__.py -> build\\lib.win-amd64-3.7\\pandas\\io\\sas\n",
      "  creating build\\lib.win-amd64-3.7\\pandas\\tests\\api\n",
      "  copying pandas\\tests\\api\\test_api.py -> build\\lib.win-amd64-3.7\\pandas\\tests\\api\n",
      "  copying pandas\\tests\\api\\test_types.py -> build\\lib.win-amd64-3.7\\pandas\\tests\\api\n",
      "  copying pandas\\tests\\api\\__init__.py -> build\\lib.win-amd64-3.7\\pandas\\tests\\api\n",
      "  creating build\\lib.win-amd64-3.7\\pandas\\tests\\categorical\n",
      "  copying pandas\\tests\\categorical\\common.py -> build\\lib.win-amd64-3.7\\pandas\\tests\\categorical\n",
      "  copying pandas\\tests\\categorical\\conftest.py -> build\\lib.win-amd64-3.7\\pandas\\tests\\categorical\n",
      "  copying pandas\\tests\\categorical\\test_algos.py -> build\\lib.win-amd64-3.7\\pandas\\tests\\categorical\n",
      "  copying pandas\\tests\\categorical\\test_analytics.py -> build\\lib.win-amd64-3.7\\pandas\\tests\\categorical\n",
      "  copying pandas\\tests\\categorical\\test_api.py -> build\\lib.win-amd64-3.7\\pandas\\tests\\categorical\n",
      "  copying pandas\\tests\\categorical\\test_constructors.py -> build\\lib.win-amd64-3.7\\pandas\\tests\\categorical\n",
      "  copying pandas\\tests\\categorical\\test_dtypes.py -> build\\lib.win-amd64-3.7\\pandas\\tests\\categorical\n",
      "  copying pandas\\tests\\categorical\\test_indexing.py -> build\\lib.win-amd64-3.7\\pandas\\tests\\categorical\n",
      "  copying pandas\\tests\\categorical\\test_missing.py -> build\\lib.win-amd64-3.7\\pandas\\tests\\categorical\n",
      "  copying pandas\\tests\\categorical\\test_operators.py -> build\\lib.win-amd64-3.7\\pandas\\tests\\categorical\n",
      "  copying pandas\\tests\\categorical\\test_repr.py -> build\\lib.win-amd64-3.7\\pandas\\tests\\categorical\n",
      "  copying pandas\\tests\\categorical\\test_sorting.py -> build\\lib.win-amd64-3.7\\pandas\\tests\\categorical\n",
      "  copying pandas\\tests\\categorical\\test_subclass.py -> build\\lib.win-amd64-3.7\\pandas\\tests\\categorical\n",
      "  copying pandas\\tests\\categorical\\test_warnings.py -> build\\lib.win-amd64-3.7\\pandas\\tests\\categorical\n",
      "  copying pandas\\tests\\categorical\\__init__.py -> build\\lib.win-amd64-3.7\\pandas\\tests\\categorical\n",
      "  creating build\\lib.win-amd64-3.7\\pandas\\tests\\computation\n",
      "  copying pandas\\tests\\computation\\test_compat.py -> build\\lib.win-amd64-3.7\\pandas\\tests\\computation\n",
      "  copying pandas\\tests\\computation\\test_eval.py -> build\\lib.win-amd64-3.7\\pandas\\tests\\computation\n",
      "  copying pandas\\tests\\computation\\__init__.py -> build\\lib.win-amd64-3.7\\pandas\\tests\\computation\n",
      "  creating build\\lib.win-amd64-3.7\\pandas\\tests\\dtypes\n",
      "  copying pandas\\tests\\dtypes\\test_cast.py -> build\\lib.win-amd64-3.7\\pandas\\tests\\dtypes\n",
      "  copying pandas\\tests\\dtypes\\test_common.py -> build\\lib.win-amd64-3.7\\pandas\\tests\\dtypes\n",
      "  copying pandas\\tests\\dtypes\\test_concat.py -> build\\lib.win-amd64-3.7\\pandas\\tests\\dtypes\n",
      "  copying pandas\\tests\\dtypes\\test_dtypes.py -> build\\lib.win-amd64-3.7\\pandas\\tests\\dtypes\n",
      "  copying pandas\\tests\\dtypes\\test_generic.py -> build\\lib.win-amd64-3.7\\pandas\\tests\\dtypes\n",
      "  copying pandas\\tests\\dtypes\\test_inference.py -> build\\lib.win-amd64-3.7\\pandas\\tests\\dtypes\n",
      "  copying pandas\\tests\\dtypes\\test_missing.py -> build\\lib.win-amd64-3.7\\pandas\\tests\\dtypes\n",
      "  copying pandas\\tests\\dtypes\\__init__.py -> build\\lib.win-amd64-3.7\\pandas\\tests\\dtypes\n",
      "  creating build\\lib.win-amd64-3.7\\pandas\\tests\\extension\n",
      "  copying pandas\\tests\\extension\\conftest.py -> build\\lib.win-amd64-3.7\\pandas\\tests\\extension\n",
      "  copying pandas\\tests\\extension\\test_common.py -> build\\lib.win-amd64-3.7\\pandas\\tests\\extension\n",
      "  copying pandas\\tests\\extension\\test_external_block.py -> build\\lib.win-amd64-3.7\\pandas\\tests\\extension\n",
      "  copying pandas\\tests\\extension\\__init__.py -> build\\lib.win-amd64-3.7\\pandas\\tests\\extension\n",
      "  creating build\\lib.win-amd64-3.7\\pandas\\tests\\frame\n",
      "  copying pandas\\tests\\frame\\common.py -> build\\lib.win-amd64-3.7\\pandas\\tests\\frame\n",
      "  copying pandas\\tests\\frame\\test_alter_axes.py -> build\\lib.win-amd64-3.7\\pandas\\tests\\frame\n",
      "  copying pandas\\tests\\frame\\test_analytics.py -> build\\lib.win-amd64-3.7\\pandas\\tests\\frame\n",
      "  copying pandas\\tests\\frame\\test_api.py -> build\\lib.win-amd64-3.7\\pandas\\tests\\frame\n",
      "  copying pandas\\tests\\frame\\test_apply.py -> build\\lib.win-amd64-3.7\\pandas\\tests\\frame\n",
      "  copying pandas\\tests\\frame\\test_arithmetic.py -> build\\lib.win-amd64-3.7\\pandas\\tests\\frame\n",
      "  copying pandas\\tests\\frame\\test_asof.py -> build\\lib.win-amd64-3.7\\pandas\\tests\\frame\n",
      "  copying pandas\\tests\\frame\\test_axis_select_reindex.py -> build\\lib.win-amd64-3.7\\pandas\\tests\\frame\n",
      "  copying pandas\\tests\\frame\\test_block_internals.py -> build\\lib.win-amd64-3.7\\pandas\\tests\\frame\n",
      "  copying pandas\\tests\\frame\\test_combine_concat.py -> build\\lib.win-amd64-3.7\\pandas\\tests\\frame\n",
      "  copying pandas\\tests\\frame\\test_constructors.py -> build\\lib.win-amd64-3.7\\pandas\\tests\\frame\n",
      "  copying pandas\\tests\\frame\\test_convert_to.py -> build\\lib.win-amd64-3.7\\pandas\\tests\\frame\n",
      "  copying pandas\\tests\\frame\\test_dtypes.py -> build\\lib.win-amd64-3.7\\pandas\\tests\\frame\n",
      "  copying pandas\\tests\\frame\\test_indexing.py -> build\\lib.win-amd64-3.7\\pandas\\tests\\frame\n",
      "  copying pandas\\tests\\frame\\test_join.py -> build\\lib.win-amd64-3.7\\pandas\\tests\\frame\n",
      "  copying pandas\\tests\\frame\\test_missing.py -> build\\lib.win-amd64-3.7\\pandas\\tests\\frame\n",
      "  copying pandas\\tests\\frame\\test_mutate_columns.py -> build\\lib.win-amd64-3.7\\pandas\\tests\\frame\n",
      "  copying pandas\\tests\\frame\\test_nonunique_indexes.py -> build\\lib.win-amd64-3.7\\pandas\\tests\\frame\n",
      "  copying pandas\\tests\\frame\\test_operators.py -> build\\lib.win-amd64-3.7\\pandas\\tests\\frame\n",
      "  copying pandas\\tests\\frame\\test_period.py -> build\\lib.win-amd64-3.7\\pandas\\tests\\frame\n",
      "  copying pandas\\tests\\frame\\test_quantile.py -> build\\lib.win-amd64-3.7\\pandas\\tests\\frame\n",
      "  copying pandas\\tests\\frame\\test_query_eval.py -> build\\lib.win-amd64-3.7\\pandas\\tests\\frame\n",
      "  copying pandas\\tests\\frame\\test_rank.py -> build\\lib.win-amd64-3.7\\pandas\\tests\\frame\n",
      "  copying pandas\\tests\\frame\\test_replace.py -> build\\lib.win-amd64-3.7\\pandas\\tests\\frame\n",
      "  copying pandas\\tests\\frame\\test_repr_info.py -> build\\lib.win-amd64-3.7\\pandas\\tests\\frame\n",
      "  copying pandas\\tests\\frame\\test_reshape.py -> build\\lib.win-amd64-3.7\\pandas\\tests\\frame\n",
      "  copying pandas\\tests\\frame\\test_sorting.py -> build\\lib.win-amd64-3.7\\pandas\\tests\\frame\n",
      "  copying pandas\\tests\\frame\\test_sort_values_level_as_str.py -> build\\lib.win-amd64-3.7\\pandas\\tests\\frame\n",
      "  copying pandas\\tests\\frame\\test_subclass.py -> build\\lib.win-amd64-3.7\\pandas\\tests\\frame\n",
      "  copying pandas\\tests\\frame\\test_timeseries.py -> build\\lib.win-amd64-3.7\\pandas\\tests\\frame\n",
      "  copying pandas\\tests\\frame\\test_timezones.py -> build\\lib.win-amd64-3.7\\pandas\\tests\\frame\n",
      "  copying pandas\\tests\\frame\\test_to_csv.py -> build\\lib.win-amd64-3.7\\pandas\\tests\\frame\n",
      "  copying pandas\\tests\\frame\\test_validate.py -> build\\lib.win-amd64-3.7\\pandas\\tests\\frame\n",
      "  copying pandas\\tests\\frame\\__init__.py -> build\\lib.win-amd64-3.7\\pandas\\tests\\frame\n",
      "  creating build\\lib.win-amd64-3.7\\pandas\\tests\\generic\n",
      "  copying pandas\\tests\\generic\\test_frame.py -> build\\lib.win-amd64-3.7\\pandas\\tests\\generic\n",
      "  copying pandas\\tests\\generic\\test_generic.py -> build\\lib.win-amd64-3.7\\pandas\\tests\\generic\n",
      "  copying pandas\\tests\\generic\\test_label_or_level_utils.py -> build\\lib.win-amd64-3.7\\pandas\\tests\\generic\n",
      "  copying pandas\\tests\\generic\\test_panel.py -> build\\lib.win-amd64-3.7\\pandas\\tests\\generic\n",
      "  copying pandas\\tests\\generic\\test_series.py -> build\\lib.win-amd64-3.7\\pandas\\tests\\generic\n",
      "  copying pandas\\tests\\generic\\__init__.py -> build\\lib.win-amd64-3.7\\pandas\\tests\\generic\n",
      "  creating build\\lib.win-amd64-3.7\\pandas\\tests\\groupby\n",
      "  copying pandas\\tests\\groupby\\conftest.py -> build\\lib.win-amd64-3.7\\pandas\\tests\\groupby\n",
      "  copying pandas\\tests\\groupby\\test_apply.py -> build\\lib.win-amd64-3.7\\pandas\\tests\\groupby\n",
      "  copying pandas\\tests\\groupby\\test_bin_groupby.py -> build\\lib.win-amd64-3.7\\pandas\\tests\\groupby\n",
      "  copying pandas\\tests\\groupby\\test_categorical.py -> build\\lib.win-amd64-3.7\\pandas\\tests\\groupby\n",
      "  copying pandas\\tests\\groupby\\test_counting.py -> build\\lib.win-amd64-3.7\\pandas\\tests\\groupby\n",
      "  copying pandas\\tests\\groupby\\test_filters.py -> build\\lib.win-amd64-3.7\\pandas\\tests\\groupby\n",
      "  copying pandas\\tests\\groupby\\test_function.py -> build\\lib.win-amd64-3.7\\pandas\\tests\\groupby\n",
      "  copying pandas\\tests\\groupby\\test_groupby.py -> build\\lib.win-amd64-3.7\\pandas\\tests\\groupby\n",
      "  copying pandas\\tests\\groupby\\test_grouping.py -> build\\lib.win-amd64-3.7\\pandas\\tests\\groupby\n",
      "  copying pandas\\tests\\groupby\\test_index_as_string.py -> build\\lib.win-amd64-3.7\\pandas\\tests\\groupby\n",
      "  copying pandas\\tests\\groupby\\test_nth.py -> build\\lib.win-amd64-3.7\\pandas\\tests\\groupby\n",
      "  copying pandas\\tests\\groupby\\test_rank.py -> build\\lib.win-amd64-3.7\\pandas\\tests\\groupby\n",
      "  copying pandas\\tests\\groupby\\test_timegrouper.py -> build\\lib.win-amd64-3.7\\pandas\\tests\\groupby\n",
      "  copying pandas\\tests\\groupby\\test_transform.py -> build\\lib.win-amd64-3.7\\pandas\\tests\\groupby\n",
      "  copying pandas\\tests\\groupby\\test_value_counts.py -> build\\lib.win-amd64-3.7\\pandas\\tests\\groupby\n",
      "  copying pandas\\tests\\groupby\\test_whitelist.py -> build\\lib.win-amd64-3.7\\pandas\\tests\\groupby\n",
      "  copying pandas\\tests\\groupby\\__init__.py -> build\\lib.win-amd64-3.7\\pandas\\tests\\groupby\n",
      "  creating build\\lib.win-amd64-3.7\\pandas\\tests\\indexes\n",
      "  copying pandas\\tests\\indexes\\common.py -> build\\lib.win-amd64-3.7\\pandas\\tests\\indexes\n",
      "  copying pandas\\tests\\indexes\\conftest.py -> build\\lib.win-amd64-3.7\\pandas\\tests\\indexes\n",
      "  copying pandas\\tests\\indexes\\datetimelike.py -> build\\lib.win-amd64-3.7\\pandas\\tests\\indexes\n",
      "  copying pandas\\tests\\indexes\\test_base.py -> build\\lib.win-amd64-3.7\\pandas\\tests\\indexes\n",
      "  copying pandas\\tests\\indexes\\test_category.py -> build\\lib.win-amd64-3.7\\pandas\\tests\\indexes\n",
      "  copying pandas\\tests\\indexes\\test_frozen.py -> build\\lib.win-amd64-3.7\\pandas\\tests\\indexes\n",
      "  copying pandas\\tests\\indexes\\test_multi.py -> build\\lib.win-amd64-3.7\\pandas\\tests\\indexes\n",
      "  copying pandas\\tests\\indexes\\test_numeric.py -> build\\lib.win-amd64-3.7\\pandas\\tests\\indexes\n",
      "  copying pandas\\tests\\indexes\\test_range.py -> build\\lib.win-amd64-3.7\\pandas\\tests\\indexes\n",
      "  copying pandas\\tests\\indexes\\__init__.py -> build\\lib.win-amd64-3.7\\pandas\\tests\\indexes\n",
      "  creating build\\lib.win-amd64-3.7\\pandas\\tests\\indexing\n",
      "  copying pandas\\tests\\indexing\\common.py -> build\\lib.win-amd64-3.7\\pandas\\tests\\indexing\n",
      "  copying pandas\\tests\\indexing\\test_callable.py -> build\\lib.win-amd64-3.7\\pandas\\tests\\indexing\n",
      "  copying pandas\\tests\\indexing\\test_categorical.py -> build\\lib.win-amd64-3.7\\pandas\\tests\\indexing\n",
      "  copying pandas\\tests\\indexing\\test_chaining_and_caching.py -> build\\lib.win-amd64-3.7\\pandas\\tests\\indexing\n",
      "  copying pandas\\tests\\indexing\\test_coercion.py -> build\\lib.win-amd64-3.7\\pandas\\tests\\indexing\n",
      "  copying pandas\\tests\\indexing\\test_datetime.py -> build\\lib.win-amd64-3.7\\pandas\\tests\\indexing\n",
      "  copying pandas\\tests\\indexing\\test_floats.py -> build\\lib.win-amd64-3.7\\pandas\\tests\\indexing\n",
      "  copying pandas\\tests\\indexing\\test_iloc.py -> build\\lib.win-amd64-3.7\\pandas\\tests\\indexing\n",
      "  copying pandas\\tests\\indexing\\test_indexing.py -> build\\lib.win-amd64-3.7\\pandas\\tests\\indexing\n",
      "  copying pandas\\tests\\indexing\\test_indexing_slow.py -> build\\lib.win-amd64-3.7\\pandas\\tests\\indexing\n",
      "  copying pandas\\tests\\indexing\\test_ix.py -> build\\lib.win-amd64-3.7\\pandas\\tests\\indexing\n",
      "  copying pandas\\tests\\indexing\\test_loc.py -> build\\lib.win-amd64-3.7\\pandas\\tests\\indexing\n",
      "  copying pandas\\tests\\indexing\\test_multiindex.py -> build\\lib.win-amd64-3.7\\pandas\\tests\\indexing\n",
      "  copying pandas\\tests\\indexing\\test_panel.py -> build\\lib.win-amd64-3.7\\pandas\\tests\\indexing\n",
      "  copying pandas\\tests\\indexing\\test_partial.py -> build\\lib.win-amd64-3.7\\pandas\\tests\\indexing\n",
      "  copying pandas\\tests\\indexing\\test_scalar.py -> build\\lib.win-amd64-3.7\\pandas\\tests\\indexing\n",
      "  copying pandas\\tests\\indexing\\test_timedelta.py -> build\\lib.win-amd64-3.7\\pandas\\tests\\indexing\n",
      "  copying pandas\\tests\\indexing\\__init__.py -> build\\lib.win-amd64-3.7\\pandas\\tests\\indexing\n",
      "  creating build\\lib.win-amd64-3.7\\pandas\\tests\\internals\n",
      "  copying pandas\\tests\\internals\\test_internals.py -> build\\lib.win-amd64-3.7\\pandas\\tests\\internals\n",
      "  copying pandas\\tests\\internals\\__init__.py -> build\\lib.win-amd64-3.7\\pandas\\tests\\internals\n",
      "  creating build\\lib.win-amd64-3.7\\pandas\\tests\\io\n",
      "  copying pandas\\tests\\io\\conftest.py -> build\\lib.win-amd64-3.7\\pandas\\tests\\io\n",
      "  copying pandas\\tests\\io\\generate_legacy_storage_files.py -> build\\lib.win-amd64-3.7\\pandas\\tests\\io\n",
      "  copying pandas\\tests\\io\\test_clipboard.py -> build\\lib.win-amd64-3.7\\pandas\\tests\\io\n",
      "  copying pandas\\tests\\io\\test_common.py -> build\\lib.win-amd64-3.7\\pandas\\tests\\io\n",
      "  copying pandas\\tests\\io\\test_excel.py -> build\\lib.win-amd64-3.7\\pandas\\tests\\io\n",
      "  copying pandas\\tests\\io\\test_feather.py -> build\\lib.win-amd64-3.7\\pandas\\tests\\io\n",
      "  copying pandas\\tests\\io\\test_gbq.py -> build\\lib.win-amd64-3.7\\pandas\\tests\\io\n",
      "  copying pandas\\tests\\io\\test_html.py -> build\\lib.win-amd64-3.7\\pandas\\tests\\io\n",
      "  copying pandas\\tests\\io\\test_packers.py -> build\\lib.win-amd64-3.7\\pandas\\tests\\io\n",
      "  copying pandas\\tests\\io\\test_parquet.py -> build\\lib.win-amd64-3.7\\pandas\\tests\\io\n",
      "  copying pandas\\tests\\io\\test_pickle.py -> build\\lib.win-amd64-3.7\\pandas\\tests\\io\n",
      "  copying pandas\\tests\\io\\test_pytables.py -> build\\lib.win-amd64-3.7\\pandas\\tests\\io\n",
      "  copying pandas\\tests\\io\\test_s3.py -> build\\lib.win-amd64-3.7\\pandas\\tests\\io\n",
      "  copying pandas\\tests\\io\\test_sql.py -> build\\lib.win-amd64-3.7\\pandas\\tests\\io\n",
      "  copying pandas\\tests\\io\\test_stata.py -> build\\lib.win-amd64-3.7\\pandas\\tests\\io\n",
      "  copying pandas\\tests\\io\\__init__.py -> build\\lib.win-amd64-3.7\\pandas\\tests\\io\n",
      "  creating build\\lib.win-amd64-3.7\\pandas\\tests\\plotting\n",
      "  copying pandas\\tests\\plotting\\common.py -> build\\lib.win-amd64-3.7\\pandas\\tests\\plotting\n",
      "  copying pandas\\tests\\plotting\\test_boxplot_method.py -> build\\lib.win-amd64-3.7\\pandas\\tests\\plotting\n",
      "  copying pandas\\tests\\plotting\\test_converter.py -> build\\lib.win-amd64-3.7\\pandas\\tests\\plotting\n",
      "  copying pandas\\tests\\plotting\\test_datetimelike.py -> build\\lib.win-amd64-3.7\\pandas\\tests\\plotting\n",
      "  copying pandas\\tests\\plotting\\test_deprecated.py -> build\\lib.win-amd64-3.7\\pandas\\tests\\plotting\n",
      "  copying pandas\\tests\\plotting\\test_frame.py -> build\\lib.win-amd64-3.7\\pandas\\tests\\plotting\n",
      "  copying pandas\\tests\\plotting\\test_groupby.py -> build\\lib.win-amd64-3.7\\pandas\\tests\\plotting\n",
      "  copying pandas\\tests\\plotting\\test_hist_method.py -> build\\lib.win-amd64-3.7\\pandas\\tests\\plotting\n",
      "  copying pandas\\tests\\plotting\\test_misc.py -> build\\lib.win-amd64-3.7\\pandas\\tests\\plotting\n",
      "  copying pandas\\tests\\plotting\\test_series.py -> build\\lib.win-amd64-3.7\\pandas\\tests\\plotting\n",
      "  copying pandas\\tests\\plotting\\__init__.py -> build\\lib.win-amd64-3.7\\pandas\\tests\\plotting\n",
      "  creating build\\lib.win-amd64-3.7\\pandas\\tests\\reshape\n",
      "  copying pandas\\tests\\reshape\\test_concat.py -> build\\lib.win-amd64-3.7\\pandas\\tests\\reshape\n",
      "  copying pandas\\tests\\reshape\\test_melt.py -> build\\lib.win-amd64-3.7\\pandas\\tests\\reshape\n",
      "  copying pandas\\tests\\reshape\\test_pivot.py -> build\\lib.win-amd64-3.7\\pandas\\tests\\reshape\n",
      "  copying pandas\\tests\\reshape\\test_reshape.py -> build\\lib.win-amd64-3.7\\pandas\\tests\\reshape\n",
      "  copying pandas\\tests\\reshape\\test_tile.py -> build\\lib.win-amd64-3.7\\pandas\\tests\\reshape\n",
      "  copying pandas\\tests\\reshape\\test_union_categoricals.py -> build\\lib.win-amd64-3.7\\pandas\\tests\\reshape\n",
      "  copying pandas\\tests\\reshape\\test_util.py -> build\\lib.win-amd64-3.7\\pandas\\tests\\reshape\n",
      "  copying pandas\\tests\\reshape\\__init__.py -> build\\lib.win-amd64-3.7\\pandas\\tests\\reshape\n",
      "  creating build\\lib.win-amd64-3.7\\pandas\\tests\\scalar\n",
      "  copying pandas\\tests\\scalar\\test_nat.py -> build\\lib.win-amd64-3.7\\pandas\\tests\\scalar\n",
      "  copying pandas\\tests\\scalar\\__init__.py -> build\\lib.win-amd64-3.7\\pandas\\tests\\scalar\n",
      "  creating build\\lib.win-amd64-3.7\\pandas\\tests\\series\n",
      "  copying pandas\\tests\\series\\common.py -> build\\lib.win-amd64-3.7\\pandas\\tests\\series\n",
      "  copying pandas\\tests\\series\\test_alter_axes.py -> build\\lib.win-amd64-3.7\\pandas\\tests\\series\n",
      "  copying pandas\\tests\\series\\test_analytics.py -> build\\lib.win-amd64-3.7\\pandas\\tests\\series\n",
      "  copying pandas\\tests\\series\\test_api.py -> build\\lib.win-amd64-3.7\\pandas\\tests\\series\n",
      "  copying pandas\\tests\\series\\test_apply.py -> build\\lib.win-amd64-3.7\\pandas\\tests\\series\n",
      "  copying pandas\\tests\\series\\test_arithmetic.py -> build\\lib.win-amd64-3.7\\pandas\\tests\\series\n",
      "  copying pandas\\tests\\series\\test_asof.py -> build\\lib.win-amd64-3.7\\pandas\\tests\\series\n",
      "  copying pandas\\tests\\series\\test_combine_concat.py -> build\\lib.win-amd64-3.7\\pandas\\tests\\series\n",
      "  copying pandas\\tests\\series\\test_constructors.py -> build\\lib.win-amd64-3.7\\pandas\\tests\\series\n",
      "  copying pandas\\tests\\series\\test_datetime_values.py -> build\\lib.win-amd64-3.7\\pandas\\tests\\series\n",
      "  copying pandas\\tests\\series\\test_dtypes.py -> build\\lib.win-amd64-3.7\\pandas\\tests\\series\n",
      "  copying pandas\\tests\\series\\test_internals.py -> build\\lib.win-amd64-3.7\\pandas\\tests\\series\n",
      "  copying pandas\\tests\\series\\test_io.py -> build\\lib.win-amd64-3.7\\pandas\\tests\\series\n",
      "  copying pandas\\tests\\series\\test_missing.py -> build\\lib.win-amd64-3.7\\pandas\\tests\\series\n",
      "  copying pandas\\tests\\series\\test_operators.py -> build\\lib.win-amd64-3.7\\pandas\\tests\\series\n",
      "  copying pandas\\tests\\series\\test_period.py -> build\\lib.win-amd64-3.7\\pandas\\tests\\series\n",
      "  copying pandas\\tests\\series\\test_quantile.py -> build\\lib.win-amd64-3.7\\pandas\\tests\\series\n",
      "  copying pandas\\tests\\series\\test_rank.py -> build\\lib.win-amd64-3.7\\pandas\\tests\\series\n",
      "  copying pandas\\tests\\series\\test_replace.py -> build\\lib.win-amd64-3.7\\pandas\\tests\\series\n",
      "  copying pandas\\tests\\series\\test_repr.py -> build\\lib.win-amd64-3.7\\pandas\\tests\\series\n",
      "  copying pandas\\tests\\series\\test_sorting.py -> build\\lib.win-amd64-3.7\\pandas\\tests\\series\n",
      "  copying pandas\\tests\\series\\test_subclass.py -> build\\lib.win-amd64-3.7\\pandas\\tests\\series\n",
      "  copying pandas\\tests\\series\\test_timeseries.py -> build\\lib.win-amd64-3.7\\pandas\\tests\\series\n",
      "  copying pandas\\tests\\series\\test_timezones.py -> build\\lib.win-amd64-3.7\\pandas\\tests\\series\n",
      "  copying pandas\\tests\\series\\test_validate.py -> build\\lib.win-amd64-3.7\\pandas\\tests\\series\n",
      "  copying pandas\\tests\\series\\__init__.py -> build\\lib.win-amd64-3.7\\pandas\\tests\\series\n",
      "  creating build\\lib.win-amd64-3.7\\pandas\\tests\\sparse\n",
      "  copying pandas\\tests\\sparse\\common.py -> build\\lib.win-amd64-3.7\\pandas\\tests\\sparse\n",
      "  copying pandas\\tests\\sparse\\test_arithmetics.py -> build\\lib.win-amd64-3.7\\pandas\\tests\\sparse\n",
      "  copying pandas\\tests\\sparse\\test_array.py -> build\\lib.win-amd64-3.7\\pandas\\tests\\sparse\n",
      "  copying pandas\\tests\\sparse\\test_combine_concat.py -> build\\lib.win-amd64-3.7\\pandas\\tests\\sparse\n",
      "  copying pandas\\tests\\sparse\\test_format.py -> build\\lib.win-amd64-3.7\\pandas\\tests\\sparse\n",
      "  copying pandas\\tests\\sparse\\test_groupby.py -> build\\lib.win-amd64-3.7\\pandas\\tests\\sparse\n",
      "  copying pandas\\tests\\sparse\\test_indexing.py -> build\\lib.win-amd64-3.7\\pandas\\tests\\sparse\n",
      "  copying pandas\\tests\\sparse\\test_libsparse.py -> build\\lib.win-amd64-3.7\\pandas\\tests\\sparse\n",
      "  copying pandas\\tests\\sparse\\test_pivot.py -> build\\lib.win-amd64-3.7\\pandas\\tests\\sparse\n",
      "  copying pandas\\tests\\sparse\\test_reshape.py -> build\\lib.win-amd64-3.7\\pandas\\tests\\sparse\n",
      "  copying pandas\\tests\\sparse\\__init__.py -> build\\lib.win-amd64-3.7\\pandas\\tests\\sparse\n",
      "  creating build\\lib.win-amd64-3.7\\pandas\\tests\\tools\n",
      "  copying pandas\\tests\\tools\\test_numeric.py -> build\\lib.win-amd64-3.7\\pandas\\tests\\tools\n",
      "  copying pandas\\tests\\tools\\__init__.py -> build\\lib.win-amd64-3.7\\pandas\\tests\\tools\n",
      "  creating build\\lib.win-amd64-3.7\\pandas\\tests\\tseries\n",
      "  copying pandas\\tests\\tseries\\conftest.py -> build\\lib.win-amd64-3.7\\pandas\\tests\\tseries\n",
      "  copying pandas\\tests\\tseries\\test_frequencies.py -> build\\lib.win-amd64-3.7\\pandas\\tests\\tseries\n",
      "  copying pandas\\tests\\tseries\\test_holiday.py -> build\\lib.win-amd64-3.7\\pandas\\tests\\tseries\n",
      "  copying pandas\\tests\\tseries\\__init__.py -> build\\lib.win-amd64-3.7\\pandas\\tests\\tseries\n",
      "  creating build\\lib.win-amd64-3.7\\pandas\\tests\\tslibs\n",
      "  copying pandas\\tests\\tslibs\\test_array_to_datetime.py -> build\\lib.win-amd64-3.7\\pandas\\tests\\tslibs\n",
      "  copying pandas\\tests\\tslibs\\test_ccalendar.py -> build\\lib.win-amd64-3.7\\pandas\\tests\\tslibs\n",
      "  copying pandas\\tests\\tslibs\\test_conversion.py -> build\\lib.win-amd64-3.7\\pandas\\tests\\tslibs\n",
      "  copying pandas\\tests\\tslibs\\test_libfrequencies.py -> build\\lib.win-amd64-3.7\\pandas\\tests\\tslibs\n",
      "  copying pandas\\tests\\tslibs\\test_liboffsets.py -> build\\lib.win-amd64-3.7\\pandas\\tests\\tslibs\n",
      "  copying pandas\\tests\\tslibs\\test_parsing.py -> build\\lib.win-amd64-3.7\\pandas\\tests\\tslibs\n",
      "  copying pandas\\tests\\tslibs\\test_period_asfreq.py -> build\\lib.win-amd64-3.7\\pandas\\tests\\tslibs\n",
      "  copying pandas\\tests\\tslibs\\test_timezones.py -> build\\lib.win-amd64-3.7\\pandas\\tests\\tslibs\n",
      "  copying pandas\\tests\\tslibs\\__init__.py -> build\\lib.win-amd64-3.7\\pandas\\tests\\tslibs\n",
      "  creating build\\lib.win-amd64-3.7\\pandas\\tests\\util\n",
      "  copying pandas\\tests\\util\\test_hashing.py -> build\\lib.win-amd64-3.7\\pandas\\tests\\util\n",
      "  copying pandas\\tests\\util\\test_testing.py -> build\\lib.win-amd64-3.7\\pandas\\tests\\util\n",
      "  copying pandas\\tests\\util\\test_util.py -> build\\lib.win-amd64-3.7\\pandas\\tests\\util\n",
      "  copying pandas\\tests\\util\\__init__.py -> build\\lib.win-amd64-3.7\\pandas\\tests\\util\n",
      "  creating build\\lib.win-amd64-3.7\\pandas\\tests\\extension\\base\n",
      "  copying pandas\\tests\\extension\\base\\base.py -> build\\lib.win-amd64-3.7\\pandas\\tests\\extension\\base\n",
      "  copying pandas\\tests\\extension\\base\\casting.py -> build\\lib.win-amd64-3.7\\pandas\\tests\\extension\\base\n",
      "  copying pandas\\tests\\extension\\base\\constructors.py -> build\\lib.win-amd64-3.7\\pandas\\tests\\extension\\base\n",
      "  copying pandas\\tests\\extension\\base\\dtype.py -> build\\lib.win-amd64-3.7\\pandas\\tests\\extension\\base\n",
      "  copying pandas\\tests\\extension\\base\\getitem.py -> build\\lib.win-amd64-3.7\\pandas\\tests\\extension\\base\n",
      "  copying pandas\\tests\\extension\\base\\groupby.py -> build\\lib.win-amd64-3.7\\pandas\\tests\\extension\\base\n",
      "  copying pandas\\tests\\extension\\base\\interface.py -> build\\lib.win-amd64-3.7\\pandas\\tests\\extension\\base\n",
      "  copying pandas\\tests\\extension\\base\\methods.py -> build\\lib.win-amd64-3.7\\pandas\\tests\\extension\\base\n",
      "  copying pandas\\tests\\extension\\base\\missing.py -> build\\lib.win-amd64-3.7\\pandas\\tests\\extension\\base\n",
      "  copying pandas\\tests\\extension\\base\\reshaping.py -> build\\lib.win-amd64-3.7\\pandas\\tests\\extension\\base\n",
      "  copying pandas\\tests\\extension\\base\\setitem.py -> build\\lib.win-amd64-3.7\\pandas\\tests\\extension\\base\n",
      "  copying pandas\\tests\\extension\\base\\__init__.py -> build\\lib.win-amd64-3.7\\pandas\\tests\\extension\\base\n",
      "  creating build\\lib.win-amd64-3.7\\pandas\\tests\\extension\\category\n",
      "  copying pandas\\tests\\extension\\category\\test_categorical.py -> build\\lib.win-amd64-3.7\\pandas\\tests\\extension\\category\n",
      "  copying pandas\\tests\\extension\\category\\__init__.py -> build\\lib.win-amd64-3.7\\pandas\\tests\\extension\\category\n",
      "  creating build\\lib.win-amd64-3.7\\pandas\\tests\\extension\\decimal\n",
      "  copying pandas\\tests\\extension\\decimal\\array.py -> build\\lib.win-amd64-3.7\\pandas\\tests\\extension\\decimal\n",
      "  copying pandas\\tests\\extension\\decimal\\test_decimal.py -> build\\lib.win-amd64-3.7\\pandas\\tests\\extension\\decimal\n",
      "  copying pandas\\tests\\extension\\decimal\\__init__.py -> build\\lib.win-amd64-3.7\\pandas\\tests\\extension\\decimal\n",
      "  creating build\\lib.win-amd64-3.7\\pandas\\tests\\extension\\json\n",
      "  copying pandas\\tests\\extension\\json\\array.py -> build\\lib.win-amd64-3.7\\pandas\\tests\\extension\\json\n",
      "  copying pandas\\tests\\extension\\json\\test_json.py -> build\\lib.win-amd64-3.7\\pandas\\tests\\extension\\json\n",
      "  copying pandas\\tests\\extension\\json\\__init__.py -> build\\lib.win-amd64-3.7\\pandas\\tests\\extension\\json\n",
      "  creating build\\lib.win-amd64-3.7\\pandas\\tests\\groupby\\aggregate\n",
      "  copying pandas\\tests\\groupby\\aggregate\\test_aggregate.py -> build\\lib.win-amd64-3.7\\pandas\\tests\\groupby\\aggregate\n",
      "  copying pandas\\tests\\groupby\\aggregate\\test_cython.py -> build\\lib.win-amd64-3.7\\pandas\\tests\\groupby\\aggregate\n",
      "  copying pandas\\tests\\groupby\\aggregate\\test_other.py -> build\\lib.win-amd64-3.7\\pandas\\tests\\groupby\\aggregate\n",
      "  copying pandas\\tests\\groupby\\aggregate\\__init__.py -> build\\lib.win-amd64-3.7\\pandas\\tests\\groupby\\aggregate\n",
      "  creating build\\lib.win-amd64-3.7\\pandas\\tests\\indexes\\datetimes\n",
      "  copying pandas\\tests\\indexes\\datetimes\\test_arithmetic.py -> build\\lib.win-amd64-3.7\\pandas\\tests\\indexes\\datetimes\n",
      "  copying pandas\\tests\\indexes\\datetimes\\test_astype.py -> build\\lib.win-amd64-3.7\\pandas\\tests\\indexes\\datetimes\n",
      "  copying pandas\\tests\\indexes\\datetimes\\test_construction.py -> build\\lib.win-amd64-3.7\\pandas\\tests\\indexes\\datetimes\n",
      "  copying pandas\\tests\\indexes\\datetimes\\test_datetime.py -> build\\lib.win-amd64-3.7\\pandas\\tests\\indexes\\datetimes\n",
      "  copying pandas\\tests\\indexes\\datetimes\\test_datetimelike.py -> build\\lib.win-amd64-3.7\\pandas\\tests\\indexes\\datetimes\n",
      "  copying pandas\\tests\\indexes\\datetimes\\test_date_range.py -> build\\lib.win-amd64-3.7\\pandas\\tests\\indexes\\datetimes\n",
      "  copying pandas\\tests\\indexes\\datetimes\\test_formats.py -> build\\lib.win-amd64-3.7\\pandas\\tests\\indexes\\datetimes\n",
      "  copying pandas\\tests\\indexes\\datetimes\\test_indexing.py -> build\\lib.win-amd64-3.7\\pandas\\tests\\indexes\\datetimes\n",
      "  copying pandas\\tests\\indexes\\datetimes\\test_misc.py -> build\\lib.win-amd64-3.7\\pandas\\tests\\indexes\\datetimes\n",
      "  copying pandas\\tests\\indexes\\datetimes\\test_missing.py -> build\\lib.win-amd64-3.7\\pandas\\tests\\indexes\\datetimes\n",
      "  copying pandas\\tests\\indexes\\datetimes\\test_ops.py -> build\\lib.win-amd64-3.7\\pandas\\tests\\indexes\\datetimes\n",
      "  copying pandas\\tests\\indexes\\datetimes\\test_partial_slicing.py -> build\\lib.win-amd64-3.7\\pandas\\tests\\indexes\\datetimes\n",
      "  copying pandas\\tests\\indexes\\datetimes\\test_scalar_compat.py -> build\\lib.win-amd64-3.7\\pandas\\tests\\indexes\\datetimes\n",
      "  copying pandas\\tests\\indexes\\datetimes\\test_setops.py -> build\\lib.win-amd64-3.7\\pandas\\tests\\indexes\\datetimes\n",
      "  copying pandas\\tests\\indexes\\datetimes\\test_timezones.py -> build\\lib.win-amd64-3.7\\pandas\\tests\\indexes\\datetimes\n",
      "  copying pandas\\tests\\indexes\\datetimes\\test_tools.py -> build\\lib.win-amd64-3.7\\pandas\\tests\\indexes\\datetimes\n",
      "  copying pandas\\tests\\indexes\\datetimes\\__init__.py -> build\\lib.win-amd64-3.7\\pandas\\tests\\indexes\\datetimes\n",
      "  creating build\\lib.win-amd64-3.7\\pandas\\tests\\indexes\\interval\n",
      "  copying pandas\\tests\\indexes\\interval\\test_astype.py -> build\\lib.win-amd64-3.7\\pandas\\tests\\indexes\\interval\n",
      "  copying pandas\\tests\\indexes\\interval\\test_construction.py -> build\\lib.win-amd64-3.7\\pandas\\tests\\indexes\\interval\n",
      "  copying pandas\\tests\\indexes\\interval\\test_interval.py -> build\\lib.win-amd64-3.7\\pandas\\tests\\indexes\\interval\n",
      "  copying pandas\\tests\\indexes\\interval\\test_interval_new.py -> build\\lib.win-amd64-3.7\\pandas\\tests\\indexes\\interval\n",
      "  copying pandas\\tests\\indexes\\interval\\test_interval_range.py -> build\\lib.win-amd64-3.7\\pandas\\tests\\indexes\\interval\n",
      "  copying pandas\\tests\\indexes\\interval\\test_interval_tree.py -> build\\lib.win-amd64-3.7\\pandas\\tests\\indexes\\interval\n",
      "  copying pandas\\tests\\indexes\\interval\\__init__.py -> build\\lib.win-amd64-3.7\\pandas\\tests\\indexes\\interval\n",
      "  creating build\\lib.win-amd64-3.7\\pandas\\tests\\indexes\\period\n",
      "  copying pandas\\tests\\indexes\\period\\test_arithmetic.py -> build\\lib.win-amd64-3.7\\pandas\\tests\\indexes\\period\n",
      "  copying pandas\\tests\\indexes\\period\\test_asfreq.py -> build\\lib.win-amd64-3.7\\pandas\\tests\\indexes\\period\n",
      "  copying pandas\\tests\\indexes\\period\\test_astype.py -> build\\lib.win-amd64-3.7\\pandas\\tests\\indexes\\period\n",
      "  copying pandas\\tests\\indexes\\period\\test_construction.py -> build\\lib.win-amd64-3.7\\pandas\\tests\\indexes\\period\n",
      "  copying pandas\\tests\\indexes\\period\\test_formats.py -> build\\lib.win-amd64-3.7\\pandas\\tests\\indexes\\period\n",
      "  copying pandas\\tests\\indexes\\period\\test_indexing.py -> build\\lib.win-amd64-3.7\\pandas\\tests\\indexes\\period\n",
      "  copying pandas\\tests\\indexes\\period\\test_ops.py -> build\\lib.win-amd64-3.7\\pandas\\tests\\indexes\\period\n",
      "  copying pandas\\tests\\indexes\\period\\test_partial_slicing.py -> build\\lib.win-amd64-3.7\\pandas\\tests\\indexes\\period\n",
      "  copying pandas\\tests\\indexes\\period\\test_period.py -> build\\lib.win-amd64-3.7\\pandas\\tests\\indexes\\period\n",
      "  copying pandas\\tests\\indexes\\period\\test_period_range.py -> build\\lib.win-amd64-3.7\\pandas\\tests\\indexes\\period\n",
      "  copying pandas\\tests\\indexes\\period\\test_scalar_compat.py -> build\\lib.win-amd64-3.7\\pandas\\tests\\indexes\\period\n",
      "  copying pandas\\tests\\indexes\\period\\test_setops.py -> build\\lib.win-amd64-3.7\\pandas\\tests\\indexes\\period\n",
      "  copying pandas\\tests\\indexes\\period\\test_tools.py -> build\\lib.win-amd64-3.7\\pandas\\tests\\indexes\\period\n",
      "  copying pandas\\tests\\indexes\\period\\__init__.py -> build\\lib.win-amd64-3.7\\pandas\\tests\\indexes\\period\n",
      "  creating build\\lib.win-amd64-3.7\\pandas\\tests\\indexes\\timedeltas\n",
      "  copying pandas\\tests\\indexes\\timedeltas\\test_arithmetic.py -> build\\lib.win-amd64-3.7\\pandas\\tests\\indexes\\timedeltas\n",
      "  copying pandas\\tests\\indexes\\timedeltas\\test_astype.py -> build\\lib.win-amd64-3.7\\pandas\\tests\\indexes\\timedeltas\n",
      "  copying pandas\\tests\\indexes\\timedeltas\\test_construction.py -> build\\lib.win-amd64-3.7\\pandas\\tests\\indexes\\timedeltas\n",
      "  copying pandas\\tests\\indexes\\timedeltas\\test_formats.py -> build\\lib.win-amd64-3.7\\pandas\\tests\\indexes\\timedeltas\n",
      "  copying pandas\\tests\\indexes\\timedeltas\\test_indexing.py -> build\\lib.win-amd64-3.7\\pandas\\tests\\indexes\\timedeltas\n",
      "  copying pandas\\tests\\indexes\\timedeltas\\test_ops.py -> build\\lib.win-amd64-3.7\\pandas\\tests\\indexes\\timedeltas\n",
      "  copying pandas\\tests\\indexes\\timedeltas\\test_partial_slicing.py -> build\\lib.win-amd64-3.7\\pandas\\tests\\indexes\\timedeltas\n",
      "  copying pandas\\tests\\indexes\\timedeltas\\test_scalar_compat.py -> build\\lib.win-amd64-3.7\\pandas\\tests\\indexes\\timedeltas\n",
      "  copying pandas\\tests\\indexes\\timedeltas\\test_setops.py -> build\\lib.win-amd64-3.7\\pandas\\tests\\indexes\\timedeltas\n",
      "  copying pandas\\tests\\indexes\\timedeltas\\test_timedelta.py -> build\\lib.win-amd64-3.7\\pandas\\tests\\indexes\\timedeltas\n",
      "  copying pandas\\tests\\indexes\\timedeltas\\test_timedelta_range.py -> build\\lib.win-amd64-3.7\\pandas\\tests\\indexes\\timedeltas\n",
      "  copying pandas\\tests\\indexes\\timedeltas\\test_tools.py -> build\\lib.win-amd64-3.7\\pandas\\tests\\indexes\\timedeltas\n",
      "  copying pandas\\tests\\indexes\\timedeltas\\__init__.py -> build\\lib.win-amd64-3.7\\pandas\\tests\\indexes\\timedeltas\n",
      "  creating build\\lib.win-amd64-3.7\\pandas\\tests\\indexing\\interval\n",
      "  copying pandas\\tests\\indexing\\interval\\test_interval.py -> build\\lib.win-amd64-3.7\\pandas\\tests\\indexing\\interval\n",
      "  copying pandas\\tests\\indexing\\interval\\test_interval_new.py -> build\\lib.win-amd64-3.7\\pandas\\tests\\indexing\\interval\n",
      "  copying pandas\\tests\\indexing\\interval\\__init__.py -> build\\lib.win-amd64-3.7\\pandas\\tests\\indexing\\interval\n",
      "  creating build\\lib.win-amd64-3.7\\pandas\\tests\\io\\formats\n",
      "  copying pandas\\tests\\io\\formats\\test_css.py -> build\\lib.win-amd64-3.7\\pandas\\tests\\io\\formats\n",
      "  copying pandas\\tests\\io\\formats\\test_eng_formatting.py -> build\\lib.win-amd64-3.7\\pandas\\tests\\io\\formats\n",
      "  copying pandas\\tests\\io\\formats\\test_format.py -> build\\lib.win-amd64-3.7\\pandas\\tests\\io\\formats\n",
      "  copying pandas\\tests\\io\\formats\\test_printing.py -> build\\lib.win-amd64-3.7\\pandas\\tests\\io\\formats\n",
      "  copying pandas\\tests\\io\\formats\\test_style.py -> build\\lib.win-amd64-3.7\\pandas\\tests\\io\\formats\n",
      "  copying pandas\\tests\\io\\formats\\test_to_csv.py -> build\\lib.win-amd64-3.7\\pandas\\tests\\io\\formats\n",
      "  copying pandas\\tests\\io\\formats\\test_to_excel.py -> build\\lib.win-amd64-3.7\\pandas\\tests\\io\\formats\n",
      "  copying pandas\\tests\\io\\formats\\test_to_html.py -> build\\lib.win-amd64-3.7\\pandas\\tests\\io\\formats\n",
      "  copying pandas\\tests\\io\\formats\\test_to_latex.py -> build\\lib.win-amd64-3.7\\pandas\\tests\\io\\formats\n",
      "  copying pandas\\tests\\io\\formats\\__init__.py -> build\\lib.win-amd64-3.7\\pandas\\tests\\io\\formats\n",
      "  creating build\\lib.win-amd64-3.7\\pandas\\tests\\io\\json\n",
      "  copying pandas\\tests\\io\\json\\test_compression.py -> build\\lib.win-amd64-3.7\\pandas\\tests\\io\\json\n",
      "  copying pandas\\tests\\io\\json\\test_json_table_schema.py -> build\\lib.win-amd64-3.7\\pandas\\tests\\io\\json\n",
      "  copying pandas\\tests\\io\\json\\test_normalize.py -> build\\lib.win-amd64-3.7\\pandas\\tests\\io\\json\n",
      "  copying pandas\\tests\\io\\json\\test_pandas.py -> build\\lib.win-amd64-3.7\\pandas\\tests\\io\\json\n",
      "  copying pandas\\tests\\io\\json\\test_readlines.py -> build\\lib.win-amd64-3.7\\pandas\\tests\\io\\json\n",
      "  copying pandas\\tests\\io\\json\\test_ujson.py -> build\\lib.win-amd64-3.7\\pandas\\tests\\io\\json\n",
      "  copying pandas\\tests\\io\\json\\__init__.py -> build\\lib.win-amd64-3.7\\pandas\\tests\\io\\json\n",
      "  creating build\\lib.win-amd64-3.7\\pandas\\tests\\io\\msgpack\n",
      "  copying pandas\\tests\\io\\msgpack\\common.py -> build\\lib.win-amd64-3.7\\pandas\\tests\\io\\msgpack\n",
      "  copying pandas\\tests\\io\\msgpack\\test_buffer.py -> build\\lib.win-amd64-3.7\\pandas\\tests\\io\\msgpack\n",
      "  copying pandas\\tests\\io\\msgpack\\test_case.py -> build\\lib.win-amd64-3.7\\pandas\\tests\\io\\msgpack\n",
      "  copying pandas\\tests\\io\\msgpack\\test_except.py -> build\\lib.win-amd64-3.7\\pandas\\tests\\io\\msgpack\n",
      "  copying pandas\\tests\\io\\msgpack\\test_extension.py -> build\\lib.win-amd64-3.7\\pandas\\tests\\io\\msgpack\n",
      "  copying pandas\\tests\\io\\msgpack\\test_format.py -> build\\lib.win-amd64-3.7\\pandas\\tests\\io\\msgpack\n",
      "  copying pandas\\tests\\io\\msgpack\\test_limits.py -> build\\lib.win-amd64-3.7\\pandas\\tests\\io\\msgpack\n",
      "  copying pandas\\tests\\io\\msgpack\\test_newspec.py -> build\\lib.win-amd64-3.7\\pandas\\tests\\io\\msgpack\n",
      "  copying pandas\\tests\\io\\msgpack\\test_obj.py -> build\\lib.win-amd64-3.7\\pandas\\tests\\io\\msgpack\n",
      "  copying pandas\\tests\\io\\msgpack\\test_pack.py -> build\\lib.win-amd64-3.7\\pandas\\tests\\io\\msgpack\n",
      "  copying pandas\\tests\\io\\msgpack\\test_read_size.py -> build\\lib.win-amd64-3.7\\pandas\\tests\\io\\msgpack\n",
      "  copying pandas\\tests\\io\\msgpack\\test_seq.py -> build\\lib.win-amd64-3.7\\pandas\\tests\\io\\msgpack\n",
      "  copying pandas\\tests\\io\\msgpack\\test_sequnpack.py -> build\\lib.win-amd64-3.7\\pandas\\tests\\io\\msgpack\n",
      "  copying pandas\\tests\\io\\msgpack\\test_subtype.py -> build\\lib.win-amd64-3.7\\pandas\\tests\\io\\msgpack\n",
      "  copying pandas\\tests\\io\\msgpack\\test_unpack.py -> build\\lib.win-amd64-3.7\\pandas\\tests\\io\\msgpack\n",
      "  copying pandas\\tests\\io\\msgpack\\test_unpack_raw.py -> build\\lib.win-amd64-3.7\\pandas\\tests\\io\\msgpack\n",
      "  copying pandas\\tests\\io\\msgpack\\__init__.py -> build\\lib.win-amd64-3.7\\pandas\\tests\\io\\msgpack\n",
      "  creating build\\lib.win-amd64-3.7\\pandas\\tests\\io\\parser\n",
      "  copying pandas\\tests\\io\\parser\\comment.py -> build\\lib.win-amd64-3.7\\pandas\\tests\\io\\parser\n",
      "  copying pandas\\tests\\io\\parser\\common.py -> build\\lib.win-amd64-3.7\\pandas\\tests\\io\\parser\n",
      "  copying pandas\\tests\\io\\parser\\compression.py -> build\\lib.win-amd64-3.7\\pandas\\tests\\io\\parser\n",
      "  copying pandas\\tests\\io\\parser\\converters.py -> build\\lib.win-amd64-3.7\\pandas\\tests\\io\\parser\n",
      "  copying pandas\\tests\\io\\parser\\c_parser_only.py -> build\\lib.win-amd64-3.7\\pandas\\tests\\io\\parser\n",
      "  copying pandas\\tests\\io\\parser\\dialect.py -> build\\lib.win-amd64-3.7\\pandas\\tests\\io\\parser\n",
      "  copying pandas\\tests\\io\\parser\\dtypes.py -> build\\lib.win-amd64-3.7\\pandas\\tests\\io\\parser\n",
      "  copying pandas\\tests\\io\\parser\\header.py -> build\\lib.win-amd64-3.7\\pandas\\tests\\io\\parser\n",
      "  copying pandas\\tests\\io\\parser\\index_col.py -> build\\lib.win-amd64-3.7\\pandas\\tests\\io\\parser\n",
      "  copying pandas\\tests\\io\\parser\\mangle_dupes.py -> build\\lib.win-amd64-3.7\\pandas\\tests\\io\\parser\n",
      "  copying pandas\\tests\\io\\parser\\multithread.py -> build\\lib.win-amd64-3.7\\pandas\\tests\\io\\parser\n",
      "  copying pandas\\tests\\io\\parser\\na_values.py -> build\\lib.win-amd64-3.7\\pandas\\tests\\io\\parser\n",
      "  copying pandas\\tests\\io\\parser\\parse_dates.py -> build\\lib.win-amd64-3.7\\pandas\\tests\\io\\parser\n",
      "  copying pandas\\tests\\io\\parser\\python_parser_only.py -> build\\lib.win-amd64-3.7\\pandas\\tests\\io\\parser\n",
      "  copying pandas\\tests\\io\\parser\\quoting.py -> build\\lib.win-amd64-3.7\\pandas\\tests\\io\\parser\n",
      "  copying pandas\\tests\\io\\parser\\skiprows.py -> build\\lib.win-amd64-3.7\\pandas\\tests\\io\\parser\n",
      "  copying pandas\\tests\\io\\parser\\test_network.py -> build\\lib.win-amd64-3.7\\pandas\\tests\\io\\parser\n",
      "  copying pandas\\tests\\io\\parser\\test_parsers.py -> build\\lib.win-amd64-3.7\\pandas\\tests\\io\\parser\n",
      "  copying pandas\\tests\\io\\parser\\test_read_fwf.py -> build\\lib.win-amd64-3.7\\pandas\\tests\\io\\parser\n",
      "  copying pandas\\tests\\io\\parser\\test_textreader.py -> build\\lib.win-amd64-3.7\\pandas\\tests\\io\\parser\n",
      "  copying pandas\\tests\\io\\parser\\test_unsupported.py -> build\\lib.win-amd64-3.7\\pandas\\tests\\io\\parser\n",
      "  copying pandas\\tests\\io\\parser\\usecols.py -> build\\lib.win-amd64-3.7\\pandas\\tests\\io\\parser\n",
      "  copying pandas\\tests\\io\\parser\\__init__.py -> build\\lib.win-amd64-3.7\\pandas\\tests\\io\\parser\n",
      "  creating build\\lib.win-amd64-3.7\\pandas\\tests\\io\\sas\n",
      "  copying pandas\\tests\\io\\sas\\test_sas.py -> build\\lib.win-amd64-3.7\\pandas\\tests\\io\\sas\n",
      "  copying pandas\\tests\\io\\sas\\test_sas7bdat.py -> build\\lib.win-amd64-3.7\\pandas\\tests\\io\\sas\n",
      "  copying pandas\\tests\\io\\sas\\test_xport.py -> build\\lib.win-amd64-3.7\\pandas\\tests\\io\\sas\n",
      "  copying pandas\\tests\\io\\sas\\__init__.py -> build\\lib.win-amd64-3.7\\pandas\\tests\\io\\sas\n",
      "  creating build\\lib.win-amd64-3.7\\pandas\\tests\\reshape\\merge\n",
      "  copying pandas\\tests\\reshape\\merge\\test_join.py -> build\\lib.win-amd64-3.7\\pandas\\tests\\reshape\\merge\n",
      "  copying pandas\\tests\\reshape\\merge\\test_merge.py -> build\\lib.win-amd64-3.7\\pandas\\tests\\reshape\\merge\n",
      "  copying pandas\\tests\\reshape\\merge\\test_merge_asof.py -> build\\lib.win-amd64-3.7\\pandas\\tests\\reshape\\merge\n",
      "  copying pandas\\tests\\reshape\\merge\\test_merge_index_as_string.py -> build\\lib.win-amd64-3.7\\pandas\\tests\\reshape\\merge\n",
      "  copying pandas\\tests\\reshape\\merge\\test_merge_ordered.py -> build\\lib.win-amd64-3.7\\pandas\\tests\\reshape\\merge\n",
      "  copying pandas\\tests\\reshape\\merge\\__init__.py -> build\\lib.win-amd64-3.7\\pandas\\tests\\reshape\\merge\n",
      "  creating build\\lib.win-amd64-3.7\\pandas\\tests\\scalar\\interval\n",
      "  copying pandas\\tests\\scalar\\interval\\test_interval.py -> build\\lib.win-amd64-3.7\\pandas\\tests\\scalar\\interval\n",
      "  copying pandas\\tests\\scalar\\interval\\__init__.py -> build\\lib.win-amd64-3.7\\pandas\\tests\\scalar\\interval\n",
      "  creating build\\lib.win-amd64-3.7\\pandas\\tests\\scalar\\period\n",
      "  copying pandas\\tests\\scalar\\period\\test_asfreq.py -> build\\lib.win-amd64-3.7\\pandas\\tests\\scalar\\period\n",
      "  copying pandas\\tests\\scalar\\period\\test_period.py -> build\\lib.win-amd64-3.7\\pandas\\tests\\scalar\\period\n",
      "  copying pandas\\tests\\scalar\\period\\__init__.py -> build\\lib.win-amd64-3.7\\pandas\\tests\\scalar\\period\n",
      "  creating build\\lib.win-amd64-3.7\\pandas\\tests\\scalar\\timedelta\n",
      "  copying pandas\\tests\\scalar\\timedelta\\test_arithmetic.py -> build\\lib.win-amd64-3.7\\pandas\\tests\\scalar\\timedelta\n",
      "  copying pandas\\tests\\scalar\\timedelta\\test_construction.py -> build\\lib.win-amd64-3.7\\pandas\\tests\\scalar\\timedelta\n",
      "  copying pandas\\tests\\scalar\\timedelta\\test_formats.py -> build\\lib.win-amd64-3.7\\pandas\\tests\\scalar\\timedelta\n",
      "  copying pandas\\tests\\scalar\\timedelta\\test_timedelta.py -> build\\lib.win-amd64-3.7\\pandas\\tests\\scalar\\timedelta\n",
      "  copying pandas\\tests\\scalar\\timedelta\\__init__.py -> build\\lib.win-amd64-3.7\\pandas\\tests\\scalar\\timedelta\n",
      "  creating build\\lib.win-amd64-3.7\\pandas\\tests\\scalar\\timestamp\n",
      "  copying pandas\\tests\\scalar\\timestamp\\test_arithmetic.py -> build\\lib.win-amd64-3.7\\pandas\\tests\\scalar\\timestamp\n",
      "  copying pandas\\tests\\scalar\\timestamp\\test_comparisons.py -> build\\lib.win-amd64-3.7\\pandas\\tests\\scalar\\timestamp\n",
      "  copying pandas\\tests\\scalar\\timestamp\\test_rendering.py -> build\\lib.win-amd64-3.7\\pandas\\tests\\scalar\\timestamp\n",
      "  copying pandas\\tests\\scalar\\timestamp\\test_timestamp.py -> build\\lib.win-amd64-3.7\\pandas\\tests\\scalar\\timestamp\n",
      "  copying pandas\\tests\\scalar\\timestamp\\test_timezones.py -> build\\lib.win-amd64-3.7\\pandas\\tests\\scalar\\timestamp\n",
      "  copying pandas\\tests\\scalar\\timestamp\\test_unary_ops.py -> build\\lib.win-amd64-3.7\\pandas\\tests\\scalar\\timestamp\n",
      "  copying pandas\\tests\\scalar\\timestamp\\__init__.py -> build\\lib.win-amd64-3.7\\pandas\\tests\\scalar\\timestamp\n",
      "  creating build\\lib.win-amd64-3.7\\pandas\\tests\\series\\indexing\n",
      "  copying pandas\\tests\\series\\indexing\\conftest.py -> build\\lib.win-amd64-3.7\\pandas\\tests\\series\\indexing\n",
      "  copying pandas\\tests\\series\\indexing\\test_alter_index.py -> build\\lib.win-amd64-3.7\\pandas\\tests\\series\\indexing\n",
      "  copying pandas\\tests\\series\\indexing\\test_boolean.py -> build\\lib.win-amd64-3.7\\pandas\\tests\\series\\indexing\n",
      "  copying pandas\\tests\\series\\indexing\\test_callable.py -> build\\lib.win-amd64-3.7\\pandas\\tests\\series\\indexing\n",
      "  copying pandas\\tests\\series\\indexing\\test_datetime.py -> build\\lib.win-amd64-3.7\\pandas\\tests\\series\\indexing\n",
      "  copying pandas\\tests\\series\\indexing\\test_iloc.py -> build\\lib.win-amd64-3.7\\pandas\\tests\\series\\indexing\n",
      "  copying pandas\\tests\\series\\indexing\\test_indexing.py -> build\\lib.win-amd64-3.7\\pandas\\tests\\series\\indexing\n",
      "  copying pandas\\tests\\series\\indexing\\test_loc.py -> build\\lib.win-amd64-3.7\\pandas\\tests\\series\\indexing\n",
      "  copying pandas\\tests\\series\\indexing\\test_numeric.py -> build\\lib.win-amd64-3.7\\pandas\\tests\\series\\indexing\n",
      "  copying pandas\\tests\\series\\indexing\\__init__.py -> build\\lib.win-amd64-3.7\\pandas\\tests\\series\\indexing\n",
      "  creating build\\lib.win-amd64-3.7\\pandas\\tests\\sparse\\frame\n",
      "  copying pandas\\tests\\sparse\\frame\\test_analytics.py -> build\\lib.win-amd64-3.7\\pandas\\tests\\sparse\\frame\n",
      "  copying pandas\\tests\\sparse\\frame\\test_apply.py -> build\\lib.win-amd64-3.7\\pandas\\tests\\sparse\\frame\n",
      "  copying pandas\\tests\\sparse\\frame\\test_frame.py -> build\\lib.win-amd64-3.7\\pandas\\tests\\sparse\\frame\n",
      "  copying pandas\\tests\\sparse\\frame\\test_indexing.py -> build\\lib.win-amd64-3.7\\pandas\\tests\\sparse\\frame\n",
      "  copying pandas\\tests\\sparse\\frame\\test_to_csv.py -> build\\lib.win-amd64-3.7\\pandas\\tests\\sparse\\frame\n",
      "  copying pandas\\tests\\sparse\\frame\\test_to_from_scipy.py -> build\\lib.win-amd64-3.7\\pandas\\tests\\sparse\\frame\n",
      "  copying pandas\\tests\\sparse\\frame\\__init__.py -> build\\lib.win-amd64-3.7\\pandas\\tests\\sparse\\frame\n",
      "  creating build\\lib.win-amd64-3.7\\pandas\\tests\\sparse\\series\n",
      "  copying pandas\\tests\\sparse\\series\\test_indexing.py -> build\\lib.win-amd64-3.7\\pandas\\tests\\sparse\\series\n",
      "  copying pandas\\tests\\sparse\\series\\test_series.py -> build\\lib.win-amd64-3.7\\pandas\\tests\\sparse\\series\n",
      "  copying pandas\\tests\\sparse\\series\\__init__.py -> build\\lib.win-amd64-3.7\\pandas\\tests\\sparse\\series\n",
      "  creating build\\lib.win-amd64-3.7\\pandas\\tests\\tseries\\offsets\n",
      "  copying pandas\\tests\\tseries\\offsets\\common.py -> build\\lib.win-amd64-3.7\\pandas\\tests\\tseries\\offsets\n",
      "  copying pandas\\tests\\tseries\\offsets\\conftest.py -> build\\lib.win-amd64-3.7\\pandas\\tests\\tseries\\offsets\n",
      "  copying pandas\\tests\\tseries\\offsets\\test_fiscal.py -> build\\lib.win-amd64-3.7\\pandas\\tests\\tseries\\offsets\n",
      "  copying pandas\\tests\\tseries\\offsets\\test_offsets.py -> build\\lib.win-amd64-3.7\\pandas\\tests\\tseries\\offsets\n",
      "  copying pandas\\tests\\tseries\\offsets\\test_ticks.py -> build\\lib.win-amd64-3.7\\pandas\\tests\\tseries\\offsets\n",
      "  copying pandas\\tests\\tseries\\offsets\\test_yqm_offsets.py -> build\\lib.win-amd64-3.7\\pandas\\tests\\tseries\\offsets\n",
      "  copying pandas\\tests\\tseries\\offsets\\__init__.py -> build\\lib.win-amd64-3.7\\pandas\\tests\\tseries\\offsets\n",
      "  creating build\\lib.win-amd64-3.7\\pandas\\_libs\\tslibs\n",
      "  copying pandas\\_libs\\tslibs\\__init__.py -> build\\lib.win-amd64-3.7\\pandas\\_libs\\tslibs\n",
      "  creating build\\lib.win-amd64-3.7\\pandas\\tests\\data\n",
      "  copying pandas\\tests\\data\\iris.csv -> build\\lib.win-amd64-3.7\\pandas\\tests\\data\n",
      "  copying pandas\\tests\\data\\tips.csv -> build\\lib.win-amd64-3.7\\pandas\\tests\\data\n",
      "  creating build\\lib.win-amd64-3.7\\pandas\\io\\formats\\templates\n",
      "  copying pandas\\io\\formats\\templates\\html.tpl -> build\\lib.win-amd64-3.7\\pandas\\io\\formats\\templates\n",
      "  creating build\\lib.win-amd64-3.7\\pandas\\tests\\indexes\\data\n",
      "  copying pandas\\tests\\indexes\\data\\mindex_073.pickle -> build\\lib.win-amd64-3.7\\pandas\\tests\\indexes\\data\n",
      "  copying pandas\\tests\\indexes\\data\\multiindex_v1.pickle -> build\\lib.win-amd64-3.7\\pandas\\tests\\indexes\\data\n",
      "  creating build\\lib.win-amd64-3.7\\pandas\\tests\\io\\data\n",
      "  copying pandas\\tests\\io\\data\\banklist.csv -> build\\lib.win-amd64-3.7\\pandas\\tests\\io\\data\n",
      "  copying pandas\\tests\\io\\data\\banklist.html -> build\\lib.win-amd64-3.7\\pandas\\tests\\io\\data\n",
      "  copying pandas\\tests\\io\\data\\blank.xls -> build\\lib.win-amd64-3.7\\pandas\\tests\\io\\data\n",
      "  copying pandas\\tests\\io\\data\\blank.xlsm -> build\\lib.win-amd64-3.7\\pandas\\tests\\io\\data\n",
      "  copying pandas\\tests\\io\\data\\blank.xlsx -> build\\lib.win-amd64-3.7\\pandas\\tests\\io\\data\n",
      "  copying pandas\\tests\\io\\data\\blank_with_header.xls -> build\\lib.win-amd64-3.7\\pandas\\tests\\io\\data\n",
      "  copying pandas\\tests\\io\\data\\blank_with_header.xlsm -> build\\lib.win-amd64-3.7\\pandas\\tests\\io\\data\n",
      "  copying pandas\\tests\\io\\data\\blank_with_header.xlsx -> build\\lib.win-amd64-3.7\\pandas\\tests\\io\\data\n",
      "  copying pandas\\tests\\io\\data\\categorical_0_14_1.pickle -> build\\lib.win-amd64-3.7\\pandas\\tests\\io\\data\n",
      "  copying pandas\\tests\\io\\data\\categorical_0_15_2.pickle -> build\\lib.win-amd64-3.7\\pandas\\tests\\io\\data\n",
      "  copying pandas\\tests\\io\\data\\computer_sales_page.html -> build\\lib.win-amd64-3.7\\pandas\\tests\\io\\data\n",
      "  copying pandas\\tests\\io\\data\\feather-0_3_1.feather -> build\\lib.win-amd64-3.7\\pandas\\tests\\io\\data\n",
      "  copying pandas\\tests\\io\\data\\fixed_width_format.txt -> build\\lib.win-amd64-3.7\\pandas\\tests\\io\\data\n",
      "  copying pandas\\tests\\io\\data\\gbq_fake_job.txt -> build\\lib.win-amd64-3.7\\pandas\\tests\\io\\data\n",
      "  copying pandas\\tests\\io\\data\\iris.csv -> build\\lib.win-amd64-3.7\\pandas\\tests\\io\\data\n",
      "  copying pandas\\tests\\io\\data\\macau.html -> build\\lib.win-amd64-3.7\\pandas\\tests\\io\\data\n",
      "  copying pandas\\tests\\io\\data\\nyse_wsj.html -> build\\lib.win-amd64-3.7\\pandas\\tests\\io\\data\n",
      "  copying pandas\\tests\\io\\data\\S4_EDUC1.dta -> build\\lib.win-amd64-3.7\\pandas\\tests\\io\\data\n",
      "  copying pandas\\tests\\io\\data\\spam.html -> build\\lib.win-amd64-3.7\\pandas\\tests\\io\\data\n",
      "  copying pandas\\tests\\io\\data\\stata10_115.dta -> build\\lib.win-amd64-3.7\\pandas\\tests\\io\\data\n",
      "  copying pandas\\tests\\io\\data\\stata10_117.dta -> build\\lib.win-amd64-3.7\\pandas\\tests\\io\\data\n",
      "  copying pandas\\tests\\io\\data\\stata11_115.dta -> build\\lib.win-amd64-3.7\\pandas\\tests\\io\\data\n",
      "  copying pandas\\tests\\io\\data\\stata11_117.dta -> build\\lib.win-amd64-3.7\\pandas\\tests\\io\\data\n",
      "  copying pandas\\tests\\io\\data\\stata12_117.dta -> build\\lib.win-amd64-3.7\\pandas\\tests\\io\\data\n",
      "  copying pandas\\tests\\io\\data\\stata13_dates.dta -> build\\lib.win-amd64-3.7\\pandas\\tests\\io\\data\n",
      "  copying pandas\\tests\\io\\data\\stata14_118.dta -> build\\lib.win-amd64-3.7\\pandas\\tests\\io\\data\n",
      "  copying pandas\\tests\\io\\data\\stata15.dta -> build\\lib.win-amd64-3.7\\pandas\\tests\\io\\data\n",
      "  copying pandas\\tests\\io\\data\\stata1_114.dta -> build\\lib.win-amd64-3.7\\pandas\\tests\\io\\data\n",
      "  copying pandas\\tests\\io\\data\\stata1_117.dta -> build\\lib.win-amd64-3.7\\pandas\\tests\\io\\data\n",
      "  copying pandas\\tests\\io\\data\\stata1_encoding.dta -> build\\lib.win-amd64-3.7\\pandas\\tests\\io\\data\n",
      "  copying pandas\\tests\\io\\data\\stata2_113.dta -> build\\lib.win-amd64-3.7\\pandas\\tests\\io\\data\n",
      "  copying pandas\\tests\\io\\data\\stata2_114.dta -> build\\lib.win-amd64-3.7\\pandas\\tests\\io\\data\n",
      "  copying pandas\\tests\\io\\data\\stata2_115.dta -> build\\lib.win-amd64-3.7\\pandas\\tests\\io\\data\n",
      "  copying pandas\\tests\\io\\data\\stata2_117.dta -> build\\lib.win-amd64-3.7\\pandas\\tests\\io\\data\n",
      "  copying pandas\\tests\\io\\data\\stata3.csv -> build\\lib.win-amd64-3.7\\pandas\\tests\\io\\data\n",
      "  copying pandas\\tests\\io\\data\\stata3_113.dta -> build\\lib.win-amd64-3.7\\pandas\\tests\\io\\data\n",
      "  copying pandas\\tests\\io\\data\\stata3_114.dta -> build\\lib.win-amd64-3.7\\pandas\\tests\\io\\data\n",
      "  copying pandas\\tests\\io\\data\\stata3_115.dta -> build\\lib.win-amd64-3.7\\pandas\\tests\\io\\data\n",
      "  copying pandas\\tests\\io\\data\\stata3_117.dta -> build\\lib.win-amd64-3.7\\pandas\\tests\\io\\data\n",
      "  copying pandas\\tests\\io\\data\\stata4_113.dta -> build\\lib.win-amd64-3.7\\pandas\\tests\\io\\data\n",
      "  copying pandas\\tests\\io\\data\\stata4_114.dta -> build\\lib.win-amd64-3.7\\pandas\\tests\\io\\data\n",
      "  copying pandas\\tests\\io\\data\\stata4_115.dta -> build\\lib.win-amd64-3.7\\pandas\\tests\\io\\data\n",
      "  copying pandas\\tests\\io\\data\\stata4_117.dta -> build\\lib.win-amd64-3.7\\pandas\\tests\\io\\data\n",
      "  copying pandas\\tests\\io\\data\\stata5.csv -> build\\lib.win-amd64-3.7\\pandas\\tests\\io\\data\n",
      "  copying pandas\\tests\\io\\data\\stata5_113.dta -> build\\lib.win-amd64-3.7\\pandas\\tests\\io\\data\n",
      "  copying pandas\\tests\\io\\data\\stata5_114.dta -> build\\lib.win-amd64-3.7\\pandas\\tests\\io\\data\n",
      "  copying pandas\\tests\\io\\data\\stata5_115.dta -> build\\lib.win-amd64-3.7\\pandas\\tests\\io\\data\n",
      "  copying pandas\\tests\\io\\data\\stata5_117.dta -> build\\lib.win-amd64-3.7\\pandas\\tests\\io\\data\n",
      "  copying pandas\\tests\\io\\data\\stata6.csv -> build\\lib.win-amd64-3.7\\pandas\\tests\\io\\data\n",
      "  copying pandas\\tests\\io\\data\\stata6_113.dta -> build\\lib.win-amd64-3.7\\pandas\\tests\\io\\data\n",
      "  copying pandas\\tests\\io\\data\\stata6_114.dta -> build\\lib.win-amd64-3.7\\pandas\\tests\\io\\data\n",
      "  copying pandas\\tests\\io\\data\\stata6_115.dta -> build\\lib.win-amd64-3.7\\pandas\\tests\\io\\data\n",
      "  copying pandas\\tests\\io\\data\\stata6_117.dta -> build\\lib.win-amd64-3.7\\pandas\\tests\\io\\data\n",
      "  copying pandas\\tests\\io\\data\\stata7_111.dta -> build\\lib.win-amd64-3.7\\pandas\\tests\\io\\data\n",
      "  copying pandas\\tests\\io\\data\\stata7_115.dta -> build\\lib.win-amd64-3.7\\pandas\\tests\\io\\data\n",
      "  copying pandas\\tests\\io\\data\\stata7_117.dta -> build\\lib.win-amd64-3.7\\pandas\\tests\\io\\data\n",
      "  copying pandas\\tests\\io\\data\\stata8_113.dta -> build\\lib.win-amd64-3.7\\pandas\\tests\\io\\data\n",
      "  copying pandas\\tests\\io\\data\\stata8_115.dta -> build\\lib.win-amd64-3.7\\pandas\\tests\\io\\data\n",
      "  copying pandas\\tests\\io\\data\\stata8_117.dta -> build\\lib.win-amd64-3.7\\pandas\\tests\\io\\data\n",
      "  copying pandas\\tests\\io\\data\\stata9_115.dta -> build\\lib.win-amd64-3.7\\pandas\\tests\\io\\data\n",
      "  copying pandas\\tests\\io\\data\\stata9_117.dta -> build\\lib.win-amd64-3.7\\pandas\\tests\\io\\data\n",
      "  copying pandas\\tests\\io\\data\\test1.csv -> build\\lib.win-amd64-3.7\\pandas\\tests\\io\\data\n",
      "  copying pandas\\tests\\io\\data\\test1.xls -> build\\lib.win-amd64-3.7\\pandas\\tests\\io\\data\n",
      "  copying pandas\\tests\\io\\data\\test1.xlsm -> build\\lib.win-amd64-3.7\\pandas\\tests\\io\\data\n",
      "  copying pandas\\tests\\io\\data\\test1.xlsx -> build\\lib.win-amd64-3.7\\pandas\\tests\\io\\data\n",
      "  copying pandas\\tests\\io\\data\\test2.xls -> build\\lib.win-amd64-3.7\\pandas\\tests\\io\\data\n",
      "  copying pandas\\tests\\io\\data\\test2.xlsm -> build\\lib.win-amd64-3.7\\pandas\\tests\\io\\data\n",
      "  copying pandas\\tests\\io\\data\\test2.xlsx -> build\\lib.win-amd64-3.7\\pandas\\tests\\io\\data\n",
      "  copying pandas\\tests\\io\\data\\test3.xls -> build\\lib.win-amd64-3.7\\pandas\\tests\\io\\data\n",
      "  copying pandas\\tests\\io\\data\\test3.xlsm -> build\\lib.win-amd64-3.7\\pandas\\tests\\io\\data\n",
      "  copying pandas\\tests\\io\\data\\test3.xlsx -> build\\lib.win-amd64-3.7\\pandas\\tests\\io\\data\n",
      "  copying pandas\\tests\\io\\data\\test4.xls -> build\\lib.win-amd64-3.7\\pandas\\tests\\io\\data\n",
      "  copying pandas\\tests\\io\\data\\test4.xlsm -> build\\lib.win-amd64-3.7\\pandas\\tests\\io\\data\n",
      "  copying pandas\\tests\\io\\data\\test4.xlsx -> build\\lib.win-amd64-3.7\\pandas\\tests\\io\\data\n",
      "  copying pandas\\tests\\io\\data\\test5.xls -> build\\lib.win-amd64-3.7\\pandas\\tests\\io\\data\n",
      "  copying pandas\\tests\\io\\data\\test5.xlsm -> build\\lib.win-amd64-3.7\\pandas\\tests\\io\\data\n",
      "  copying pandas\\tests\\io\\data\\test5.xlsx -> build\\lib.win-amd64-3.7\\pandas\\tests\\io\\data\n",
      "  copying pandas\\tests\\io\\data\\testdateoverflow.xls -> build\\lib.win-amd64-3.7\\pandas\\tests\\io\\data\n",
      "  copying pandas\\tests\\io\\data\\testdateoverflow.xlsm -> build\\lib.win-amd64-3.7\\pandas\\tests\\io\\data\n",
      "  copying pandas\\tests\\io\\data\\testdateoverflow.xlsx -> build\\lib.win-amd64-3.7\\pandas\\tests\\io\\data\n",
      "  copying pandas\\tests\\io\\data\\testdtype.xls -> build\\lib.win-amd64-3.7\\pandas\\tests\\io\\data\n",
      "  copying pandas\\tests\\io\\data\\testdtype.xlsm -> build\\lib.win-amd64-3.7\\pandas\\tests\\io\\data\n",
      "  copying pandas\\tests\\io\\data\\testdtype.xlsx -> build\\lib.win-amd64-3.7\\pandas\\tests\\io\\data\n",
      "  copying pandas\\tests\\io\\data\\testmultiindex.xls -> build\\lib.win-amd64-3.7\\pandas\\tests\\io\\data\n",
      "  copying pandas\\tests\\io\\data\\testmultiindex.xlsm -> build\\lib.win-amd64-3.7\\pandas\\tests\\io\\data\n",
      "  copying pandas\\tests\\io\\data\\testmultiindex.xlsx -> build\\lib.win-amd64-3.7\\pandas\\tests\\io\\data\n",
      "  copying pandas\\tests\\io\\data\\testskiprows.xls -> build\\lib.win-amd64-3.7\\pandas\\tests\\io\\data\n",
      "  copying pandas\\tests\\io\\data\\testskiprows.xlsm -> build\\lib.win-amd64-3.7\\pandas\\tests\\io\\data\n",
      "  copying pandas\\tests\\io\\data\\testskiprows.xlsx -> build\\lib.win-amd64-3.7\\pandas\\tests\\io\\data\n",
      "  copying pandas\\tests\\io\\data\\test_converters.xls -> build\\lib.win-amd64-3.7\\pandas\\tests\\io\\data\n",
      "  copying pandas\\tests\\io\\data\\test_converters.xlsm -> build\\lib.win-amd64-3.7\\pandas\\tests\\io\\data\n",
      "  copying pandas\\tests\\io\\data\\test_converters.xlsx -> build\\lib.win-amd64-3.7\\pandas\\tests\\io\\data\n",
      "  copying pandas\\tests\\io\\data\\test_index_name_pre17.xls -> build\\lib.win-amd64-3.7\\pandas\\tests\\io\\data\n",
      "  copying pandas\\tests\\io\\data\\test_index_name_pre17.xlsm -> build\\lib.win-amd64-3.7\\pandas\\tests\\io\\data\n",
      "  copying pandas\\tests\\io\\data\\test_index_name_pre17.xlsx -> build\\lib.win-amd64-3.7\\pandas\\tests\\io\\data\n",
      "  copying pandas\\tests\\io\\data\\test_mmap.csv -> build\\lib.win-amd64-3.7\\pandas\\tests\\io\\data\n",
      "  copying pandas\\tests\\io\\data\\test_multisheet.xls -> build\\lib.win-amd64-3.7\\pandas\\tests\\io\\data\n",
      "  copying pandas\\tests\\io\\data\\test_multisheet.xlsm -> build\\lib.win-amd64-3.7\\pandas\\tests\\io\\data\n",
      "  copying pandas\\tests\\io\\data\\test_multisheet.xlsx -> build\\lib.win-amd64-3.7\\pandas\\tests\\io\\data\n",
      "  copying pandas\\tests\\io\\data\\test_squeeze.xls -> build\\lib.win-amd64-3.7\\pandas\\tests\\io\\data\n",
      "  copying pandas\\tests\\io\\data\\test_squeeze.xlsm -> build\\lib.win-amd64-3.7\\pandas\\tests\\io\\data\n",
      "  copying pandas\\tests\\io\\data\\test_squeeze.xlsx -> build\\lib.win-amd64-3.7\\pandas\\tests\\io\\data\n",
      "  copying pandas\\tests\\io\\data\\test_types.xls -> build\\lib.win-amd64-3.7\\pandas\\tests\\io\\data\n",
      "  copying pandas\\tests\\io\\data\\test_types.xlsm -> build\\lib.win-amd64-3.7\\pandas\\tests\\io\\data\n",
      "  copying pandas\\tests\\io\\data\\test_types.xlsx -> build\\lib.win-amd64-3.7\\pandas\\tests\\io\\data\n",
      "  copying pandas\\tests\\io\\data\\times_1900.xls -> build\\lib.win-amd64-3.7\\pandas\\tests\\io\\data\n",
      "  copying pandas\\tests\\io\\data\\times_1900.xlsm -> build\\lib.win-amd64-3.7\\pandas\\tests\\io\\data\n",
      "  copying pandas\\tests\\io\\data\\times_1900.xlsx -> build\\lib.win-amd64-3.7\\pandas\\tests\\io\\data\n",
      "  copying pandas\\tests\\io\\data\\times_1904.xls -> build\\lib.win-amd64-3.7\\pandas\\tests\\io\\data\n",
      "  copying pandas\\tests\\io\\data\\times_1904.xlsm -> build\\lib.win-amd64-3.7\\pandas\\tests\\io\\data\n",
      "  copying pandas\\tests\\io\\data\\times_1904.xlsx -> build\\lib.win-amd64-3.7\\pandas\\tests\\io\\data\n",
      "  copying pandas\\tests\\io\\data\\tips.csv -> build\\lib.win-amd64-3.7\\pandas\\tests\\io\\data\n",
      "  copying pandas\\tests\\io\\data\\valid_markup.html -> build\\lib.win-amd64-3.7\\pandas\\tests\\io\\data\n",
      "  copying pandas\\tests\\io\\data\\wikipedia_states.html -> build\\lib.win-amd64-3.7\\pandas\\tests\\io\\data\n",
      "  creating build\\lib.win-amd64-3.7\\pandas\\tests\\io\\data\\legacy_hdf\n",
      "  copying pandas\\tests\\io\\data\\legacy_hdf\\datetimetz_object.h5 -> build\\lib.win-amd64-3.7\\pandas\\tests\\io\\data\\legacy_hdf\n",
      "  copying pandas\\tests\\io\\data\\legacy_hdf\\legacy_table.h5 -> build\\lib.win-amd64-3.7\\pandas\\tests\\io\\data\\legacy_hdf\n",
      "  copying pandas\\tests\\io\\data\\legacy_hdf\\periodindex_0.20.1_x86_64_darwin_2.7.13.h5 -> build\\lib.win-amd64-3.7\\pandas\\tests\\io\\data\\legacy_hdf\n",
      "  copying pandas\\tests\\io\\data\\legacy_hdf\\pytables_native.h5 -> build\\lib.win-amd64-3.7\\pandas\\tests\\io\\data\\legacy_hdf\n",
      "  copying pandas\\tests\\io\\data\\legacy_hdf\\pytables_native2.h5 -> build\\lib.win-amd64-3.7\\pandas\\tests\\io\\data\\legacy_hdf\n",
      "  creating build\\lib.win-amd64-3.7\\pandas\\tests\\io\\data\\legacy_pickle\n",
      "  creating build\\lib.win-amd64-3.7\\pandas\\tests\\io\\data\\legacy_pickle\\0.10.1\n",
      "  copying pandas\\tests\\io\\data\\legacy_pickle\\0.10.1\\AMD64_windows_2.7.3.pickle -> build\\lib.win-amd64-3.7\\pandas\\tests\\io\\data\\legacy_pickle\\0.10.1\n",
      "  copying pandas\\tests\\io\\data\\legacy_pickle\\0.10.1\\x86_64_linux_2.7.3.pickle -> build\\lib.win-amd64-3.7\\pandas\\tests\\io\\data\\legacy_pickle\\0.10.1\n",
      "  creating build\\lib.win-amd64-3.7\\pandas\\tests\\io\\data\\legacy_pickle\\0.11.0\n",
      "  copying pandas\\tests\\io\\data\\legacy_pickle\\0.11.0\\0.11.0_x86_64_linux_3.3.0.pickle -> build\\lib.win-amd64-3.7\\pandas\\tests\\io\\data\\legacy_pickle\\0.11.0\n",
      "  copying pandas\\tests\\io\\data\\legacy_pickle\\0.11.0\\x86_64_linux_2.7.3.pickle -> build\\lib.win-amd64-3.7\\pandas\\tests\\io\\data\\legacy_pickle\\0.11.0\n",
      "  copying pandas\\tests\\io\\data\\legacy_pickle\\0.11.0\\x86_64_linux_3.3.0.pickle -> build\\lib.win-amd64-3.7\\pandas\\tests\\io\\data\\legacy_pickle\\0.11.0\n",
      "  creating build\\lib.win-amd64-3.7\\pandas\\tests\\io\\data\\legacy_pickle\\0.12.0\n",
      "  copying pandas\\tests\\io\\data\\legacy_pickle\\0.12.0\\0.12.0_AMD64_windows_2.7.3.pickle -> build\\lib.win-amd64-3.7\\pandas\\tests\\io\\data\\legacy_pickle\\0.12.0\n",
      "  copying pandas\\tests\\io\\data\\legacy_pickle\\0.12.0\\0.12.0_x86_64_linux_2.7.3.pickle -> build\\lib.win-amd64-3.7\\pandas\\tests\\io\\data\\legacy_pickle\\0.12.0\n",
      "  creating build\\lib.win-amd64-3.7\\pandas\\tests\\io\\data\\legacy_pickle\\0.13.0\n",
      "  copying pandas\\tests\\io\\data\\legacy_pickle\\0.13.0\\0.13.0_AMD64_windows_2.7.3.pickle -> build\\lib.win-amd64-3.7\\pandas\\tests\\io\\data\\legacy_pickle\\0.13.0\n",
      "  copying pandas\\tests\\io\\data\\legacy_pickle\\0.13.0\\0.13.0_i686_linux_2.6.5.pickle -> build\\lib.win-amd64-3.7\\pandas\\tests\\io\\data\\legacy_pickle\\0.13.0\n",
      "  copying pandas\\tests\\io\\data\\legacy_pickle\\0.13.0\\0.13.0_i686_linux_2.7.3.pickle -> build\\lib.win-amd64-3.7\\pandas\\tests\\io\\data\\legacy_pickle\\0.13.0\n",
      "  copying pandas\\tests\\io\\data\\legacy_pickle\\0.13.0\\0.13.0_i686_linux_3.2.3.pickle -> build\\lib.win-amd64-3.7\\pandas\\tests\\io\\data\\legacy_pickle\\0.13.0\n",
      "  copying pandas\\tests\\io\\data\\legacy_pickle\\0.13.0\\0.13.0_x86_64_darwin_2.7.5.pickle -> build\\lib.win-amd64-3.7\\pandas\\tests\\io\\data\\legacy_pickle\\0.13.0\n",
      "  copying pandas\\tests\\io\\data\\legacy_pickle\\0.13.0\\0.13.0_x86_64_darwin_2.7.6.pickle -> build\\lib.win-amd64-3.7\\pandas\\tests\\io\\data\\legacy_pickle\\0.13.0\n",
      "  copying pandas\\tests\\io\\data\\legacy_pickle\\0.13.0\\0.13.0_x86_64_linux_2.7.3.pickle -> build\\lib.win-amd64-3.7\\pandas\\tests\\io\\data\\legacy_pickle\\0.13.0\n",
      "  copying pandas\\tests\\io\\data\\legacy_pickle\\0.13.0\\0.13.0_x86_64_linux_2.7.8.pickle -> build\\lib.win-amd64-3.7\\pandas\\tests\\io\\data\\legacy_pickle\\0.13.0\n",
      "  copying pandas\\tests\\io\\data\\legacy_pickle\\0.13.0\\0.13.0_x86_64_linux_3.3.0.pickle -> build\\lib.win-amd64-3.7\\pandas\\tests\\io\\data\\legacy_pickle\\0.13.0\n",
      "  creating build\\lib.win-amd64-3.7\\pandas\\tests\\io\\data\\legacy_pickle\\0.14.0\n",
      "  copying pandas\\tests\\io\\data\\legacy_pickle\\0.14.0\\0.14.0_x86_64_darwin_2.7.6.pickle -> build\\lib.win-amd64-3.7\\pandas\\tests\\io\\data\\legacy_pickle\\0.14.0\n",
      "  copying pandas\\tests\\io\\data\\legacy_pickle\\0.14.0\\0.14.0_x86_64_linux_2.7.8.pickle -> build\\lib.win-amd64-3.7\\pandas\\tests\\io\\data\\legacy_pickle\\0.14.0\n",
      "  creating build\\lib.win-amd64-3.7\\pandas\\tests\\io\\data\\legacy_pickle\\0.14.1\n",
      "  copying pandas\\tests\\io\\data\\legacy_pickle\\0.14.1\\0.14.1_x86_64_darwin_2.7.12.pickle -> build\\lib.win-amd64-3.7\\pandas\\tests\\io\\data\\legacy_pickle\\0.14.1\n",
      "  copying pandas\\tests\\io\\data\\legacy_pickle\\0.14.1\\0.14.1_x86_64_linux_2.7.8.pickle -> build\\lib.win-amd64-3.7\\pandas\\tests\\io\\data\\legacy_pickle\\0.14.1\n",
      "  creating build\\lib.win-amd64-3.7\\pandas\\tests\\io\\data\\legacy_pickle\\0.15.0\n",
      "  copying pandas\\tests\\io\\data\\legacy_pickle\\0.15.0\\0.15.0_x86_64_darwin_2.7.12.pickle -> build\\lib.win-amd64-3.7\\pandas\\tests\\io\\data\\legacy_pickle\\0.15.0\n",
      "  copying pandas\\tests\\io\\data\\legacy_pickle\\0.15.0\\0.15.0_x86_64_linux_2.7.8.pickle -> build\\lib.win-amd64-3.7\\pandas\\tests\\io\\data\\legacy_pickle\\0.15.0\n",
      "  creating build\\lib.win-amd64-3.7\\pandas\\tests\\io\\data\\legacy_pickle\\0.15.2\n",
      "  copying pandas\\tests\\io\\data\\legacy_pickle\\0.15.2\\0.15.2_x86_64_darwin_2.7.9.pickle -> build\\lib.win-amd64-3.7\\pandas\\tests\\io\\data\\legacy_pickle\\0.15.2\n",
      "  creating build\\lib.win-amd64-3.7\\pandas\\tests\\io\\data\\legacy_pickle\\0.16.0\n",
      "  copying pandas\\tests\\io\\data\\legacy_pickle\\0.16.0\\0.16.0_x86_64_darwin_2.7.9.pickle -> build\\lib.win-amd64-3.7\\pandas\\tests\\io\\data\\legacy_pickle\\0.16.0\n",
      "  creating build\\lib.win-amd64-3.7\\pandas\\tests\\io\\data\\legacy_pickle\\0.16.2\n",
      "  copying pandas\\tests\\io\\data\\legacy_pickle\\0.16.2\\0.16.2_AMD64_windows_2.7.10.pickle -> build\\lib.win-amd64-3.7\\pandas\\tests\\io\\data\\legacy_pickle\\0.16.2\n",
      "  copying pandas\\tests\\io\\data\\legacy_pickle\\0.16.2\\0.16.2_AMD64_windows_2.7.14.pickle -> build\\lib.win-amd64-3.7\\pandas\\tests\\io\\data\\legacy_pickle\\0.16.2\n",
      "  copying pandas\\tests\\io\\data\\legacy_pickle\\0.16.2\\0.16.2_AMD64_windows_3.4.3.pickle -> build\\lib.win-amd64-3.7\\pandas\\tests\\io\\data\\legacy_pickle\\0.16.2\n",
      "  copying pandas\\tests\\io\\data\\legacy_pickle\\0.16.2\\0.16.2_x86_64_darwin_2.7.10.pickle -> build\\lib.win-amd64-3.7\\pandas\\tests\\io\\data\\legacy_pickle\\0.16.2\n",
      "  copying pandas\\tests\\io\\data\\legacy_pickle\\0.16.2\\0.16.2_x86_64_darwin_2.7.9.pickle -> build\\lib.win-amd64-3.7\\pandas\\tests\\io\\data\\legacy_pickle\\0.16.2\n",
      "  copying pandas\\tests\\io\\data\\legacy_pickle\\0.16.2\\0.16.2_x86_64_darwin_3.4.3.pickle -> build\\lib.win-amd64-3.7\\pandas\\tests\\io\\data\\legacy_pickle\\0.16.2\n",
      "  copying pandas\\tests\\io\\data\\legacy_pickle\\0.16.2\\0.16.2_x86_64_linux_2.7.10.pickle -> build\\lib.win-amd64-3.7\\pandas\\tests\\io\\data\\legacy_pickle\\0.16.2\n",
      "  copying pandas\\tests\\io\\data\\legacy_pickle\\0.16.2\\0.16.2_x86_64_linux_3.4.3.pickle -> build\\lib.win-amd64-3.7\\pandas\\tests\\io\\data\\legacy_pickle\\0.16.2\n",
      "  creating build\\lib.win-amd64-3.7\\pandas\\tests\\io\\data\\legacy_pickle\\0.17.0\n",
      "  copying pandas\\tests\\io\\data\\legacy_pickle\\0.17.0\\0.17.0_AMD64_windows_2.7.11.pickle -> build\\lib.win-amd64-3.7\\pandas\\tests\\io\\data\\legacy_pickle\\0.17.0\n",
      "  copying pandas\\tests\\io\\data\\legacy_pickle\\0.17.0\\0.17.0_AMD64_windows_3.4.4.pickle -> build\\lib.win-amd64-3.7\\pandas\\tests\\io\\data\\legacy_pickle\\0.17.0\n",
      "  copying pandas\\tests\\io\\data\\legacy_pickle\\0.17.0\\0.17.0_x86_64_darwin_2.7.11.pickle -> build\\lib.win-amd64-3.7\\pandas\\tests\\io\\data\\legacy_pickle\\0.17.0\n",
      "  copying pandas\\tests\\io\\data\\legacy_pickle\\0.17.0\\0.17.0_x86_64_darwin_3.4.4.pickle -> build\\lib.win-amd64-3.7\\pandas\\tests\\io\\data\\legacy_pickle\\0.17.0\n",
      "  copying pandas\\tests\\io\\data\\legacy_pickle\\0.17.0\\0.17.0_x86_64_darwin_3.5.3.pickle -> build\\lib.win-amd64-3.7\\pandas\\tests\\io\\data\\legacy_pickle\\0.17.0\n",
      "  copying pandas\\tests\\io\\data\\legacy_pickle\\0.17.0\\0.17.0_x86_64_linux_2.7.11.pickle -> build\\lib.win-amd64-3.7\\pandas\\tests\\io\\data\\legacy_pickle\\0.17.0\n",
      "  copying pandas\\tests\\io\\data\\legacy_pickle\\0.17.0\\0.17.0_x86_64_linux_3.4.4.pickle -> build\\lib.win-amd64-3.7\\pandas\\tests\\io\\data\\legacy_pickle\\0.17.0\n",
      "  copying pandas\\tests\\io\\data\\legacy_pickle\\0.17.0\\0.17.1_AMD64_windows_2.7.11.pickle -> build\\lib.win-amd64-3.7\\pandas\\tests\\io\\data\\legacy_pickle\\0.17.0\n",
      "  creating build\\lib.win-amd64-3.7\\pandas\\tests\\io\\data\\legacy_pickle\\0.17.1\n",
      "  copying pandas\\tests\\io\\data\\legacy_pickle\\0.17.1\\0.17.1_AMD64_windows_2.7.11.pickle -> build\\lib.win-amd64-3.7\\pandas\\tests\\io\\data\\legacy_pickle\\0.17.1\n",
      "  copying pandas\\tests\\io\\data\\legacy_pickle\\0.17.1\\0.17.1_x86_64_darwin_2.7.11.pickle -> build\\lib.win-amd64-3.7\\pandas\\tests\\io\\data\\legacy_pickle\\0.17.1\n",
      "  creating build\\lib.win-amd64-3.7\\pandas\\tests\\io\\data\\legacy_pickle\\0.18.0\n",
      "  copying pandas\\tests\\io\\data\\legacy_pickle\\0.18.0\\0.18.0_AMD64_windows_2.7.11.pickle -> build\\lib.win-amd64-3.7\\pandas\\tests\\io\\data\\legacy_pickle\\0.18.0\n",
      "  copying pandas\\tests\\io\\data\\legacy_pickle\\0.18.0\\0.18.0_AMD64_windows_3.5.1.pickle -> build\\lib.win-amd64-3.7\\pandas\\tests\\io\\data\\legacy_pickle\\0.18.0\n",
      "  copying pandas\\tests\\io\\data\\legacy_pickle\\0.18.0\\0.18.0_x86_64_darwin_2.7.11.pickle -> build\\lib.win-amd64-3.7\\pandas\\tests\\io\\data\\legacy_pickle\\0.18.0\n",
      "  copying pandas\\tests\\io\\data\\legacy_pickle\\0.18.0\\0.18.0_x86_64_darwin_3.5.1.pickle -> build\\lib.win-amd64-3.7\\pandas\\tests\\io\\data\\legacy_pickle\\0.18.0\n",
      "  creating build\\lib.win-amd64-3.7\\pandas\\tests\\io\\data\\legacy_pickle\\0.18.1\n",
      "  copying pandas\\tests\\io\\data\\legacy_pickle\\0.18.1\\0.18.1_x86_64_darwin_2.7.12.pickle -> build\\lib.win-amd64-3.7\\pandas\\tests\\io\\data\\legacy_pickle\\0.18.1\n",
      "  copying pandas\\tests\\io\\data\\legacy_pickle\\0.18.1\\0.18.1_x86_64_darwin_3.5.2.pickle -> build\\lib.win-amd64-3.7\\pandas\\tests\\io\\data\\legacy_pickle\\0.18.1\n",
      "  creating build\\lib.win-amd64-3.7\\pandas\\tests\\io\\data\\legacy_pickle\\0.19.2\n",
      "  copying pandas\\tests\\io\\data\\legacy_pickle\\0.19.2\\0.19.2_AMD64_windows_2.7.14.pickle -> build\\lib.win-amd64-3.7\\pandas\\tests\\io\\data\\legacy_pickle\\0.19.2\n",
      "  copying pandas\\tests\\io\\data\\legacy_pickle\\0.19.2\\0.19.2_x86_64_darwin_2.7.12.pickle -> build\\lib.win-amd64-3.7\\pandas\\tests\\io\\data\\legacy_pickle\\0.19.2\n",
      "  copying pandas\\tests\\io\\data\\legacy_pickle\\0.19.2\\0.19.2_x86_64_darwin_2.7.14.pickle -> build\\lib.win-amd64-3.7\\pandas\\tests\\io\\data\\legacy_pickle\\0.19.2\n",
      "  copying pandas\\tests\\io\\data\\legacy_pickle\\0.19.2\\0.19.2_x86_64_darwin_3.6.1.pickle -> build\\lib.win-amd64-3.7\\pandas\\tests\\io\\data\\legacy_pickle\\0.19.2\n",
      "  creating build\\lib.win-amd64-3.7\\pandas\\tests\\io\\data\\legacy_pickle\\0.20.3\n",
      "  copying pandas\\tests\\io\\data\\legacy_pickle\\0.20.3\\0.20.3_x86_64_darwin_2.7.14.pickle -> build\\lib.win-amd64-3.7\\pandas\\tests\\io\\data\\legacy_pickle\\0.20.3\n",
      "  creating build\\lib.win-amd64-3.7\\pandas\\tests\\io\\data\\legacy_msgpack\n",
      "  creating build\\lib.win-amd64-3.7\\pandas\\tests\\io\\data\\legacy_msgpack\\0.16.0\n",
      "  copying pandas\\tests\\io\\data\\legacy_msgpack\\0.16.0\\0.16.0_x86_64_darwin_2.7.9.msgpack -> build\\lib.win-amd64-3.7\\pandas\\tests\\io\\data\\legacy_msgpack\\0.16.0\n",
      "  creating build\\lib.win-amd64-3.7\\pandas\\tests\\io\\data\\legacy_msgpack\\0.16.2\n",
      "  copying pandas\\tests\\io\\data\\legacy_msgpack\\0.16.2\\0.16.2_AMD64_windows_2.7.10.msgpack -> build\\lib.win-amd64-3.7\\pandas\\tests\\io\\data\\legacy_msgpack\\0.16.2\n",
      "  copying pandas\\tests\\io\\data\\legacy_msgpack\\0.16.2\\0.16.2_AMD64_windows_3.4.3.msgpack -> build\\lib.win-amd64-3.7\\pandas\\tests\\io\\data\\legacy_msgpack\\0.16.2\n",
      "  copying pandas\\tests\\io\\data\\legacy_msgpack\\0.16.2\\0.16.2_x86_64_darwin_2.7.10.msgpack -> build\\lib.win-amd64-3.7\\pandas\\tests\\io\\data\\legacy_msgpack\\0.16.2\n",
      "  copying pandas\\tests\\io\\data\\legacy_msgpack\\0.16.2\\0.16.2_x86_64_darwin_2.7.9.msgpack -> build\\lib.win-amd64-3.7\\pandas\\tests\\io\\data\\legacy_msgpack\\0.16.2\n",
      "  copying pandas\\tests\\io\\data\\legacy_msgpack\\0.16.2\\0.16.2_x86_64_darwin_3.4.3.msgpack -> build\\lib.win-amd64-3.7\\pandas\\tests\\io\\data\\legacy_msgpack\\0.16.2\n",
      "  copying pandas\\tests\\io\\data\\legacy_msgpack\\0.16.2\\0.16.2_x86_64_linux_2.7.10.msgpack -> build\\lib.win-amd64-3.7\\pandas\\tests\\io\\data\\legacy_msgpack\\0.16.2\n",
      "  copying pandas\\tests\\io\\data\\legacy_msgpack\\0.16.2\\0.16.2_x86_64_linux_3.4.3.msgpack -> build\\lib.win-amd64-3.7\\pandas\\tests\\io\\data\\legacy_msgpack\\0.16.2\n",
      "  creating build\\lib.win-amd64-3.7\\pandas\\tests\\io\\data\\legacy_msgpack\\0.17.0\n",
      "  copying pandas\\tests\\io\\data\\legacy_msgpack\\0.17.0\\0.17.0_AMD64_windows_2.7.11.msgpack -> build\\lib.win-amd64-3.7\\pandas\\tests\\io\\data\\legacy_msgpack\\0.17.0\n",
      "  copying pandas\\tests\\io\\data\\legacy_msgpack\\0.17.0\\0.17.0_AMD64_windows_3.4.4.msgpack -> build\\lib.win-amd64-3.7\\pandas\\tests\\io\\data\\legacy_msgpack\\0.17.0\n",
      "  copying pandas\\tests\\io\\data\\legacy_msgpack\\0.17.0\\0.17.0_x86_64_darwin_2.7.11.msgpack -> build\\lib.win-amd64-3.7\\pandas\\tests\\io\\data\\legacy_msgpack\\0.17.0\n",
      "  copying pandas\\tests\\io\\data\\legacy_msgpack\\0.17.0\\0.17.0_x86_64_darwin_3.4.4.msgpack -> build\\lib.win-amd64-3.7\\pandas\\tests\\io\\data\\legacy_msgpack\\0.17.0\n",
      "  copying pandas\\tests\\io\\data\\legacy_msgpack\\0.17.0\\0.17.0_x86_64_linux_2.7.11.msgpack -> build\\lib.win-amd64-3.7\\pandas\\tests\\io\\data\\legacy_msgpack\\0.17.0\n",
      "  copying pandas\\tests\\io\\data\\legacy_msgpack\\0.17.0\\0.17.0_x86_64_linux_3.4.4.msgpack -> build\\lib.win-amd64-3.7\\pandas\\tests\\io\\data\\legacy_msgpack\\0.17.0\n",
      "  copying pandas\\tests\\io\\data\\legacy_msgpack\\0.17.0\\0.17.1_AMD64_windows_2.7.11.msgpack -> build\\lib.win-amd64-3.7\\pandas\\tests\\io\\data\\legacy_msgpack\\0.17.0\n",
      "  copying pandas\\tests\\io\\data\\legacy_msgpack\\0.17.0\\0.17.1_AMD64_windows_3.5.1.msgpack -> build\\lib.win-amd64-3.7\\pandas\\tests\\io\\data\\legacy_msgpack\\0.17.0\n",
      "  creating build\\lib.win-amd64-3.7\\pandas\\tests\\io\\data\\legacy_msgpack\\0.17.1\n",
      "  copying pandas\\tests\\io\\data\\legacy_msgpack\\0.17.1\\0.17.1_AMD64_windows_2.7.11.msgpack -> build\\lib.win-amd64-3.7\\pandas\\tests\\io\\data\\legacy_msgpack\\0.17.1\n",
      "  copying pandas\\tests\\io\\data\\legacy_msgpack\\0.17.1\\0.17.1_AMD64_windows_3.5.1.msgpack -> build\\lib.win-amd64-3.7\\pandas\\tests\\io\\data\\legacy_msgpack\\0.17.1\n",
      "  copying pandas\\tests\\io\\data\\legacy_msgpack\\0.17.1\\0.17.1_x86_64_darwin_2.7.11.msgpack -> build\\lib.win-amd64-3.7\\pandas\\tests\\io\\data\\legacy_msgpack\\0.17.1\n",
      "  copying pandas\\tests\\io\\data\\legacy_msgpack\\0.17.1\\0.17.1_x86_64_darwin_3.5.1.msgpack -> build\\lib.win-amd64-3.7\\pandas\\tests\\io\\data\\legacy_msgpack\\0.17.1\n",
      "  copying pandas\\tests\\io\\data\\legacy_msgpack\\0.17.1\\0.17.1_x86_64_linux_2.7.11.msgpack -> build\\lib.win-amd64-3.7\\pandas\\tests\\io\\data\\legacy_msgpack\\0.17.1\n",
      "  copying pandas\\tests\\io\\data\\legacy_msgpack\\0.17.1\\0.17.1_x86_64_linux_3.4.4.msgpack -> build\\lib.win-amd64-3.7\\pandas\\tests\\io\\data\\legacy_msgpack\\0.17.1\n",
      "  creating build\\lib.win-amd64-3.7\\pandas\\tests\\io\\data\\legacy_msgpack\\0.18.0\n",
      "  copying pandas\\tests\\io\\data\\legacy_msgpack\\0.18.0\\0.18.0_AMD64_windows_2.7.11.msgpack -> build\\lib.win-amd64-3.7\\pandas\\tests\\io\\data\\legacy_msgpack\\0.18.0\n",
      "  copying pandas\\tests\\io\\data\\legacy_msgpack\\0.18.0\\0.18.0_AMD64_windows_3.5.1.msgpack -> build\\lib.win-amd64-3.7\\pandas\\tests\\io\\data\\legacy_msgpack\\0.18.0\n",
      "  copying pandas\\tests\\io\\data\\legacy_msgpack\\0.18.0\\0.18.0_x86_64_darwin_2.7.11.msgpack -> build\\lib.win-amd64-3.7\\pandas\\tests\\io\\data\\legacy_msgpack\\0.18.0\n",
      "  copying pandas\\tests\\io\\data\\legacy_msgpack\\0.18.0\\0.18.0_x86_64_darwin_3.5.1.msgpack -> build\\lib.win-amd64-3.7\\pandas\\tests\\io\\data\\legacy_msgpack\\0.18.0\n",
      "  creating build\\lib.win-amd64-3.7\\pandas\\tests\\io\\data\\legacy_msgpack\\0.18.1\n",
      "  copying pandas\\tests\\io\\data\\legacy_msgpack\\0.18.1\\0.18.1_x86_64_darwin_2.7.12.msgpack -> build\\lib.win-amd64-3.7\\pandas\\tests\\io\\data\\legacy_msgpack\\0.18.1\n",
      "  copying pandas\\tests\\io\\data\\legacy_msgpack\\0.18.1\\0.18.1_x86_64_darwin_3.5.2.msgpack -> build\\lib.win-amd64-3.7\\pandas\\tests\\io\\data\\legacy_msgpack\\0.18.1\n",
      "  creating build\\lib.win-amd64-3.7\\pandas\\tests\\io\\data\\legacy_msgpack\\0.19.2\n",
      "  copying pandas\\tests\\io\\data\\legacy_msgpack\\0.19.2\\0.19.2_x86_64_darwin_2.7.12.msgpack -> build\\lib.win-amd64-3.7\\pandas\\tests\\io\\data\\legacy_msgpack\\0.19.2\n",
      "  copying pandas\\tests\\io\\data\\legacy_msgpack\\0.19.2\\0.19.2_x86_64_darwin_3.6.1.msgpack -> build\\lib.win-amd64-3.7\\pandas\\tests\\io\\data\\legacy_msgpack\\0.19.2\n",
      "  creating build\\lib.win-amd64-3.7\\pandas\\tests\\io\\data\\html_encoding\n",
      "  copying pandas\\tests\\io\\data\\html_encoding\\chinese_utf-16.html -> build\\lib.win-amd64-3.7\\pandas\\tests\\io\\data\\html_encoding\n",
      "  copying pandas\\tests\\io\\data\\html_encoding\\chinese_utf-32.html -> build\\lib.win-amd64-3.7\\pandas\\tests\\io\\data\\html_encoding\n",
      "  copying pandas\\tests\\io\\data\\html_encoding\\chinese_utf-8.html -> build\\lib.win-amd64-3.7\\pandas\\tests\\io\\data\\html_encoding\n",
      "  copying pandas\\tests\\io\\data\\html_encoding\\letz_latin1.html -> build\\lib.win-amd64-3.7\\pandas\\tests\\io\\data\\html_encoding\n",
      "  creating build\\lib.win-amd64-3.7\\pandas\\tests\\reshape\\data\n",
      "  copying pandas\\tests\\reshape\\data\\cut_data.csv -> build\\lib.win-amd64-3.7\\pandas\\tests\\reshape\\data\n",
      "  creating build\\lib.win-amd64-3.7\\pandas\\tests\\io\\formats\\data\n",
      "  copying pandas\\tests\\io\\formats\\data\\unicode_series.csv -> build\\lib.win-amd64-3.7\\pandas\\tests\\io\\formats\\data\n",
      "  creating build\\lib.win-amd64-3.7\\pandas\\tests\\io\\json\\data\n",
      "  copying pandas\\tests\\io\\json\\data\\tsframe_iso_v012.json -> build\\lib.win-amd64-3.7\\pandas\\tests\\io\\json\\data\n",
      "  copying pandas\\tests\\io\\json\\data\\tsframe_v012.json -> build\\lib.win-amd64-3.7\\pandas\\tests\\io\\json\\data\n",
      "  copying pandas\\tests\\io\\json\\data\\tsframe_v012.json.zip -> build\\lib.win-amd64-3.7\\pandas\\tests\\io\\json\\data\n",
      "  creating build\\lib.win-amd64-3.7\\pandas\\tests\\io\\msgpack\\data\n",
      "  copying pandas\\tests\\io\\msgpack\\data\\frame.mp -> build\\lib.win-amd64-3.7\\pandas\\tests\\io\\msgpack\\data\n",
      "  creating build\\lib.win-amd64-3.7\\pandas\\tests\\io\\parser\\data\n",
      "  copying pandas\\tests\\io\\parser\\data\\iris.csv -> build\\lib.win-amd64-3.7\\pandas\\tests\\io\\parser\\data\n",
      "  copying pandas\\tests\\io\\parser\\data\\items.jsonl -> build\\lib.win-amd64-3.7\\pandas\\tests\\io\\parser\\data\n",
      "  copying pandas\\tests\\io\\parser\\data\\salaries.csv -> build\\lib.win-amd64-3.7\\pandas\\tests\\io\\parser\\data\n",
      "  copying pandas\\tests\\io\\parser\\data\\salaries.csv.bz2 -> build\\lib.win-amd64-3.7\\pandas\\tests\\io\\parser\\data\n",
      "  copying pandas\\tests\\io\\parser\\data\\salaries.csv.gz -> build\\lib.win-amd64-3.7\\pandas\\tests\\io\\parser\\data\n",
      "  copying pandas\\tests\\io\\parser\\data\\salaries.csv.xz -> build\\lib.win-amd64-3.7\\pandas\\tests\\io\\parser\\data\n",
      "  copying pandas\\tests\\io\\parser\\data\\salaries.csv.zip -> build\\lib.win-amd64-3.7\\pandas\\tests\\io\\parser\\data\n",
      "  copying pandas\\tests\\io\\parser\\data\\sauron.SHIFT_JIS.csv -> build\\lib.win-amd64-3.7\\pandas\\tests\\io\\parser\\data\n",
      "  copying pandas\\tests\\io\\parser\\data\\sub_char.csv -> build\\lib.win-amd64-3.7\\pandas\\tests\\io\\parser\\data\n",
      "  copying pandas\\tests\\io\\parser\\data\\tar_csv.tar -> build\\lib.win-amd64-3.7\\pandas\\tests\\io\\parser\\data\n",
      "  copying pandas\\tests\\io\\parser\\data\\tar_csv.tar.gz -> build\\lib.win-amd64-3.7\\pandas\\tests\\io\\parser\\data\n",
      "  copying pandas\\tests\\io\\parser\\data\\test1.csv -> build\\lib.win-amd64-3.7\\pandas\\tests\\io\\parser\\data\n",
      "  copying pandas\\tests\\io\\parser\\data\\test1.csv.bz2 -> build\\lib.win-amd64-3.7\\pandas\\tests\\io\\parser\\data\n",
      "  copying pandas\\tests\\io\\parser\\data\\test1.csv.gz -> build\\lib.win-amd64-3.7\\pandas\\tests\\io\\parser\\data\n",
      "  copying pandas\\tests\\io\\parser\\data\\test2.csv -> build\\lib.win-amd64-3.7\\pandas\\tests\\io\\parser\\data\n",
      "  copying pandas\\tests\\io\\parser\\data\\test_mmap.csv -> build\\lib.win-amd64-3.7\\pandas\\tests\\io\\parser\\data\n",
      "  copying pandas\\tests\\io\\parser\\data\\tips.csv -> build\\lib.win-amd64-3.7\\pandas\\tests\\io\\parser\\data\n",
      "  copying pandas\\tests\\io\\parser\\data\\tips.csv.bz2 -> build\\lib.win-amd64-3.7\\pandas\\tests\\io\\parser\\data\n",
      "  copying pandas\\tests\\io\\parser\\data\\tips.csv.gz -> build\\lib.win-amd64-3.7\\pandas\\tests\\io\\parser\\data\n",
      "  copying pandas\\tests\\io\\parser\\data\\unicode_series.csv -> build\\lib.win-amd64-3.7\\pandas\\tests\\io\\parser\\data\n",
      "  copying pandas\\tests\\io\\parser\\data\\utf16_ex.txt -> build\\lib.win-amd64-3.7\\pandas\\tests\\io\\parser\\data\n",
      "  copying pandas\\tests\\io\\parser\\data\\utf16_ex_small.zip -> build\\lib.win-amd64-3.7\\pandas\\tests\\io\\parser\\data\n",
      "  creating build\\lib.win-amd64-3.7\\pandas\\tests\\io\\sas\\data\n",
      "  copying pandas\\tests\\io\\sas\\data\\airline.csv -> build\\lib.win-amd64-3.7\\pandas\\tests\\io\\sas\\data\n",
      "  copying pandas\\tests\\io\\sas\\data\\airline.sas7bdat -> build\\lib.win-amd64-3.7\\pandas\\tests\\io\\sas\\data\n",
      "  copying pandas\\tests\\io\\sas\\data\\datetime.csv -> build\\lib.win-amd64-3.7\\pandas\\tests\\io\\sas\\data\n",
      "  copying pandas\\tests\\io\\sas\\data\\datetime.sas7bdat -> build\\lib.win-amd64-3.7\\pandas\\tests\\io\\sas\\data\n",
      "  copying pandas\\tests\\io\\sas\\data\\DEMO_G.csv -> build\\lib.win-amd64-3.7\\pandas\\tests\\io\\sas\\data\n",
      "  copying pandas\\tests\\io\\sas\\data\\DEMO_G.xpt -> build\\lib.win-amd64-3.7\\pandas\\tests\\io\\sas\\data\n"
     ]
    },
    {
     "name": "stdout",
     "output_type": "stream",
     "text": [
      "  copying pandas\\tests\\io\\sas\\data\\DRXFCD_G.csv -> build\\lib.win-amd64-3.7\\pandas\\tests\\io\\sas\\data\n",
      "  copying pandas\\tests\\io\\sas\\data\\DRXFCD_G.xpt -> build\\lib.win-amd64-3.7\\pandas\\tests\\io\\sas\\data\n",
      "  copying pandas\\tests\\io\\sas\\data\\paxraw_d_short.csv -> build\\lib.win-amd64-3.7\\pandas\\tests\\io\\sas\\data\n",
      "  copying pandas\\tests\\io\\sas\\data\\paxraw_d_short.xpt -> build\\lib.win-amd64-3.7\\pandas\\tests\\io\\sas\\data\n",
      "  copying pandas\\tests\\io\\sas\\data\\productsales.csv -> build\\lib.win-amd64-3.7\\pandas\\tests\\io\\sas\\data\n",
      "  copying pandas\\tests\\io\\sas\\data\\productsales.sas7bdat -> build\\lib.win-amd64-3.7\\pandas\\tests\\io\\sas\\data\n",
      "  copying pandas\\tests\\io\\sas\\data\\SSHSV1_A.csv -> build\\lib.win-amd64-3.7\\pandas\\tests\\io\\sas\\data\n",
      "  copying pandas\\tests\\io\\sas\\data\\SSHSV1_A.xpt -> build\\lib.win-amd64-3.7\\pandas\\tests\\io\\sas\\data\n",
      "  copying pandas\\tests\\io\\sas\\data\\test1.sas7bdat -> build\\lib.win-amd64-3.7\\pandas\\tests\\io\\sas\\data\n",
      "  copying pandas\\tests\\io\\sas\\data\\test10.sas7bdat -> build\\lib.win-amd64-3.7\\pandas\\tests\\io\\sas\\data\n",
      "  copying pandas\\tests\\io\\sas\\data\\test11.sas7bdat -> build\\lib.win-amd64-3.7\\pandas\\tests\\io\\sas\\data\n",
      "  copying pandas\\tests\\io\\sas\\data\\test12.sas7bdat -> build\\lib.win-amd64-3.7\\pandas\\tests\\io\\sas\\data\n",
      "  copying pandas\\tests\\io\\sas\\data\\test13.sas7bdat -> build\\lib.win-amd64-3.7\\pandas\\tests\\io\\sas\\data\n",
      "  copying pandas\\tests\\io\\sas\\data\\test14.sas7bdat -> build\\lib.win-amd64-3.7\\pandas\\tests\\io\\sas\\data\n",
      "  copying pandas\\tests\\io\\sas\\data\\test15.sas7bdat -> build\\lib.win-amd64-3.7\\pandas\\tests\\io\\sas\\data\n",
      "  copying pandas\\tests\\io\\sas\\data\\test16.sas7bdat -> build\\lib.win-amd64-3.7\\pandas\\tests\\io\\sas\\data\n",
      "  copying pandas\\tests\\io\\sas\\data\\test2.sas7bdat -> build\\lib.win-amd64-3.7\\pandas\\tests\\io\\sas\\data\n",
      "  copying pandas\\tests\\io\\sas\\data\\test3.sas7bdat -> build\\lib.win-amd64-3.7\\pandas\\tests\\io\\sas\\data\n",
      "  copying pandas\\tests\\io\\sas\\data\\test4.sas7bdat -> build\\lib.win-amd64-3.7\\pandas\\tests\\io\\sas\\data\n",
      "  copying pandas\\tests\\io\\sas\\data\\test5.sas7bdat -> build\\lib.win-amd64-3.7\\pandas\\tests\\io\\sas\\data\n",
      "  copying pandas\\tests\\io\\sas\\data\\test6.sas7bdat -> build\\lib.win-amd64-3.7\\pandas\\tests\\io\\sas\\data\n",
      "  copying pandas\\tests\\io\\sas\\data\\test7.sas7bdat -> build\\lib.win-amd64-3.7\\pandas\\tests\\io\\sas\\data\n",
      "  copying pandas\\tests\\io\\sas\\data\\test8.sas7bdat -> build\\lib.win-amd64-3.7\\pandas\\tests\\io\\sas\\data\n",
      "  copying pandas\\tests\\io\\sas\\data\\test9.sas7bdat -> build\\lib.win-amd64-3.7\\pandas\\tests\\io\\sas\\data\n",
      "  copying pandas\\tests\\io\\sas\\data\\test_12659.csv -> build\\lib.win-amd64-3.7\\pandas\\tests\\io\\sas\\data\n",
      "  copying pandas\\tests\\io\\sas\\data\\test_12659.sas7bdat -> build\\lib.win-amd64-3.7\\pandas\\tests\\io\\sas\\data\n",
      "  copying pandas\\tests\\io\\sas\\data\\test_sas7bdat_1.csv -> build\\lib.win-amd64-3.7\\pandas\\tests\\io\\sas\\data\n",
      "  copying pandas\\tests\\io\\sas\\data\\test_sas7bdat_2.csv -> build\\lib.win-amd64-3.7\\pandas\\tests\\io\\sas\\data\n",
      "  copying pandas\\tests\\io\\sas\\data\\zero_variables.sas7bdat -> build\\lib.win-amd64-3.7\\pandas\\tests\\io\\sas\\data\n",
      "  creating build\\lib.win-amd64-3.7\\pandas\\tests\\reshape\\merge\\data\n",
      "  copying pandas\\tests\\reshape\\merge\\data\\allow_exact_matches.csv -> build\\lib.win-amd64-3.7\\pandas\\tests\\reshape\\merge\\data\n",
      "  copying pandas\\tests\\reshape\\merge\\data\\allow_exact_matches_and_tolerance.csv -> build\\lib.win-amd64-3.7\\pandas\\tests\\reshape\\merge\\data\n",
      "  copying pandas\\tests\\reshape\\merge\\data\\asof.csv -> build\\lib.win-amd64-3.7\\pandas\\tests\\reshape\\merge\\data\n",
      "  copying pandas\\tests\\reshape\\merge\\data\\asof2.csv -> build\\lib.win-amd64-3.7\\pandas\\tests\\reshape\\merge\\data\n",
      "  copying pandas\\tests\\reshape\\merge\\data\\quotes.csv -> build\\lib.win-amd64-3.7\\pandas\\tests\\reshape\\merge\\data\n",
      "  copying pandas\\tests\\reshape\\merge\\data\\quotes2.csv -> build\\lib.win-amd64-3.7\\pandas\\tests\\reshape\\merge\\data\n",
      "  copying pandas\\tests\\reshape\\merge\\data\\tolerance.csv -> build\\lib.win-amd64-3.7\\pandas\\tests\\reshape\\merge\\data\n",
      "  copying pandas\\tests\\reshape\\merge\\data\\trades.csv -> build\\lib.win-amd64-3.7\\pandas\\tests\\reshape\\merge\\data\n",
      "  copying pandas\\tests\\reshape\\merge\\data\\trades2.csv -> build\\lib.win-amd64-3.7\\pandas\\tests\\reshape\\merge\\data\n",
      "  creating build\\lib.win-amd64-3.7\\pandas\\tests\\tseries\\offsets\\data\n",
      "  copying pandas\\tests\\tseries\\offsets\\data\\cday-0.14.1.pickle -> build\\lib.win-amd64-3.7\\pandas\\tests\\tseries\\offsets\\data\n",
      "  copying pandas\\tests\\tseries\\offsets\\data\\dateoffset_0_15_2.pickle -> build\\lib.win-amd64-3.7\\pandas\\tests\\tseries\\offsets\\data\n",
      "  UPDATING build\\lib.win-amd64-3.7\\pandas/_version.py\n",
      "  set build\\lib.win-amd64-3.7\\pandas/_version.py to '0.23.0'\n",
      "  running build_ext\n",
      "  skipping 'pandas\\_libs\\algos.c' Cython extension (up-to-date)\n",
      "  building 'pandas._libs.algos' extension\n",
      "  error: Microsoft Visual C++ 14.0 is required. Get it with \"Microsoft Visual C++ Build Tools\": https://visualstudio.microsoft.com/downloads/\n",
      "  \n",
      "  ----------------------------------------\n",
      "  Running setup.py clean for pandas\n",
      "Failed to build pandas\n",
      "Installing collected packages: pandas\n",
      "  Found existing installation: pandas 0.23.4\n",
      "    Uninstalling pandas-0.23.4:\n"
     ]
    },
    {
     "name": "stderr",
     "output_type": "stream",
     "text": [
      "  Failed building wheel for pandas\n",
      "Could not install packages due to an EnvironmentError: [WinError 5] Access is denied: 'c:\\\\programdata\\\\anaconda3\\\\lib\\\\site-packages\\\\pandas\\\\api\\\\extensions\\\\__init__.py'\n",
      "Consider using the `--user` option or check the permissions.\n",
      "\n"
     ]
    }
   ],
   "source": [
    "!pip install pandas==0.23"
   ]
  },
  {
   "cell_type": "code",
   "execution_count": 2,
   "metadata": {},
   "outputs": [],
   "source": [
    "import pandas as pd\n",
    "import matplotlib.pyplot as plt\n",
    "\n",
    "%matplotlib inline"
   ]
  },
  {
   "cell_type": "code",
   "execution_count": 3,
   "metadata": {},
   "outputs": [
    {
     "data": {
      "text/plain": [
       "'0.23.4'"
      ]
     },
     "execution_count": 3,
     "metadata": {},
     "output_type": "execute_result"
    }
   ],
   "source": [
    "pd.__version__"
   ]
  },
  {
   "cell_type": "markdown",
   "metadata": {},
   "source": [
    "## Taking a look at the Movies dataset\n",
    "This data shows the movies based on their title and the year of release"
   ]
  },
  {
   "cell_type": "code",
   "execution_count": 4,
   "metadata": {},
   "outputs": [
    {
     "name": "stdout",
     "output_type": "stream",
     "text": [
      "<class 'pandas.core.frame.DataFrame'>\n",
      "RangeIndex: 244914 entries, 0 to 244913\n",
      "Data columns (total 2 columns):\n",
      "title    244914 non-null object\n",
      "year     244914 non-null int64\n",
      "dtypes: int64(1), object(1)\n",
      "memory usage: 3.7+ MB\n"
     ]
    }
   ],
   "source": [
    "movies = pd.read_csv('titles.csv.bz2', compression='bz2')\n",
    "movies.info()"
   ]
  },
  {
   "cell_type": "code",
   "execution_count": 5,
   "metadata": {},
   "outputs": [
    {
     "data": {
      "text/html": [
       "<div>\n",
       "<style scoped>\n",
       "    .dataframe tbody tr th:only-of-type {\n",
       "        vertical-align: middle;\n",
       "    }\n",
       "\n",
       "    .dataframe tbody tr th {\n",
       "        vertical-align: top;\n",
       "    }\n",
       "\n",
       "    .dataframe thead th {\n",
       "        text-align: right;\n",
       "    }\n",
       "</style>\n",
       "<table border=\"1\" class=\"dataframe\">\n",
       "  <thead>\n",
       "    <tr style=\"text-align: right;\">\n",
       "      <th></th>\n",
       "      <th>title</th>\n",
       "      <th>year</th>\n",
       "    </tr>\n",
       "  </thead>\n",
       "  <tbody>\n",
       "    <tr>\n",
       "      <th>0</th>\n",
       "      <td>The Ticket to the Life</td>\n",
       "      <td>2009</td>\n",
       "    </tr>\n",
       "    <tr>\n",
       "      <th>1</th>\n",
       "      <td>Parallel Worlds: A New Rock Music Experience</td>\n",
       "      <td>2016</td>\n",
       "    </tr>\n",
       "    <tr>\n",
       "      <th>2</th>\n",
       "      <td>Morita - La hija de Jesus</td>\n",
       "      <td>2008</td>\n",
       "    </tr>\n",
       "    <tr>\n",
       "      <th>3</th>\n",
       "      <td>Gun</td>\n",
       "      <td>2017</td>\n",
       "    </tr>\n",
       "    <tr>\n",
       "      <th>4</th>\n",
       "      <td>Love or Nothing at All</td>\n",
       "      <td>2014</td>\n",
       "    </tr>\n",
       "  </tbody>\n",
       "</table>\n",
       "</div>"
      ],
      "text/plain": [
       "                                          title  year\n",
       "0                        The Ticket to the Life  2009\n",
       "1  Parallel Worlds: A New Rock Music Experience  2016\n",
       "2                     Morita - La hija de Jesus  2008\n",
       "3                                           Gun  2017\n",
       "4                        Love or Nothing at All  2014"
      ]
     },
     "execution_count": 5,
     "metadata": {},
     "output_type": "execute_result"
    }
   ],
   "source": [
    "movies.head()"
   ]
  },
  {
   "cell_type": "markdown",
   "metadata": {},
   "source": [
    "## Taking a look at the Cast dataset\n",
    "\n",
    "This data shows the cast (actors, actresses, supporting roles) for each movie\n",
    "\n",
    "- The attribute `n` basically tells the importance of the cast role, lower the number, more important the role.\n",
    "- Supporting cast usually don't have any value for `n`"
   ]
  },
  {
   "cell_type": "code",
   "execution_count": 6,
   "metadata": {},
   "outputs": [
    {
     "name": "stdout",
     "output_type": "stream",
     "text": [
      "<class 'pandas.core.frame.DataFrame'>\n",
      "RangeIndex: 3786176 entries, 0 to 3786175\n",
      "Data columns (total 6 columns):\n",
      "title        object\n",
      "year         int64\n",
      "name         object\n",
      "type         object\n",
      "character    object\n",
      "n            float64\n",
      "dtypes: float64(1), int64(1), object(4)\n",
      "memory usage: 173.3+ MB\n"
     ]
    }
   ],
   "source": [
    "cast = pd.read_csv('cast.csv.bz2', compression='bz2')\n",
    "cast.info()"
   ]
  },
  {
   "cell_type": "code",
   "execution_count": 7,
   "metadata": {},
   "outputs": [
    {
     "data": {
      "text/html": [
       "<div>\n",
       "<style scoped>\n",
       "    .dataframe tbody tr th:only-of-type {\n",
       "        vertical-align: middle;\n",
       "    }\n",
       "\n",
       "    .dataframe tbody tr th {\n",
       "        vertical-align: top;\n",
       "    }\n",
       "\n",
       "    .dataframe thead th {\n",
       "        text-align: right;\n",
       "    }\n",
       "</style>\n",
       "<table border=\"1\" class=\"dataframe\">\n",
       "  <thead>\n",
       "    <tr style=\"text-align: right;\">\n",
       "      <th></th>\n",
       "      <th>title</th>\n",
       "      <th>year</th>\n",
       "      <th>name</th>\n",
       "      <th>type</th>\n",
       "      <th>character</th>\n",
       "      <th>n</th>\n",
       "    </tr>\n",
       "  </thead>\n",
       "  <tbody>\n",
       "    <tr>\n",
       "      <th>0</th>\n",
       "      <td>Closet Monster</td>\n",
       "      <td>2015</td>\n",
       "      <td>Buffy #1</td>\n",
       "      <td>actor</td>\n",
       "      <td>Buffy 4</td>\n",
       "      <td>31.0</td>\n",
       "    </tr>\n",
       "    <tr>\n",
       "      <th>1</th>\n",
       "      <td>Suuri illusioni</td>\n",
       "      <td>1985</td>\n",
       "      <td>Homo $</td>\n",
       "      <td>actor</td>\n",
       "      <td>Guests</td>\n",
       "      <td>22.0</td>\n",
       "    </tr>\n",
       "    <tr>\n",
       "      <th>2</th>\n",
       "      <td>Battle of the Sexes</td>\n",
       "      <td>2017</td>\n",
       "      <td>$hutter</td>\n",
       "      <td>actor</td>\n",
       "      <td>Bobby Riggs Fan</td>\n",
       "      <td>10.0</td>\n",
       "    </tr>\n",
       "    <tr>\n",
       "      <th>3</th>\n",
       "      <td>Secret in Their Eyes</td>\n",
       "      <td>2015</td>\n",
       "      <td>$hutter</td>\n",
       "      <td>actor</td>\n",
       "      <td>2002 Dodger Fan</td>\n",
       "      <td>NaN</td>\n",
       "    </tr>\n",
       "    <tr>\n",
       "      <th>4</th>\n",
       "      <td>Steve Jobs</td>\n",
       "      <td>2015</td>\n",
       "      <td>$hutter</td>\n",
       "      <td>actor</td>\n",
       "      <td>1988 Opera House Patron</td>\n",
       "      <td>NaN</td>\n",
       "    </tr>\n",
       "    <tr>\n",
       "      <th>5</th>\n",
       "      <td>Straight Outta Compton</td>\n",
       "      <td>2015</td>\n",
       "      <td>$hutter</td>\n",
       "      <td>actor</td>\n",
       "      <td>Club Patron</td>\n",
       "      <td>NaN</td>\n",
       "    </tr>\n",
       "    <tr>\n",
       "      <th>6</th>\n",
       "      <td>Straight Outta Compton</td>\n",
       "      <td>2015</td>\n",
       "      <td>$hutter</td>\n",
       "      <td>actor</td>\n",
       "      <td>Dopeman</td>\n",
       "      <td>NaN</td>\n",
       "    </tr>\n",
       "    <tr>\n",
       "      <th>7</th>\n",
       "      <td>For Thy Love 2</td>\n",
       "      <td>2009</td>\n",
       "      <td>Bee Moe $lim</td>\n",
       "      <td>actor</td>\n",
       "      <td>Thug 1</td>\n",
       "      <td>NaN</td>\n",
       "    </tr>\n",
       "    <tr>\n",
       "      <th>8</th>\n",
       "      <td>Lapis, Ballpen at Diploma, a True to Life Journey</td>\n",
       "      <td>2014</td>\n",
       "      <td>Jori ' Danilo' Jurado Jr.</td>\n",
       "      <td>actor</td>\n",
       "      <td>Jaime (young)</td>\n",
       "      <td>9.0</td>\n",
       "    </tr>\n",
       "    <tr>\n",
       "      <th>9</th>\n",
       "      <td>Desire (III)</td>\n",
       "      <td>2014</td>\n",
       "      <td>Syaiful 'Ariffin</td>\n",
       "      <td>actor</td>\n",
       "      <td>Actor Playing Eteocles from 'Antigone'</td>\n",
       "      <td>NaN</td>\n",
       "    </tr>\n",
       "  </tbody>\n",
       "</table>\n",
       "</div>"
      ],
      "text/plain": [
       "                                               title  year  \\\n",
       "0                                     Closet Monster  2015   \n",
       "1                                    Suuri illusioni  1985   \n",
       "2                                Battle of the Sexes  2017   \n",
       "3                               Secret in Their Eyes  2015   \n",
       "4                                         Steve Jobs  2015   \n",
       "5                             Straight Outta Compton  2015   \n",
       "6                             Straight Outta Compton  2015   \n",
       "7                                     For Thy Love 2  2009   \n",
       "8  Lapis, Ballpen at Diploma, a True to Life Journey  2014   \n",
       "9                                       Desire (III)  2014   \n",
       "\n",
       "                        name   type                               character  \\\n",
       "0                   Buffy #1  actor                                 Buffy 4   \n",
       "1                     Homo $  actor                                  Guests   \n",
       "2                    $hutter  actor                         Bobby Riggs Fan   \n",
       "3                    $hutter  actor                         2002 Dodger Fan   \n",
       "4                    $hutter  actor                 1988 Opera House Patron   \n",
       "5                    $hutter  actor                             Club Patron   \n",
       "6                    $hutter  actor                                 Dopeman   \n",
       "7               Bee Moe $lim  actor                                  Thug 1   \n",
       "8  Jori ' Danilo' Jurado Jr.  actor                           Jaime (young)   \n",
       "9           Syaiful 'Ariffin  actor  Actor Playing Eteocles from 'Antigone'   \n",
       "\n",
       "      n  \n",
       "0  31.0  \n",
       "1  22.0  \n",
       "2  10.0  \n",
       "3   NaN  \n",
       "4   NaN  \n",
       "5   NaN  \n",
       "6   NaN  \n",
       "7   NaN  \n",
       "8   9.0  \n",
       "9   NaN  "
      ]
     },
     "execution_count": 7,
     "metadata": {},
     "output_type": "execute_result"
    }
   ],
   "source": [
    "cast.head(10)"
   ]
  },
  {
   "cell_type": "markdown",
   "metadata": {},
   "source": [
    "## Taking a look at the Release dataset\n",
    "\n",
    "This data shows details of when each movie was release in each country with the release date"
   ]
  },
  {
   "cell_type": "code",
   "execution_count": 8,
   "metadata": {},
   "outputs": [
    {
     "name": "stdout",
     "output_type": "stream",
     "text": [
      "<class 'pandas.core.frame.DataFrame'>\n",
      "RangeIndex: 479488 entries, 0 to 479487\n",
      "Data columns (total 4 columns):\n",
      "title      479488 non-null object\n",
      "year       479488 non-null int64\n",
      "country    479488 non-null object\n",
      "date       479488 non-null datetime64[ns]\n",
      "dtypes: datetime64[ns](1), int64(1), object(2)\n",
      "memory usage: 14.6+ MB\n"
     ]
    }
   ],
   "source": [
    "release_dates = pd.read_csv('release_dates.csv.bz2', compression='bz2', parse_dates=['date'], infer_datetime_format=True)\n",
    "release_dates.info()"
   ]
  },
  {
   "cell_type": "code",
   "execution_count": 9,
   "metadata": {},
   "outputs": [
    {
     "data": {
      "text/html": [
       "<div>\n",
       "<style scoped>\n",
       "    .dataframe tbody tr th:only-of-type {\n",
       "        vertical-align: middle;\n",
       "    }\n",
       "\n",
       "    .dataframe tbody tr th {\n",
       "        vertical-align: top;\n",
       "    }\n",
       "\n",
       "    .dataframe thead th {\n",
       "        text-align: right;\n",
       "    }\n",
       "</style>\n",
       "<table border=\"1\" class=\"dataframe\">\n",
       "  <thead>\n",
       "    <tr style=\"text-align: right;\">\n",
       "      <th></th>\n",
       "      <th>title</th>\n",
       "      <th>year</th>\n",
       "      <th>country</th>\n",
       "      <th>date</th>\n",
       "    </tr>\n",
       "  </thead>\n",
       "  <tbody>\n",
       "    <tr>\n",
       "      <th>0</th>\n",
       "      <td>#73, Shaanthi Nivaasa</td>\n",
       "      <td>2007</td>\n",
       "      <td>India</td>\n",
       "      <td>2007-06-15</td>\n",
       "    </tr>\n",
       "    <tr>\n",
       "      <th>1</th>\n",
       "      <td>#BKKY</td>\n",
       "      <td>2016</td>\n",
       "      <td>Cambodia</td>\n",
       "      <td>2017-10-12</td>\n",
       "    </tr>\n",
       "    <tr>\n",
       "      <th>2</th>\n",
       "      <td>#Beings</td>\n",
       "      <td>2015</td>\n",
       "      <td>Romania</td>\n",
       "      <td>2015-01-29</td>\n",
       "    </tr>\n",
       "    <tr>\n",
       "      <th>3</th>\n",
       "      <td>#Captured</td>\n",
       "      <td>2017</td>\n",
       "      <td>USA</td>\n",
       "      <td>2017-09-05</td>\n",
       "    </tr>\n",
       "    <tr>\n",
       "      <th>4</th>\n",
       "      <td>#Ewankosau saranghaeyo</td>\n",
       "      <td>2015</td>\n",
       "      <td>Philippines</td>\n",
       "      <td>2015-01-21</td>\n",
       "    </tr>\n",
       "  </tbody>\n",
       "</table>\n",
       "</div>"
      ],
      "text/plain": [
       "                    title  year      country       date\n",
       "0   #73, Shaanthi Nivaasa  2007        India 2007-06-15\n",
       "1                   #BKKY  2016     Cambodia 2017-10-12\n",
       "2                 #Beings  2015      Romania 2015-01-29\n",
       "3               #Captured  2017          USA 2017-09-05\n",
       "4  #Ewankosau saranghaeyo  2015  Philippines 2015-01-21"
      ]
     },
     "execution_count": 9,
     "metadata": {},
     "output_type": "execute_result"
    }
   ],
   "source": [
    "release_dates.head()"
   ]
  },
  {
   "cell_type": "markdown",
   "metadata": {},
   "source": [
    "# Section I - Basic Querying, Filtering and Transformations"
   ]
  },
  {
   "cell_type": "markdown",
   "metadata": {},
   "source": [
    "### What is the total number of movies?"
   ]
  },
  {
   "cell_type": "code",
   "execution_count": 10,
   "metadata": {},
   "outputs": [
    {
     "data": {
      "text/plain": [
       "244914"
      ]
     },
     "execution_count": 10,
     "metadata": {},
     "output_type": "execute_result"
    }
   ],
   "source": [
    "len(movies)"
   ]
  },
  {
   "cell_type": "markdown",
   "metadata": {},
   "source": [
    "### List all Batman movies ever made"
   ]
  },
  {
   "cell_type": "code",
   "execution_count": 11,
   "metadata": {},
   "outputs": [
    {
     "name": "stdout",
     "output_type": "stream",
     "text": [
      "Total Batman Movies: 2\n"
     ]
    },
    {
     "data": {
      "text/html": [
       "<div>\n",
       "<style scoped>\n",
       "    .dataframe tbody tr th:only-of-type {\n",
       "        vertical-align: middle;\n",
       "    }\n",
       "\n",
       "    .dataframe tbody tr th {\n",
       "        vertical-align: top;\n",
       "    }\n",
       "\n",
       "    .dataframe thead th {\n",
       "        text-align: right;\n",
       "    }\n",
       "</style>\n",
       "<table border=\"1\" class=\"dataframe\">\n",
       "  <thead>\n",
       "    <tr style=\"text-align: right;\">\n",
       "      <th></th>\n",
       "      <th>title</th>\n",
       "      <th>year</th>\n",
       "    </tr>\n",
       "  </thead>\n",
       "  <tbody>\n",
       "    <tr>\n",
       "      <th>52734</th>\n",
       "      <td>Batman</td>\n",
       "      <td>1943</td>\n",
       "    </tr>\n",
       "    <tr>\n",
       "      <th>150621</th>\n",
       "      <td>Batman</td>\n",
       "      <td>1989</td>\n",
       "    </tr>\n",
       "  </tbody>\n",
       "</table>\n",
       "</div>"
      ],
      "text/plain": [
       "         title  year\n",
       "52734   Batman  1943\n",
       "150621  Batman  1989"
      ]
     },
     "execution_count": 11,
     "metadata": {},
     "output_type": "execute_result"
    }
   ],
   "source": [
    "batman_df = movies[movies.title == 'Batman']\n",
    "print('Total Batman Movies:', len(batman_df))\n",
    "batman_df"
   ]
  },
  {
   "cell_type": "markdown",
   "metadata": {},
   "source": [
    "### List all Batman movies ever made - the right approach"
   ]
  },
  {
   "cell_type": "code",
   "execution_count": 12,
   "metadata": {},
   "outputs": [
    {
     "name": "stdout",
     "output_type": "stream",
     "text": [
      "Total Batman Movies: 35\n"
     ]
    },
    {
     "data": {
      "text/html": [
       "<div>\n",
       "<style scoped>\n",
       "    .dataframe tbody tr th:only-of-type {\n",
       "        vertical-align: middle;\n",
       "    }\n",
       "\n",
       "    .dataframe tbody tr th {\n",
       "        vertical-align: top;\n",
       "    }\n",
       "\n",
       "    .dataframe thead th {\n",
       "        text-align: right;\n",
       "    }\n",
       "</style>\n",
       "<table border=\"1\" class=\"dataframe\">\n",
       "  <thead>\n",
       "    <tr style=\"text-align: right;\">\n",
       "      <th></th>\n",
       "      <th>title</th>\n",
       "      <th>year</th>\n",
       "    </tr>\n",
       "  </thead>\n",
       "  <tbody>\n",
       "    <tr>\n",
       "      <th>16813</th>\n",
       "      <td>Batman: Anarchy</td>\n",
       "      <td>2016</td>\n",
       "    </tr>\n",
       "    <tr>\n",
       "      <th>30236</th>\n",
       "      <td>Batman Forever</td>\n",
       "      <td>1995</td>\n",
       "    </tr>\n",
       "    <tr>\n",
       "      <th>31674</th>\n",
       "      <td>Batman Untold</td>\n",
       "      <td>2010</td>\n",
       "    </tr>\n",
       "    <tr>\n",
       "      <th>31711</th>\n",
       "      <td>Scooby-Doo &amp; Batman: the Brave and the Bold</td>\n",
       "      <td>2018</td>\n",
       "    </tr>\n",
       "    <tr>\n",
       "      <th>41881</th>\n",
       "      <td>Batman the Rise of Red Hood</td>\n",
       "      <td>2018</td>\n",
       "    </tr>\n",
       "    <tr>\n",
       "      <th>43484</th>\n",
       "      <td>Batman: Return of the Caped Crusaders</td>\n",
       "      <td>2016</td>\n",
       "    </tr>\n",
       "    <tr>\n",
       "      <th>46333</th>\n",
       "      <td>Batman &amp; Robin</td>\n",
       "      <td>1997</td>\n",
       "    </tr>\n",
       "    <tr>\n",
       "      <th>51811</th>\n",
       "      <td>Batman Revealed</td>\n",
       "      <td>2012</td>\n",
       "    </tr>\n",
       "    <tr>\n",
       "      <th>52734</th>\n",
       "      <td>Batman</td>\n",
       "      <td>1943</td>\n",
       "    </tr>\n",
       "    <tr>\n",
       "      <th>56029</th>\n",
       "      <td>Batman Beyond: Rising Knight</td>\n",
       "      <td>2014</td>\n",
       "    </tr>\n",
       "  </tbody>\n",
       "</table>\n",
       "</div>"
      ],
      "text/plain": [
       "                                             title  year\n",
       "16813                              Batman: Anarchy  2016\n",
       "30236                               Batman Forever  1995\n",
       "31674                                Batman Untold  2010\n",
       "31711  Scooby-Doo & Batman: the Brave and the Bold  2018\n",
       "41881                  Batman the Rise of Red Hood  2018\n",
       "43484        Batman: Return of the Caped Crusaders  2016\n",
       "46333                               Batman & Robin  1997\n",
       "51811                              Batman Revealed  2012\n",
       "52734                                       Batman  1943\n",
       "56029                 Batman Beyond: Rising Knight  2014"
      ]
     },
     "execution_count": 12,
     "metadata": {},
     "output_type": "execute_result"
    }
   ],
   "source": [
    "batman_df = movies[movies.title.str.contains('Batman', case=False)]\n",
    "print('Total Batman Movies:', len(batman_df))\n",
    "batman_df.head(10)"
   ]
  },
  {
   "cell_type": "markdown",
   "metadata": {},
   "source": [
    "### Display the top 15 Batman movies in the order they were released"
   ]
  },
  {
   "cell_type": "code",
   "execution_count": 13,
   "metadata": {},
   "outputs": [
    {
     "data": {
      "text/html": [
       "<div>\n",
       "<style scoped>\n",
       "    .dataframe tbody tr th:only-of-type {\n",
       "        vertical-align: middle;\n",
       "    }\n",
       "\n",
       "    .dataframe tbody tr th {\n",
       "        vertical-align: top;\n",
       "    }\n",
       "\n",
       "    .dataframe thead th {\n",
       "        text-align: right;\n",
       "    }\n",
       "</style>\n",
       "<table border=\"1\" class=\"dataframe\">\n",
       "  <thead>\n",
       "    <tr style=\"text-align: right;\">\n",
       "      <th></th>\n",
       "      <th>title</th>\n",
       "      <th>year</th>\n",
       "    </tr>\n",
       "  </thead>\n",
       "  <tbody>\n",
       "    <tr>\n",
       "      <th>52734</th>\n",
       "      <td>Batman</td>\n",
       "      <td>1943</td>\n",
       "    </tr>\n",
       "    <tr>\n",
       "      <th>100056</th>\n",
       "      <td>Batman and Robin</td>\n",
       "      <td>1949</td>\n",
       "    </tr>\n",
       "    <tr>\n",
       "      <th>161439</th>\n",
       "      <td>Batman Dracula</td>\n",
       "      <td>1964</td>\n",
       "    </tr>\n",
       "    <tr>\n",
       "      <th>84327</th>\n",
       "      <td>Alyas Batman at Robin</td>\n",
       "      <td>1965</td>\n",
       "    </tr>\n",
       "    <tr>\n",
       "      <th>68364</th>\n",
       "      <td>James Batman</td>\n",
       "      <td>1966</td>\n",
       "    </tr>\n",
       "    <tr>\n",
       "      <th>161527</th>\n",
       "      <td>Batman: The Movie</td>\n",
       "      <td>1966</td>\n",
       "    </tr>\n",
       "    <tr>\n",
       "      <th>56159</th>\n",
       "      <td>Batman Fights Dracula</td>\n",
       "      <td>1967</td>\n",
       "    </tr>\n",
       "    <tr>\n",
       "      <th>168504</th>\n",
       "      <td>Fight! Batman, Fight!</td>\n",
       "      <td>1973</td>\n",
       "    </tr>\n",
       "    <tr>\n",
       "      <th>150621</th>\n",
       "      <td>Batman</td>\n",
       "      <td>1989</td>\n",
       "    </tr>\n",
       "    <tr>\n",
       "      <th>156239</th>\n",
       "      <td>Alyas Batman en Robin</td>\n",
       "      <td>1991</td>\n",
       "    </tr>\n",
       "    <tr>\n",
       "      <th>156755</th>\n",
       "      <td>Batman Returns</td>\n",
       "      <td>1992</td>\n",
       "    </tr>\n",
       "    <tr>\n",
       "      <th>63366</th>\n",
       "      <td>Batman: Mask of the Phantasm</td>\n",
       "      <td>1993</td>\n",
       "    </tr>\n",
       "    <tr>\n",
       "      <th>30236</th>\n",
       "      <td>Batman Forever</td>\n",
       "      <td>1995</td>\n",
       "    </tr>\n",
       "    <tr>\n",
       "      <th>46333</th>\n",
       "      <td>Batman &amp; Robin</td>\n",
       "      <td>1997</td>\n",
       "    </tr>\n",
       "    <tr>\n",
       "      <th>208220</th>\n",
       "      <td>Batman Begins</td>\n",
       "      <td>2005</td>\n",
       "    </tr>\n",
       "  </tbody>\n",
       "</table>\n",
       "</div>"
      ],
      "text/plain": [
       "                               title  year\n",
       "52734                         Batman  1943\n",
       "100056              Batman and Robin  1949\n",
       "161439                Batman Dracula  1964\n",
       "84327          Alyas Batman at Robin  1965\n",
       "68364                   James Batman  1966\n",
       "161527             Batman: The Movie  1966\n",
       "56159          Batman Fights Dracula  1967\n",
       "168504         Fight! Batman, Fight!  1973\n",
       "150621                        Batman  1989\n",
       "156239         Alyas Batman en Robin  1991\n",
       "156755                Batman Returns  1992\n",
       "63366   Batman: Mask of the Phantasm  1993\n",
       "30236                 Batman Forever  1995\n",
       "46333                 Batman & Robin  1997\n",
       "208220                 Batman Begins  2005"
      ]
     },
     "execution_count": 13,
     "metadata": {},
     "output_type": "execute_result"
    }
   ],
   "source": [
    "batman_df.sort_values(by=['year'], ascending=True).iloc[:15]"
   ]
  },
  {
   "cell_type": "markdown",
   "metadata": {},
   "source": [
    "### Section I - Q1 : List all the 'Harry Potter' movies from the most recent to the earliest"
   ]
  },
  {
   "cell_type": "code",
   "execution_count": 14,
   "metadata": {},
   "outputs": [
    {
     "data": {
      "text/html": [
       "<div>\n",
       "<style scoped>\n",
       "    .dataframe tbody tr th:only-of-type {\n",
       "        vertical-align: middle;\n",
       "    }\n",
       "\n",
       "    .dataframe tbody tr th {\n",
       "        vertical-align: top;\n",
       "    }\n",
       "\n",
       "    .dataframe thead th {\n",
       "        text-align: right;\n",
       "    }\n",
       "</style>\n",
       "<table border=\"1\" class=\"dataframe\">\n",
       "  <thead>\n",
       "    <tr style=\"text-align: right;\">\n",
       "      <th></th>\n",
       "      <th>title</th>\n",
       "      <th>year</th>\n",
       "    </tr>\n",
       "  </thead>\n",
       "  <tbody>\n",
       "    <tr>\n",
       "      <th>143147</th>\n",
       "      <td>Harry Potter and the Deathly Hallows: Part 2</td>\n",
       "      <td>2011</td>\n",
       "    </tr>\n",
       "    <tr>\n",
       "      <th>152831</th>\n",
       "      <td>Harry Potter and the Deathly Hallows: Part 1</td>\n",
       "      <td>2010</td>\n",
       "    </tr>\n",
       "    <tr>\n",
       "      <th>109213</th>\n",
       "      <td>Harry Potter and the Half-Blood Prince</td>\n",
       "      <td>2009</td>\n",
       "    </tr>\n",
       "    <tr>\n",
       "      <th>50581</th>\n",
       "      <td>Harry Potter and the Order of the Phoenix</td>\n",
       "      <td>2007</td>\n",
       "    </tr>\n",
       "    <tr>\n",
       "      <th>187926</th>\n",
       "      <td>Harry Potter and the Goblet of Fire</td>\n",
       "      <td>2005</td>\n",
       "    </tr>\n",
       "    <tr>\n",
       "      <th>61957</th>\n",
       "      <td>Harry Potter and the Prisoner of Azkaban</td>\n",
       "      <td>2004</td>\n",
       "    </tr>\n",
       "    <tr>\n",
       "      <th>82791</th>\n",
       "      <td>Harry Potter and the Chamber of Secrets</td>\n",
       "      <td>2002</td>\n",
       "    </tr>\n",
       "    <tr>\n",
       "      <th>223087</th>\n",
       "      <td>Harry Potter and the Sorcerer's Stone</td>\n",
       "      <td>2001</td>\n",
       "    </tr>\n",
       "  </tbody>\n",
       "</table>\n",
       "</div>"
      ],
      "text/plain": [
       "                                               title  year\n",
       "143147  Harry Potter and the Deathly Hallows: Part 2  2011\n",
       "152831  Harry Potter and the Deathly Hallows: Part 1  2010\n",
       "109213        Harry Potter and the Half-Blood Prince  2009\n",
       "50581      Harry Potter and the Order of the Phoenix  2007\n",
       "187926           Harry Potter and the Goblet of Fire  2005\n",
       "61957       Harry Potter and the Prisoner of Azkaban  2004\n",
       "82791        Harry Potter and the Chamber of Secrets  2002\n",
       "223087         Harry Potter and the Sorcerer's Stone  2001"
      ]
     },
     "execution_count": 14,
     "metadata": {},
     "output_type": "execute_result"
    }
   ],
   "source": [
    "harrypotter_df = movies[movies.title.str.contains('Harry Potter')]\n",
    "harrypotter_df.sort_values('year',ascending=False)"
   ]
  },
  {
   "cell_type": "markdown",
   "metadata": {},
   "source": [
    "### How many movies were made in the year 2017?"
   ]
  },
  {
   "cell_type": "code",
   "execution_count": 15,
   "metadata": {},
   "outputs": [
    {
     "data": {
      "text/plain": [
       "11474"
      ]
     },
     "execution_count": 15,
     "metadata": {},
     "output_type": "execute_result"
    }
   ],
   "source": [
    "len(movies[movies.year == 2017])"
   ]
  },
  {
   "cell_type": "markdown",
   "metadata": {},
   "source": [
    "### Section I - Q2 : How many movies were made in the year 2015?"
   ]
  },
  {
   "cell_type": "code",
   "execution_count": 16,
   "metadata": {},
   "outputs": [
    {
     "data": {
      "text/plain": [
       "8702"
      ]
     },
     "execution_count": 16,
     "metadata": {},
     "output_type": "execute_result"
    }
   ],
   "source": [
    "len(movies[movies.year == 2015])"
   ]
  },
  {
   "cell_type": "markdown",
   "metadata": {},
   "source": [
    "### Section I - Q3 : How many movies were made from 2000 till 2018?\n",
    "- You can chain multiple conditions using OR (`|`) as well as AND (`&`) depending on the condition"
   ]
  },
  {
   "cell_type": "code",
   "execution_count": 17,
   "metadata": {},
   "outputs": [
    {
     "data": {
      "text/plain": [
       "114070"
      ]
     },
     "execution_count": 17,
     "metadata": {},
     "output_type": "execute_result"
    }
   ],
   "source": [
    "len(movies[(movies.year >= 2000) & (movies.year <= 2018)])"
   ]
  },
  {
   "cell_type": "markdown",
   "metadata": {},
   "source": [
    "### Section I - Q4: How many movies are titled \"Hamlet\"?"
   ]
  },
  {
   "cell_type": "code",
   "execution_count": 18,
   "metadata": {},
   "outputs": [
    {
     "data": {
      "text/plain": [
       "20"
      ]
     },
     "execution_count": 18,
     "metadata": {},
     "output_type": "execute_result"
    }
   ],
   "source": [
    "len(movies[movies.title == 'Hamlet'])"
   ]
  },
  {
   "cell_type": "markdown",
   "metadata": {},
   "source": [
    "### Section I - Q5: List all movies titled \"Hamlet\" \n",
    "- The movies should only have been released on or after the year 2000\n",
    "- Display the movies based on the year they were released (earliest to most recent)"
   ]
  },
  {
   "cell_type": "code",
   "execution_count": 19,
   "metadata": {},
   "outputs": [
    {
     "data": {
      "text/html": [
       "<div>\n",
       "<style scoped>\n",
       "    .dataframe tbody tr th:only-of-type {\n",
       "        vertical-align: middle;\n",
       "    }\n",
       "\n",
       "    .dataframe tbody tr th {\n",
       "        vertical-align: top;\n",
       "    }\n",
       "\n",
       "    .dataframe thead th {\n",
       "        text-align: right;\n",
       "    }\n",
       "</style>\n",
       "<table border=\"1\" class=\"dataframe\">\n",
       "  <thead>\n",
       "    <tr style=\"text-align: right;\">\n",
       "      <th></th>\n",
       "      <th>title</th>\n",
       "      <th>year</th>\n",
       "    </tr>\n",
       "  </thead>\n",
       "  <tbody>\n",
       "    <tr>\n",
       "      <th>55639</th>\n",
       "      <td>Hamlet</td>\n",
       "      <td>2000</td>\n",
       "    </tr>\n",
       "    <tr>\n",
       "      <th>1931</th>\n",
       "      <td>Hamlet</td>\n",
       "      <td>2009</td>\n",
       "    </tr>\n",
       "    <tr>\n",
       "      <th>227953</th>\n",
       "      <td>Hamlet</td>\n",
       "      <td>2011</td>\n",
       "    </tr>\n",
       "    <tr>\n",
       "      <th>178290</th>\n",
       "      <td>Hamlet</td>\n",
       "      <td>2014</td>\n",
       "    </tr>\n",
       "    <tr>\n",
       "      <th>186137</th>\n",
       "      <td>Hamlet</td>\n",
       "      <td>2015</td>\n",
       "    </tr>\n",
       "    <tr>\n",
       "      <th>191940</th>\n",
       "      <td>Hamlet</td>\n",
       "      <td>2016</td>\n",
       "    </tr>\n",
       "    <tr>\n",
       "      <th>244747</th>\n",
       "      <td>Hamlet</td>\n",
       "      <td>2017</td>\n",
       "    </tr>\n",
       "  </tbody>\n",
       "</table>\n",
       "</div>"
      ],
      "text/plain": [
       "         title  year\n",
       "55639   Hamlet  2000\n",
       "1931    Hamlet  2009\n",
       "227953  Hamlet  2011\n",
       "178290  Hamlet  2014\n",
       "186137  Hamlet  2015\n",
       "191940  Hamlet  2016\n",
       "244747  Hamlet  2017"
      ]
     },
     "execution_count": 19,
     "metadata": {},
     "output_type": "execute_result"
    }
   ],
   "source": [
    "movies[(movies.title == 'Hamlet') & (movies.year >= 2000)].sort_values('year',ascending=True)"
   ]
  },
  {
   "cell_type": "markdown",
   "metadata": {},
   "source": [
    "### Section I - Q6: How many roles in the movie \"Inception\" are of the supporting cast (extra credits)\n",
    "- supporting cast are NOT ranked by an \"n\" value (NaN)\n",
    "- check for how to filter based on nulls"
   ]
  },
  {
   "cell_type": "code",
   "execution_count": 20,
   "metadata": {},
   "outputs": [
    {
     "data": {
      "text/plain": [
       "27"
      ]
     },
     "execution_count": 20,
     "metadata": {},
     "output_type": "execute_result"
    }
   ],
   "source": [
    "inception_cast = cast[cast.title == 'Inception']\n",
    "len(inception_cast[inception_cast.n.isnull()])"
   ]
  },
  {
   "cell_type": "markdown",
   "metadata": {},
   "source": [
    "### Section I - Q7: How many roles in the movie \"Inception\" are of the main cast\n",
    "- main cast always have an 'n' value"
   ]
  },
  {
   "cell_type": "code",
   "execution_count": 21,
   "metadata": {},
   "outputs": [
    {
     "data": {
      "text/plain": [
       "51"
      ]
     },
     "execution_count": 21,
     "metadata": {},
     "output_type": "execute_result"
    }
   ],
   "source": [
    "len(inception_cast[inception_cast.n.notnull()])"
   ]
  },
  {
   "cell_type": "markdown",
   "metadata": {},
   "source": [
    "### Section I - Q8: Show the top ten cast (actors\\actresses) in the movie \"Inception\" \n",
    "- support cast always have an 'n' value\n",
    "- remember to sort!"
   ]
  },
  {
   "cell_type": "code",
   "execution_count": 22,
   "metadata": {},
   "outputs": [
    {
     "data": {
      "text/html": [
       "<div>\n",
       "<style scoped>\n",
       "    .dataframe tbody tr th:only-of-type {\n",
       "        vertical-align: middle;\n",
       "    }\n",
       "\n",
       "    .dataframe tbody tr th {\n",
       "        vertical-align: top;\n",
       "    }\n",
       "\n",
       "    .dataframe thead th {\n",
       "        text-align: right;\n",
       "    }\n",
       "</style>\n",
       "<table border=\"1\" class=\"dataframe\">\n",
       "  <thead>\n",
       "    <tr style=\"text-align: right;\">\n",
       "      <th></th>\n",
       "      <th>title</th>\n",
       "      <th>year</th>\n",
       "      <th>name</th>\n",
       "      <th>type</th>\n",
       "      <th>character</th>\n",
       "      <th>n</th>\n",
       "    </tr>\n",
       "  </thead>\n",
       "  <tbody>\n",
       "    <tr>\n",
       "      <th>590576</th>\n",
       "      <td>Inception</td>\n",
       "      <td>2010</td>\n",
       "      <td>Leonardo DiCaprio</td>\n",
       "      <td>actor</td>\n",
       "      <td>Cobb</td>\n",
       "      <td>1.0</td>\n",
       "    </tr>\n",
       "    <tr>\n",
       "      <th>859993</th>\n",
       "      <td>Inception</td>\n",
       "      <td>2010</td>\n",
       "      <td>Joseph Gordon-Levitt</td>\n",
       "      <td>actor</td>\n",
       "      <td>Arthur</td>\n",
       "      <td>2.0</td>\n",
       "    </tr>\n",
       "    <tr>\n",
       "      <th>3387147</th>\n",
       "      <td>Inception</td>\n",
       "      <td>2010</td>\n",
       "      <td>Ellen Page</td>\n",
       "      <td>actress</td>\n",
       "      <td>Ariadne</td>\n",
       "      <td>3.0</td>\n",
       "    </tr>\n",
       "    <tr>\n",
       "      <th>940923</th>\n",
       "      <td>Inception</td>\n",
       "      <td>2010</td>\n",
       "      <td>Tom Hardy</td>\n",
       "      <td>actor</td>\n",
       "      <td>Eames</td>\n",
       "      <td>4.0</td>\n",
       "    </tr>\n",
       "    <tr>\n",
       "      <th>2406531</th>\n",
       "      <td>Inception</td>\n",
       "      <td>2010</td>\n",
       "      <td>Ken Watanabe</td>\n",
       "      <td>actor</td>\n",
       "      <td>Saito</td>\n",
       "      <td>5.0</td>\n",
       "    </tr>\n",
       "    <tr>\n",
       "      <th>1876301</th>\n",
       "      <td>Inception</td>\n",
       "      <td>2010</td>\n",
       "      <td>Dileep Rao</td>\n",
       "      <td>actor</td>\n",
       "      <td>Yusuf</td>\n",
       "      <td>6.0</td>\n",
       "    </tr>\n",
       "    <tr>\n",
       "      <th>1615709</th>\n",
       "      <td>Inception</td>\n",
       "      <td>2010</td>\n",
       "      <td>Cillian Murphy</td>\n",
       "      <td>actor</td>\n",
       "      <td>Robert Fischer</td>\n",
       "      <td>7.0</td>\n",
       "    </tr>\n",
       "    <tr>\n",
       "      <th>183937</th>\n",
       "      <td>Inception</td>\n",
       "      <td>2010</td>\n",
       "      <td>Tom Berenger</td>\n",
       "      <td>actor</td>\n",
       "      <td>Browning</td>\n",
       "      <td>8.0</td>\n",
       "    </tr>\n",
       "    <tr>\n",
       "      <th>2765969</th>\n",
       "      <td>Inception</td>\n",
       "      <td>2010</td>\n",
       "      <td>Marion Cotillard</td>\n",
       "      <td>actress</td>\n",
       "      <td>Mal</td>\n",
       "      <td>9.0</td>\n",
       "    </tr>\n",
       "    <tr>\n",
       "      <th>1826027</th>\n",
       "      <td>Inception</td>\n",
       "      <td>2010</td>\n",
       "      <td>Pete Postlethwaite</td>\n",
       "      <td>actor</td>\n",
       "      <td>Maurice Fischer</td>\n",
       "      <td>10.0</td>\n",
       "    </tr>\n",
       "  </tbody>\n",
       "</table>\n",
       "</div>"
      ],
      "text/plain": [
       "             title  year                  name     type        character     n\n",
       "590576   Inception  2010     Leonardo DiCaprio    actor             Cobb   1.0\n",
       "859993   Inception  2010  Joseph Gordon-Levitt    actor           Arthur   2.0\n",
       "3387147  Inception  2010            Ellen Page  actress          Ariadne   3.0\n",
       "940923   Inception  2010             Tom Hardy    actor            Eames   4.0\n",
       "2406531  Inception  2010          Ken Watanabe    actor            Saito   5.0\n",
       "1876301  Inception  2010            Dileep Rao    actor            Yusuf   6.0\n",
       "1615709  Inception  2010        Cillian Murphy    actor   Robert Fischer   7.0\n",
       "183937   Inception  2010          Tom Berenger    actor         Browning   8.0\n",
       "2765969  Inception  2010      Marion Cotillard  actress              Mal   9.0\n",
       "1826027  Inception  2010    Pete Postlethwaite    actor  Maurice Fischer  10.0"
      ]
     },
     "execution_count": 22,
     "metadata": {},
     "output_type": "execute_result"
    }
   ],
   "source": [
    "inception_cast[(inception_cast.n <= 10)].sort_values('n')"
   ]
  },
  {
   "cell_type": "markdown",
   "metadata": {},
   "source": [
    "### Section I - Q9:\n",
    "\n",
    "(A) List all movies where there was a character 'Albus Dumbledore' \n",
    "\n",
    "(B) Now modify the above to show only the actors who played the character 'Albus Dumbledore'\n",
    "- For Part (B) remember the same actor might play the same role in multiple movies"
   ]
  },
  {
   "cell_type": "code",
   "execution_count": 23,
   "metadata": {},
   "outputs": [
    {
     "data": {
      "text/plain": [
       "['Epic Movie',\n",
       " 'Harry Potter and the Goblet of Fire',\n",
       " 'Harry Potter and the Order of the Phoenix',\n",
       " 'Harry Potter and the Prisoner of Azkaban',\n",
       " 'Harry Potter and the Chamber of Secrets',\n",
       " \"Harry Potter and the Sorcerer's Stone\",\n",
       " 'Ultimate Hero Project',\n",
       " 'Potter']"
      ]
     },
     "execution_count": 23,
     "metadata": {},
     "output_type": "execute_result"
    }
   ],
   "source": [
    "# A\n",
    "albus_df = cast[cast.character == 'Albus Dumbledore']\n",
    "albus_df.title.unique().tolist()"
   ]
  },
  {
   "cell_type": "code",
   "execution_count": 24,
   "metadata": {},
   "outputs": [
    {
     "data": {
      "text/plain": [
       "['Dane Farwell',\n",
       " 'Michael Gambon',\n",
       " 'Richard Harris',\n",
       " \"George (X) O'Connor\",\n",
       " 'Timothy Tedmanson']"
      ]
     },
     "execution_count": 24,
     "metadata": {},
     "output_type": "execute_result"
    }
   ],
   "source": [
    "# B\n",
    "albus_df.name.unique().tolist()"
   ]
  },
  {
   "cell_type": "code",
   "execution_count": 25,
   "metadata": {},
   "outputs": [
    {
     "data": {
      "text/plain": [
       "['Epic Movie',\n",
       " 'Harry Potter and the Deathly Hallows: Part 1',\n",
       " 'Harry Potter and the Deathly Hallows: Part 2',\n",
       " 'Harry Potter and the Goblet of Fire',\n",
       " 'Harry Potter and the Half-Blood Prince',\n",
       " 'Harry Potter and the Order of the Phoenix',\n",
       " 'Harry Potter and the Prisoner of Azkaban',\n",
       " 'Harry Potter and the Chamber of Secrets',\n",
       " \"Harry Potter and the Sorcerer's Stone\",\n",
       " 'Ultimate Hero Project',\n",
       " 'Potter']"
      ]
     },
     "execution_count": 25,
     "metadata": {},
     "output_type": "execute_result"
    }
   ],
   "source": [
    "# A\n",
    "albus_df2 = cast[cast.character.str.contains('Albus Dumbledore')]\n",
    "albus_df2.title.unique().tolist()"
   ]
  },
  {
   "cell_type": "code",
   "execution_count": 26,
   "metadata": {},
   "outputs": [
    {
     "data": {
      "text/plain": [
       "['Dane Farwell',\n",
       " 'Michael Gambon',\n",
       " 'Richard Harris',\n",
       " \"George (X) O'Connor\",\n",
       " 'Toby Regbo',\n",
       " 'Timothy Tedmanson']"
      ]
     },
     "execution_count": 26,
     "metadata": {},
     "output_type": "execute_result"
    }
   ],
   "source": [
    "#B\n",
    "albus_df2.name.unique().tolist()"
   ]
  },
  {
   "cell_type": "markdown",
   "metadata": {},
   "source": [
    "### Section I - Q10:\n",
    "\n",
    "(A) How many roles has 'Keanu Reeves' played throughout his career?\n",
    "\n",
    "(B) List the leading roles that 'Keanu Reeves' played on or after 1999 in order by year."
   ]
  },
  {
   "cell_type": "code",
   "execution_count": 27,
   "metadata": {},
   "outputs": [
    {
     "data": {
      "text/plain": [
       "56"
      ]
     },
     "execution_count": 27,
     "metadata": {},
     "output_type": "execute_result"
    }
   ],
   "source": [
    "keanu_df = cast[cast.name == 'Keanu Reeves']\n",
    "len(keanu_df.character.unique())"
   ]
  },
  {
   "cell_type": "code",
   "execution_count": 28,
   "metadata": {},
   "outputs": [
    {
     "data": {
      "text/html": [
       "<div>\n",
       "<style scoped>\n",
       "    .dataframe tbody tr th:only-of-type {\n",
       "        vertical-align: middle;\n",
       "    }\n",
       "\n",
       "    .dataframe tbody tr th {\n",
       "        vertical-align: top;\n",
       "    }\n",
       "\n",
       "    .dataframe thead th {\n",
       "        text-align: right;\n",
       "    }\n",
       "</style>\n",
       "<table border=\"1\" class=\"dataframe\">\n",
       "  <thead>\n",
       "    <tr style=\"text-align: right;\">\n",
       "      <th></th>\n",
       "      <th>title</th>\n",
       "      <th>year</th>\n",
       "      <th>name</th>\n",
       "      <th>type</th>\n",
       "      <th>character</th>\n",
       "      <th>n</th>\n",
       "    </tr>\n",
       "  </thead>\n",
       "  <tbody>\n",
       "    <tr>\n",
       "      <th>1892342</th>\n",
       "      <td>47 Ronin</td>\n",
       "      <td>2013</td>\n",
       "      <td>Keanu Reeves</td>\n",
       "      <td>actor</td>\n",
       "      <td>Kai</td>\n",
       "      <td>1.0</td>\n",
       "    </tr>\n",
       "    <tr>\n",
       "      <th>1892348</th>\n",
       "      <td>Constantine</td>\n",
       "      <td>2005</td>\n",
       "      <td>Keanu Reeves</td>\n",
       "      <td>actor</td>\n",
       "      <td>John Constantine</td>\n",
       "      <td>1.0</td>\n",
       "    </tr>\n",
       "    <tr>\n",
       "      <th>1892358</th>\n",
       "      <td>Hard Ball</td>\n",
       "      <td>2001</td>\n",
       "      <td>Keanu Reeves</td>\n",
       "      <td>actor</td>\n",
       "      <td>Conor O'Neill</td>\n",
       "      <td>1.0</td>\n",
       "    </tr>\n",
       "    <tr>\n",
       "      <th>1892359</th>\n",
       "      <td>Henry's Crime</td>\n",
       "      <td>2010</td>\n",
       "      <td>Keanu Reeves</td>\n",
       "      <td>actor</td>\n",
       "      <td>Henry Torne</td>\n",
       "      <td>1.0</td>\n",
       "    </tr>\n",
       "    <tr>\n",
       "      <th>1892361</th>\n",
       "      <td>John Wick</td>\n",
       "      <td>2014</td>\n",
       "      <td>Keanu Reeves</td>\n",
       "      <td>actor</td>\n",
       "      <td>John Wick</td>\n",
       "      <td>1.0</td>\n",
       "    </tr>\n",
       "    <tr>\n",
       "      <th>1892362</th>\n",
       "      <td>John Wick: Chapter 2</td>\n",
       "      <td>2017</td>\n",
       "      <td>Keanu Reeves</td>\n",
       "      <td>actor</td>\n",
       "      <td>John Wick</td>\n",
       "      <td>1.0</td>\n",
       "    </tr>\n",
       "    <tr>\n",
       "      <th>1892366</th>\n",
       "      <td>Knock Knock</td>\n",
       "      <td>2015</td>\n",
       "      <td>Keanu Reeves</td>\n",
       "      <td>actor</td>\n",
       "      <td>Evan</td>\n",
       "      <td>1.0</td>\n",
       "    </tr>\n",
       "    <tr>\n",
       "      <th>1892378</th>\n",
       "      <td>Siberia</td>\n",
       "      <td>2018</td>\n",
       "      <td>Keanu Reeves</td>\n",
       "      <td>actor</td>\n",
       "      <td>Lucas Hill</td>\n",
       "      <td>1.0</td>\n",
       "    </tr>\n",
       "    <tr>\n",
       "      <th>1892382</th>\n",
       "      <td>Street Kings</td>\n",
       "      <td>2008</td>\n",
       "      <td>Keanu Reeves</td>\n",
       "      <td>actor</td>\n",
       "      <td>Detective Tom Ludlow</td>\n",
       "      <td>1.0</td>\n",
       "    </tr>\n",
       "    <tr>\n",
       "      <th>1892383</th>\n",
       "      <td>Sweet November</td>\n",
       "      <td>2001</td>\n",
       "      <td>Keanu Reeves</td>\n",
       "      <td>actor</td>\n",
       "      <td>Nelson Moss</td>\n",
       "      <td>1.0</td>\n",
       "    </tr>\n",
       "    <tr>\n",
       "      <th>1892385</th>\n",
       "      <td>The Day the Earth Stood Still</td>\n",
       "      <td>2008</td>\n",
       "      <td>Keanu Reeves</td>\n",
       "      <td>actor</td>\n",
       "      <td>Klaatu</td>\n",
       "      <td>1.0</td>\n",
       "    </tr>\n",
       "    <tr>\n",
       "      <th>1892388</th>\n",
       "      <td>The Lake House</td>\n",
       "      <td>2006</td>\n",
       "      <td>Keanu Reeves</td>\n",
       "      <td>actor</td>\n",
       "      <td>Alex Wyler</td>\n",
       "      <td>1.0</td>\n",
       "    </tr>\n",
       "    <tr>\n",
       "      <th>1892390</th>\n",
       "      <td>The Matrix</td>\n",
       "      <td>1999</td>\n",
       "      <td>Keanu Reeves</td>\n",
       "      <td>actor</td>\n",
       "      <td>Neo</td>\n",
       "      <td>1.0</td>\n",
       "    </tr>\n",
       "    <tr>\n",
       "      <th>1892397</th>\n",
       "      <td>The Replacements</td>\n",
       "      <td>2000</td>\n",
       "      <td>Keanu Reeves</td>\n",
       "      <td>actor</td>\n",
       "      <td>Shane Falco</td>\n",
       "      <td>1.0</td>\n",
       "    </tr>\n",
       "    <tr>\n",
       "      <th>1892399</th>\n",
       "      <td>The Whole Truth</td>\n",
       "      <td>2016</td>\n",
       "      <td>Keanu Reeves</td>\n",
       "      <td>actor</td>\n",
       "      <td>Ramsey</td>\n",
       "      <td>1.0</td>\n",
       "    </tr>\n",
       "  </tbody>\n",
       "</table>\n",
       "</div>"
      ],
      "text/plain": [
       "                                 title  year          name   type  \\\n",
       "1892342                       47 Ronin  2013  Keanu Reeves  actor   \n",
       "1892348                    Constantine  2005  Keanu Reeves  actor   \n",
       "1892358                      Hard Ball  2001  Keanu Reeves  actor   \n",
       "1892359                  Henry's Crime  2010  Keanu Reeves  actor   \n",
       "1892361                      John Wick  2014  Keanu Reeves  actor   \n",
       "1892362           John Wick: Chapter 2  2017  Keanu Reeves  actor   \n",
       "1892366                    Knock Knock  2015  Keanu Reeves  actor   \n",
       "1892378                        Siberia  2018  Keanu Reeves  actor   \n",
       "1892382                   Street Kings  2008  Keanu Reeves  actor   \n",
       "1892383                 Sweet November  2001  Keanu Reeves  actor   \n",
       "1892385  The Day the Earth Stood Still  2008  Keanu Reeves  actor   \n",
       "1892388                 The Lake House  2006  Keanu Reeves  actor   \n",
       "1892390                     The Matrix  1999  Keanu Reeves  actor   \n",
       "1892397               The Replacements  2000  Keanu Reeves  actor   \n",
       "1892399                The Whole Truth  2016  Keanu Reeves  actor   \n",
       "\n",
       "                    character    n  \n",
       "1892342                   Kai  1.0  \n",
       "1892348      John Constantine  1.0  \n",
       "1892358         Conor O'Neill  1.0  \n",
       "1892359           Henry Torne  1.0  \n",
       "1892361             John Wick  1.0  \n",
       "1892362             John Wick  1.0  \n",
       "1892366                  Evan  1.0  \n",
       "1892378            Lucas Hill  1.0  \n",
       "1892382  Detective Tom Ludlow  1.0  \n",
       "1892383           Nelson Moss  1.0  \n",
       "1892385                Klaatu  1.0  \n",
       "1892388            Alex Wyler  1.0  \n",
       "1892390                   Neo  1.0  \n",
       "1892397           Shane Falco  1.0  \n",
       "1892399                Ramsey  1.0  "
      ]
     },
     "execution_count": 28,
     "metadata": {},
     "output_type": "execute_result"
    }
   ],
   "source": [
    "keanu_df[(keanu_df.year >= 1999) & (keanu_df.n == 1)]"
   ]
  },
  {
   "cell_type": "markdown",
   "metadata": {},
   "source": [
    "### Section I - Q11: \n",
    "\n",
    "(A) List the total number of actor and actress roles available from 1950 - 1960\n",
    "\n",
    "(B) List the total number of actor and actress roles available from 2007 - 2017"
   ]
  },
  {
   "cell_type": "code",
   "execution_count": 29,
   "metadata": {},
   "outputs": [
    {
     "data": {
      "text/plain": [
       "actor      171302\n",
       "actress     63333\n",
       "Name: type, dtype: int64"
      ]
     },
     "execution_count": 29,
     "metadata": {},
     "output_type": "execute_result"
    }
   ],
   "source": [
    "df_50s = cast[(cast.year >= 1950) & (cast.year <= 1960)]\n",
    "df_50s.type.value_counts()"
   ]
  },
  {
   "cell_type": "code",
   "execution_count": 30,
   "metadata": {},
   "outputs": [
    {
     "data": {
      "text/plain": [
       "actor      922782\n",
       "actress    529631\n",
       "Name: type, dtype: int64"
      ]
     },
     "execution_count": 30,
     "metadata": {},
     "output_type": "execute_result"
    }
   ],
   "source": [
    "df_20s = cast[(cast.year >= 2007) & (cast.year <= 2017)]\n",
    "df_20s.type.value_counts()"
   ]
  },
  {
   "cell_type": "markdown",
   "metadata": {},
   "source": [
    "### Section I - Q12: \n",
    "\n",
    "(A) List the total number of leading roles available from 2000 to present\n",
    "\n",
    "(B) List the total number of non-leading roles available from 2000 - present (exclude support cast)\n",
    "\n",
    "(C) List the total number of support\\extra-credit roles available from 2000 - present"
   ]
  },
  {
   "cell_type": "code",
   "execution_count": 31,
   "metadata": {},
   "outputs": [
    {
     "data": {
      "text/plain": [
       "60568"
      ]
     },
     "execution_count": 31,
     "metadata": {},
     "output_type": "execute_result"
    }
   ],
   "source": [
    "len(cast[(cast.n == 1) & (cast.year >= 2000)])"
   ]
  },
  {
   "cell_type": "code",
   "execution_count": 32,
   "metadata": {},
   "outputs": [
    {
     "data": {
      "text/plain": [
       "1001710"
      ]
     },
     "execution_count": 32,
     "metadata": {},
     "output_type": "execute_result"
    }
   ],
   "source": [
    "len(cast[(cast.n != 1) & (cast.n.notnull()) & (cast.year >= 2000)])"
   ]
  },
  {
   "cell_type": "code",
   "execution_count": 33,
   "metadata": {},
   "outputs": [
    {
     "data": {
      "text/plain": [
       "887484"
      ]
     },
     "execution_count": 33,
     "metadata": {},
     "output_type": "execute_result"
    }
   ],
   "source": [
    "len(cast[(cast.n != 1) & (cast.n.isnull()) & (cast.year >= 2000)])"
   ]
  },
  {
   "cell_type": "markdown",
   "metadata": {},
   "source": [
    "# Section II - Aggregations, Transformations and Visualizations"
   ]
  },
  {
   "cell_type": "markdown",
   "metadata": {},
   "source": [
    "## What are the top ten most common movie names of all time?\n"
   ]
  },
  {
   "cell_type": "code",
   "execution_count": 34,
   "metadata": {},
   "outputs": [
    {
     "data": {
      "text/plain": [
       "Hamlet                  20\n",
       "Carmen                  17\n",
       "Macbeth                 16\n",
       "Temptation              12\n",
       "Maya                    12\n",
       "The Outsider            12\n",
       "Honeymoon               11\n",
       "The Three Musketeers    11\n",
       "Freedom                 11\n",
       "Othello                 11\n",
       "Name: title, dtype: int64"
      ]
     },
     "execution_count": 34,
     "metadata": {},
     "output_type": "execute_result"
    }
   ],
   "source": [
    "top_ten = movies.title.value_counts()[:10]\n",
    "top_ten"
   ]
  },
  {
   "cell_type": "markdown",
   "metadata": {},
   "source": [
    "### Plot the top ten common movie names of all time"
   ]
  },
  {
   "cell_type": "code",
   "execution_count": 35,
   "metadata": {},
   "outputs": [
    {
     "data": {
      "text/plain": [
       "<matplotlib.axes._subplots.AxesSubplot at 0xad1d8df320>"
      ]
     },
     "execution_count": 35,
     "metadata": {},
     "output_type": "execute_result"
    },
    {
     "data": {
      "image/png": "[encoded data removed]",
      "text/plain": [
       "<Figure size 432x288 with 1 Axes>"
      ]
     },
     "metadata": {
      "needs_background": "light"
     },
     "output_type": "display_data"
    }
   ],
   "source": [
    "top_ten.plot(kind='barh')"
   ]
  },
  {
   "cell_type": "markdown",
   "metadata": {},
   "source": [
    "### Section II - Q1:  Which years in the 2000s saw the most movies released? (Show top 3)"
   ]
  },
  {
   "cell_type": "code",
   "execution_count": 36,
   "metadata": {},
   "outputs": [
    {
     "data": {
      "text/plain": [
       "2010    6415\n",
       "2009    6125\n",
       "2008    5151\n",
       "Name: year, dtype: int64"
      ]
     },
     "execution_count": 36,
     "metadata": {},
     "output_type": "execute_result"
    }
   ],
   "source": [
    "movies[(movies.year >= 2000) & (movies.year <= 2010)].year.value_counts().sort_index(ascending=False).iloc[:3]"
   ]
  },
  {
   "cell_type": "markdown",
   "metadata": {},
   "source": [
    "### Section II - Q2: # Plot the total number of films released per-decade (1890, 1900, 1910,....)\n",
    "- Hint: Dividing the year and multiplying with a number might give you the decade the year falls into!\n",
    "- You might need to sort before plotting"
   ]
  },
  {
   "cell_type": "code",
   "execution_count": 37,
   "metadata": {},
   "outputs": [
    {
     "data": {
      "text/plain": [
       "<matplotlib.axes._subplots.AxesSubplot at 0xad18527080>"
      ]
     },
     "execution_count": 37,
     "metadata": {},
     "output_type": "execute_result"
    },
    {
     "data": {
      "image/png": "[encoded data removed]",
      "text/plain": [
       "<Figure size 432x288 with 1 Axes>"
      ]
     },
     "metadata": {
      "needs_background": "light"
     },
     "output_type": "display_data"
    }
   ],
   "source": [
    "movies.groupby(movies.year // 10 * 10).size().plot(kind='bar')"
   ]
  },
  {
   "cell_type": "markdown",
   "metadata": {},
   "source": [
    "### Section II - Q3: \n",
    "\n",
    "(A) What are the top 10 most common character names in movie history?\n",
    "\n",
    "(B) Who are the top 10 people most often credited as \"Herself\" in movie history?\n",
    "\n",
    "(C) Who are the top 10 people most often credited as \"Himself\" in movie history?"
   ]
  },
  {
   "cell_type": "code",
   "execution_count": 38,
   "metadata": {},
   "outputs": [
    {
     "data": {
      "text/plain": [
       "Himself        20746\n",
       "Dancer         12477\n",
       "Extra          11948\n",
       "Reporter        8434\n",
       "Student         7773\n",
       "Doctor          7669\n",
       "Party Guest     7245\n",
       "Policeman       7029\n",
       "Nurse           6999\n",
       "Bartender       6802\n",
       "Name: character, dtype: int64"
      ]
     },
     "execution_count": 38,
     "metadata": {},
     "output_type": "execute_result"
    }
   ],
   "source": [
    "cast.character.value_counts().sort_values(ascending=False).iloc[:10]"
   ]
  },
  {
   "cell_type": "code",
   "execution_count": 39,
   "metadata": {},
   "outputs": [
    {
     "data": {
      "text/plain": [
       "Queen Elizabeth II           12\n",
       "Joyce Brothers                9\n",
       "Luisa Horga                   9\n",
       "Mar?a Luisa (V) Mart?n        9\n",
       "Margaret Thatcher             8\n",
       "Hillary Clinton               8\n",
       "Mar?a Isabel (III) Mart?n     6\n",
       "Marta Berrocal                6\n",
       "Joan Rivers                   6\n",
       "Oprah Winfrey                 6\n",
       "Name: name, dtype: int64"
      ]
     },
     "execution_count": 39,
     "metadata": {},
     "output_type": "execute_result"
    }
   ],
   "source": [
    "cast[cast.character == 'Herself'].name.value_counts().sort_values(ascending=False).iloc[:10]"
   ]
  },
  {
   "cell_type": "code",
   "execution_count": 40,
   "metadata": {},
   "outputs": [
    {
     "data": {
      "text/plain": [
       "Adolf Hitler             99\n",
       "Richard Nixon            44\n",
       "Ronald Reagan            41\n",
       "John F. Kennedy          37\n",
       "George W. Bush           25\n",
       "Winston Churchill        24\n",
       "Martin Luther King       23\n",
       "Ron Jeremy               22\n",
       "Bill Clinton             22\n",
       "Franklin D. Roosevelt    21\n",
       "Name: name, dtype: int64"
      ]
     },
     "execution_count": 40,
     "metadata": {},
     "output_type": "execute_result"
    }
   ],
   "source": [
    "cast[cast.character == 'Himself'].name.value_counts().sort_values(ascending=False).iloc[:10]"
   ]
  },
  {
   "cell_type": "markdown",
   "metadata": {},
   "source": [
    "### Section II - Q4: \n",
    "\n",
    "(A) What are the top 10 most frequent roles that start with the word \"Zombie\"?\n",
    "\n",
    "(B) What are the top 10 most frequent roles that start with the word \"Police\"?\n",
    "\n",
    "- Hint: The `startswith()` function might be useful"
   ]
  },
  {
   "cell_type": "code",
   "execution_count": 41,
   "metadata": {},
   "outputs": [
    {
     "data": {
      "text/plain": [
       "Zombie                         6264\n",
       "Zombie Horde                    206\n",
       "Zombie - Protestor - Victim      78\n",
       "Zombie Extra                     70\n",
       "Zombie Dancer                    43\n",
       "Zombie #1                        36\n",
       "Zombie Girl                      36\n",
       "Zombie #2                        31\n",
       "Zombie Vampire                   25\n",
       "Zombie Victim                    22\n",
       "Name: character, dtype: int64"
      ]
     },
     "execution_count": 41,
     "metadata": {},
     "output_type": "execute_result"
    }
   ],
   "source": [
    "cast[cast.character.str.startswith('Zombie')].character.value_counts().sort_values(ascending=False).iloc[:10]"
   ]
  },
  {
   "cell_type": "code",
   "execution_count": 42,
   "metadata": {},
   "outputs": [
    {
     "data": {
      "text/plain": [
       "Policeman              7029\n",
       "Police Officer         4808\n",
       "Police Inspector        742\n",
       "Police Sergeant         674\n",
       "Police officer          539\n",
       "Police                  456\n",
       "Policewoman             415\n",
       "Police Chief            410\n",
       "Police Captain          387\n",
       "Police Commissioner     337\n",
       "Name: character, dtype: int64"
      ]
     },
     "execution_count": 42,
     "metadata": {},
     "output_type": "execute_result"
    }
   ],
   "source": [
    "cast[cast.character.str.startswith('Police')].character.value_counts().sort_values(ascending=False).iloc[:10]"
   ]
  },
  {
   "cell_type": "markdown",
   "metadata": {},
   "source": [
    "### Section II - Q5: Plot how many roles 'Keanu Reeves' has played in each year of his career."
   ]
  },
  {
   "cell_type": "code",
   "execution_count": 43,
   "metadata": {},
   "outputs": [
    {
     "data": {
      "text/plain": [
       "<matplotlib.axes._subplots.AxesSubplot at 0xad185bc898>"
      ]
     },
     "execution_count": 43,
     "metadata": {},
     "output_type": "execute_result"
    },
    {
     "data": {
      "image/png": "[encoded data removed]",
      "text/plain": [
       "<Figure size 432x288 with 1 Axes>"
      ]
     },
     "metadata": {
      "needs_background": "light"
     },
     "output_type": "display_data"
    }
   ],
   "source": [
    "cast[cast.name == 'Keanu Reeves'].groupby('year').size().plot(kind='bar')"
   ]
  },
  {
   "cell_type": "markdown",
   "metadata": {},
   "source": [
    "### Section II - Q6: Plot the cast positions (n-values) of Keanu Reeve's roles through his career over the years.\n"
   ]
  },
  {
   "cell_type": "code",
   "execution_count": 44,
   "metadata": {},
   "outputs": [
    {
     "data": {
      "text/plain": [
       "<matplotlib.axes._subplots.AxesSubplot at 0xad18c41978>"
      ]
     },
     "execution_count": 44,
     "metadata": {},
     "output_type": "execute_result"
    },
    {
     "data": {
      "image/png": "[encoded data removed]",
      "text/plain": [
       "<Figure size 432x288 with 1 Axes>"
      ]
     },
     "metadata": {
      "needs_background": "light"
     },
     "output_type": "display_data"
    }
   ],
   "source": [
    "cast[cast.name == 'Keanu Reeves'].groupby('n').size().plot(kind='bar')"
   ]
  },
  {
   "cell_type": "markdown",
   "metadata": {},
   "source": [
    "### Section II - Q7: Plot the number of \"Hamlet\" films made by each decade"
   ]
  },
  {
   "cell_type": "code",
   "execution_count": 45,
   "metadata": {},
   "outputs": [
    {
     "data": {
      "text/plain": [
       "<matplotlib.axes._subplots.AxesSubplot at 0xad18cddb38>"
      ]
     },
     "execution_count": 45,
     "metadata": {},
     "output_type": "execute_result"
    },
    {
     "data": {
      "image/png": "[encoded data removed]",
      "text/plain": [
       "<Figure size 432x288 with 1 Axes>"
      ]
     },
     "metadata": {
      "needs_background": "light"
     },
     "output_type": "display_data"
    }
   ],
   "source": [
    "movies[movies.title == 'Hamlet'].groupby(movies.year // 10 * 10).size().plot(kind='bar')"
   ]
  },
  {
   "cell_type": "markdown",
   "metadata": {},
   "source": [
    "### Section II - Q8: \n",
    "\n",
    "(A) How many leading roles were available to both actors and actresses, in the 1960s (1960-1969)?\n",
    "\n",
    "(B) How many leading roles were available to both actors and actresses, in the 2000s (2000-2009)?\n",
    "\n",
    "- Hint: A specific value of n might indicate a leading role"
   ]
  },
  {
   "cell_type": "code",
   "execution_count": 46,
   "metadata": {},
   "outputs": [
    {
     "data": {
      "text/plain": [
       "type\n",
       "actor      8320\n",
       "actress    3503\n",
       "dtype: int64"
      ]
     },
     "execution_count": 46,
     "metadata": {},
     "output_type": "execute_result"
    }
   ],
   "source": [
    "cast_60s = cast[(cast.year < 1970) & (cast.year >= 1960) & (cast.n == 1)]\n",
    "cast_60s.groupby('type').size()"
   ]
  },
  {
   "cell_type": "code",
   "execution_count": 47,
   "metadata": {},
   "outputs": [
    {
     "data": {
      "text/plain": [
       "type\n",
       "actor      18557\n",
       "actress     7787\n",
       "dtype: int64"
      ]
     },
     "execution_count": 47,
     "metadata": {},
     "output_type": "execute_result"
    }
   ],
   "source": [
    "cast_20s = cast[(cast.year < 2010) & (cast.year >= 2000) & (cast.n == 1)]\n",
    "cast_20s.groupby('type').size()"
   ]
  },
  {
   "cell_type": "markdown",
   "metadata": {},
   "source": [
    "### Section II - Q9: List, in order by year, each of the films in which Frank Oz has played more than 1 role."
   ]
  },
  {
   "cell_type": "code",
   "execution_count": 48,
   "metadata": {},
   "outputs": [
    {
     "data": {
      "text/html": [
       "<div>\n",
       "<style scoped>\n",
       "    .dataframe tbody tr th:only-of-type {\n",
       "        vertical-align: middle;\n",
       "    }\n",
       "\n",
       "    .dataframe tbody tr th {\n",
       "        vertical-align: top;\n",
       "    }\n",
       "\n",
       "    .dataframe thead th {\n",
       "        text-align: right;\n",
       "    }\n",
       "</style>\n",
       "<table border=\"1\" class=\"dataframe\">\n",
       "  <thead>\n",
       "    <tr style=\"text-align: right;\">\n",
       "      <th></th>\n",
       "      <th>title</th>\n",
       "      <th>year</th>\n",
       "      <th>count</th>\n",
       "    </tr>\n",
       "  </thead>\n",
       "  <tbody>\n",
       "    <tr>\n",
       "      <th>155750</th>\n",
       "      <td>The Muppet Movie</td>\n",
       "      <td>1979</td>\n",
       "      <td>8</td>\n",
       "    </tr>\n",
       "    <tr>\n",
       "      <th>107533</th>\n",
       "      <td>An American Werewolf in London</td>\n",
       "      <td>1981</td>\n",
       "      <td>2</td>\n",
       "    </tr>\n",
       "    <tr>\n",
       "      <th>122648</th>\n",
       "      <td>The Great Muppet Caper</td>\n",
       "      <td>1981</td>\n",
       "      <td>6</td>\n",
       "    </tr>\n",
       "    <tr>\n",
       "      <th>27762</th>\n",
       "      <td>The Dark Crystal</td>\n",
       "      <td>1982</td>\n",
       "      <td>2</td>\n",
       "    </tr>\n",
       "    <tr>\n",
       "      <th>46924</th>\n",
       "      <td>The Muppets Take Manhattan</td>\n",
       "      <td>1984</td>\n",
       "      <td>7</td>\n",
       "    </tr>\n",
       "    <tr>\n",
       "      <th>163630</th>\n",
       "      <td>Follow That Bird</td>\n",
       "      <td>1985</td>\n",
       "      <td>3</td>\n",
       "    </tr>\n",
       "    <tr>\n",
       "      <th>102003</th>\n",
       "      <td>The Muppet Christmas Carol</td>\n",
       "      <td>1992</td>\n",
       "      <td>7</td>\n",
       "    </tr>\n",
       "    <tr>\n",
       "      <th>103351</th>\n",
       "      <td>Muppet Treasure Island</td>\n",
       "      <td>1996</td>\n",
       "      <td>4</td>\n",
       "    </tr>\n",
       "    <tr>\n",
       "      <th>97187</th>\n",
       "      <td>The Adventures of Elmo in Grouchland</td>\n",
       "      <td>1999</td>\n",
       "      <td>3</td>\n",
       "    </tr>\n",
       "    <tr>\n",
       "      <th>183609</th>\n",
       "      <td>Muppets from Space</td>\n",
       "      <td>1999</td>\n",
       "      <td>4</td>\n",
       "    </tr>\n",
       "  </tbody>\n",
       "</table>\n",
       "</div>"
      ],
      "text/plain": [
       "                                       title  year  count\n",
       "155750                      The Muppet Movie  1979      8\n",
       "107533        An American Werewolf in London  1981      2\n",
       "122648                The Great Muppet Caper  1981      6\n",
       "27762                       The Dark Crystal  1982      2\n",
       "46924             The Muppets Take Manhattan  1984      7\n",
       "163630                      Follow That Bird  1985      3\n",
       "102003            The Muppet Christmas Carol  1992      7\n",
       "103351                Muppet Treasure Island  1996      4\n",
       "97187   The Adventures of Elmo in Grouchland  1999      3\n",
       "183609                    Muppets from Space  1999      4"
      ]
     },
     "execution_count": 48,
     "metadata": {},
     "output_type": "execute_result"
    }
   ],
   "source": [
    "cast_frank = cast[cast.name == 'Frank Oz']\n",
    "movs = cast_frank.title.value_counts()[cast_frank.title.value_counts() > 1].to_frame()\n",
    "movs.columns = ['count']\n",
    "movies.merge(movs, left_on='title', right_index=True).sort_values('year')"
   ]
  },
  {
   "cell_type": "markdown",
   "metadata": {},
   "source": [
    "### Section II - Q10: List each of the characters that Frank Oz has portrayed at least twice"
   ]
  },
  {
   "cell_type": "code",
   "execution_count": 49,
   "metadata": {},
   "outputs": [
    {
     "data": {
      "text/plain": [
       "Animal            6\n",
       "Miss Piggy        6\n",
       "Yoda              6\n",
       "Sam the Eagle     5\n",
       "Cookie Monster    5\n",
       "Fozzie Bear       4\n",
       "Bert              3\n",
       "Grover            2\n",
       "Name: character, dtype: int64"
      ]
     },
     "execution_count": 49,
     "metadata": {},
     "output_type": "execute_result"
    }
   ],
   "source": [
    "cast_frank = cast[cast.name == 'Frank Oz']\n",
    "cast_frank.character.value_counts()[cast_frank.character.value_counts() > 1]#.keys().tolist()"
   ]
  },
  {
   "cell_type": "markdown",
   "metadata": {},
   "source": [
    "# Section III - Advanced Merging, Querying and Visualizations"
   ]
  },
  {
   "cell_type": "markdown",
   "metadata": {},
   "source": [
    "## Make a bar plot with the following conditions\n",
    "- Frequency of the number of movies with \"Christmas\" in their title \n",
    "- Movies should be such that they are released in the USA.\n",
    "- Show the frequency plot by month"
   ]
  },
  {
   "cell_type": "code",
   "execution_count": 50,
   "metadata": {},
   "outputs": [
    {
     "data": {
      "text/plain": [
       "<matplotlib.axes._subplots.AxesSubplot at 0xad18d736a0>"
      ]
     },
     "execution_count": 50,
     "metadata": {},
     "output_type": "execute_result"
    },
    {
     "data": {
      "image/png": "[encoded data removed]",
      "text/plain": [
       "<Figure size 432x288 with 1 Axes>"
      ]
     },
     "metadata": {
      "needs_background": "light"
     },
     "output_type": "display_data"
    }
   ],
   "source": [
    "christmas = release_dates[(release_dates.title.str.contains('Christmas')) & (release_dates.country == 'USA')]\n",
    "christmas.date.dt.month.value_counts().sort_index().plot(kind='bar')"
   ]
  },
  {
   "cell_type": "markdown",
   "metadata": {},
   "source": [
    "### Section III - Q1: Make a bar plot with the following conditions\n",
    "- Frequency of the number of movies with \"Summer\" in their title \n",
    "- Movies should be such that they are released in the USA.\n",
    "- Show the frequency plot by month"
   ]
  },
  {
   "cell_type": "code",
   "execution_count": 51,
   "metadata": {},
   "outputs": [
    {
     "data": {
      "text/plain": [
       "<matplotlib.axes._subplots.AxesSubplot at 0xad18ddbf28>"
      ]
     },
     "execution_count": 51,
     "metadata": {},
     "output_type": "execute_result"
    },
    {
     "data": {
      "image/png": "[encoded data removed]",
      "text/plain": [
       "<Figure size 432x288 with 1 Axes>"
      ]
     },
     "metadata": {
      "needs_background": "light"
     },
     "output_type": "display_data"
    }
   ],
   "source": [
    "release_dates[(release_dates.title.str.contains('Summer')) & (release_dates.country == 'USA')].date.dt.month.value_counts().sort_index().plot(kind='bar')"
   ]
  },
  {
   "cell_type": "markdown",
   "metadata": {},
   "source": [
    "### Section III - Q2: Make a bar plot with the following conditions\n",
    "- Frequency of the number of movies with \"Action\" in their title \n",
    "- Movies should be such that they are released in the USA.\n",
    "- Show the frequency plot by week"
   ]
  },
  {
   "cell_type": "code",
   "execution_count": 52,
   "metadata": {},
   "outputs": [
    {
     "data": {
      "text/plain": [
       "<matplotlib.axes._subplots.AxesSubplot at 0xad1922d2b0>"
      ]
     },
     "execution_count": 52,
     "metadata": {},
     "output_type": "execute_result"
    },
    {
     "data": {
      "image/png": "[encoded data removed]",
      "text/plain": [
       "<Figure size 432x288 with 1 Axes>"
      ]
     },
     "metadata": {
      "needs_background": "light"
     },
     "output_type": "display_data"
    }
   ],
   "source": [
    "release_dates[(release_dates.title.str.contains('Action')) & (release_dates.country == 'USA')].date.dt.week.value_counts().sort_index().plot(kind='bar')"
   ]
  },
  {
   "cell_type": "markdown",
   "metadata": {},
   "source": [
    "### Section III - Q3: Show all the movies in which Keanu Reeves has played the lead role along with their   release date in the USA sorted by the date of release\n",
    "- Hint: You might need to join or merge two datasets!"
   ]
  },
  {
   "cell_type": "code",
   "execution_count": 53,
   "metadata": {},
   "outputs": [
    {
     "data": {
      "text/html": [
       "<div>\n",
       "<style scoped>\n",
       "    .dataframe tbody tr th:only-of-type {\n",
       "        vertical-align: middle;\n",
       "    }\n",
       "\n",
       "    .dataframe tbody tr th {\n",
       "        vertical-align: top;\n",
       "    }\n",
       "\n",
       "    .dataframe thead th {\n",
       "        text-align: right;\n",
       "    }\n",
       "</style>\n",
       "<table border=\"1\" class=\"dataframe\">\n",
       "  <thead>\n",
       "    <tr style=\"text-align: right;\">\n",
       "      <th></th>\n",
       "      <th>title</th>\n",
       "      <th>year</th>\n",
       "      <th>country</th>\n",
       "      <th>date</th>\n",
       "    </tr>\n",
       "  </thead>\n",
       "  <tbody>\n",
       "    <tr>\n",
       "      <th>446</th>\n",
       "      <td>Speed</td>\n",
       "      <td>1922</td>\n",
       "      <td>USA</td>\n",
       "      <td>1922-10-22</td>\n",
       "    </tr>\n",
       "    <tr>\n",
       "      <th>448</th>\n",
       "      <td>Speed</td>\n",
       "      <td>1936</td>\n",
       "      <td>USA</td>\n",
       "      <td>1936-05-08</td>\n",
       "    </tr>\n",
       "    <tr>\n",
       "      <th>522</th>\n",
       "      <td>Sweet November</td>\n",
       "      <td>1968</td>\n",
       "      <td>USA</td>\n",
       "      <td>1968-02-08</td>\n",
       "    </tr>\n",
       "    <tr>\n",
       "      <th>742</th>\n",
       "      <td>The Night Before</td>\n",
       "      <td>1988</td>\n",
       "      <td>USA</td>\n",
       "      <td>1988-04-15</td>\n",
       "    </tr>\n",
       "    <tr>\n",
       "      <th>78</th>\n",
       "      <td>Bill &amp; Ted's Excellent Adventure</td>\n",
       "      <td>1989</td>\n",
       "      <td>USA</td>\n",
       "      <td>1989-02-17</td>\n",
       "    </tr>\n",
       "    <tr>\n",
       "      <th>69</th>\n",
       "      <td>Bill &amp; Ted's Bogus Journey</td>\n",
       "      <td>1991</td>\n",
       "      <td>USA</td>\n",
       "      <td>1991-07-19</td>\n",
       "    </tr>\n",
       "    <tr>\n",
       "      <th>434</th>\n",
       "      <td>Little Buddha</td>\n",
       "      <td>1993</td>\n",
       "      <td>USA</td>\n",
       "      <td>1994-05-25</td>\n",
       "    </tr>\n",
       "    <tr>\n",
       "      <th>451</th>\n",
       "      <td>Speed</td>\n",
       "      <td>1994</td>\n",
       "      <td>USA</td>\n",
       "      <td>1994-06-10</td>\n",
       "    </tr>\n",
       "    <tr>\n",
       "      <th>371</th>\n",
       "      <td>Johnny Mnemonic</td>\n",
       "      <td>1995</td>\n",
       "      <td>USA</td>\n",
       "      <td>1995-05-26</td>\n",
       "    </tr>\n",
       "    <tr>\n",
       "      <th>49</th>\n",
       "      <td>A Walk in the Clouds</td>\n",
       "      <td>1995</td>\n",
       "      <td>USA</td>\n",
       "      <td>1995-08-11</td>\n",
       "    </tr>\n",
       "    <tr>\n",
       "      <th>91</th>\n",
       "      <td>Chain Reaction</td>\n",
       "      <td>1996</td>\n",
       "      <td>USA</td>\n",
       "      <td>1996-08-02</td>\n",
       "    </tr>\n",
       "    <tr>\n",
       "      <th>190</th>\n",
       "      <td>Feeling Minnesota</td>\n",
       "      <td>1996</td>\n",
       "      <td>USA</td>\n",
       "      <td>1996-09-13</td>\n",
       "    </tr>\n",
       "    <tr>\n",
       "      <th>621</th>\n",
       "      <td>The Devil's Advocate</td>\n",
       "      <td>1997</td>\n",
       "      <td>USA</td>\n",
       "      <td>1997-10-17</td>\n",
       "    </tr>\n",
       "    <tr>\n",
       "      <th>699</th>\n",
       "      <td>The Matrix</td>\n",
       "      <td>1999</td>\n",
       "      <td>USA</td>\n",
       "      <td>1999-03-31</td>\n",
       "    </tr>\n",
       "    <tr>\n",
       "      <th>743</th>\n",
       "      <td>The Replacements</td>\n",
       "      <td>2000</td>\n",
       "      <td>USA</td>\n",
       "      <td>2000-08-11</td>\n",
       "    </tr>\n",
       "    <tr>\n",
       "      <th>526</th>\n",
       "      <td>Sweet November</td>\n",
       "      <td>2001</td>\n",
       "      <td>USA</td>\n",
       "      <td>2001-02-16</td>\n",
       "    </tr>\n",
       "    <tr>\n",
       "      <th>205</th>\n",
       "      <td>Hard Ball</td>\n",
       "      <td>2001</td>\n",
       "      <td>USA</td>\n",
       "      <td>2001-09-14</td>\n",
       "    </tr>\n",
       "    <tr>\n",
       "      <th>150</th>\n",
       "      <td>Constantine</td>\n",
       "      <td>2005</td>\n",
       "      <td>USA</td>\n",
       "      <td>2005-02-18</td>\n",
       "    </tr>\n",
       "    <tr>\n",
       "      <th>659</th>\n",
       "      <td>The Lake House</td>\n",
       "      <td>2006</td>\n",
       "      <td>USA</td>\n",
       "      <td>2006-06-16</td>\n",
       "    </tr>\n",
       "    <tr>\n",
       "      <th>485</th>\n",
       "      <td>Street Kings</td>\n",
       "      <td>2008</td>\n",
       "      <td>USA</td>\n",
       "      <td>2008-04-11</td>\n",
       "    </tr>\n",
       "    <tr>\n",
       "      <th>609</th>\n",
       "      <td>The Day the Earth Stood Still</td>\n",
       "      <td>2008</td>\n",
       "      <td>USA</td>\n",
       "      <td>2008-12-12</td>\n",
       "    </tr>\n",
       "    <tr>\n",
       "      <th>9</th>\n",
       "      <td>47 Ronin</td>\n",
       "      <td>2013</td>\n",
       "      <td>USA</td>\n",
       "      <td>2013-12-25</td>\n",
       "    </tr>\n",
       "    <tr>\n",
       "      <th>248</th>\n",
       "      <td>John Wick</td>\n",
       "      <td>2014</td>\n",
       "      <td>USA</td>\n",
       "      <td>2014-10-24</td>\n",
       "    </tr>\n",
       "    <tr>\n",
       "      <th>407</th>\n",
       "      <td>Knock Knock</td>\n",
       "      <td>2015</td>\n",
       "      <td>USA</td>\n",
       "      <td>2015-10-09</td>\n",
       "    </tr>\n",
       "    <tr>\n",
       "      <th>325</th>\n",
       "      <td>John Wick: Chapter 2</td>\n",
       "      <td>2017</td>\n",
       "      <td>USA</td>\n",
       "      <td>2017-02-10</td>\n",
       "    </tr>\n",
       "    <tr>\n",
       "      <th>421</th>\n",
       "      <td>Knock Knock</td>\n",
       "      <td>2017</td>\n",
       "      <td>USA</td>\n",
       "      <td>2017-10-06</td>\n",
       "    </tr>\n",
       "  </tbody>\n",
       "</table>\n",
       "</div>"
      ],
      "text/plain": [
       "                                title  year country       date\n",
       "446                             Speed  1922     USA 1922-10-22\n",
       "448                             Speed  1936     USA 1936-05-08\n",
       "522                    Sweet November  1968     USA 1968-02-08\n",
       "742                  The Night Before  1988     USA 1988-04-15\n",
       "78   Bill & Ted's Excellent Adventure  1989     USA 1989-02-17\n",
       "69         Bill & Ted's Bogus Journey  1991     USA 1991-07-19\n",
       "434                     Little Buddha  1993     USA 1994-05-25\n",
       "451                             Speed  1994     USA 1994-06-10\n",
       "371                   Johnny Mnemonic  1995     USA 1995-05-26\n",
       "49               A Walk in the Clouds  1995     USA 1995-08-11\n",
       "91                     Chain Reaction  1996     USA 1996-08-02\n",
       "190                 Feeling Minnesota  1996     USA 1996-09-13\n",
       "621              The Devil's Advocate  1997     USA 1997-10-17\n",
       "699                        The Matrix  1999     USA 1999-03-31\n",
       "743                  The Replacements  2000     USA 2000-08-11\n",
       "526                    Sweet November  2001     USA 2001-02-16\n",
       "205                         Hard Ball  2001     USA 2001-09-14\n",
       "150                       Constantine  2005     USA 2005-02-18\n",
       "659                    The Lake House  2006     USA 2006-06-16\n",
       "485                      Street Kings  2008     USA 2008-04-11\n",
       "609     The Day the Earth Stood Still  2008     USA 2008-12-12\n",
       "9                            47 Ronin  2013     USA 2013-12-25\n",
       "248                         John Wick  2014     USA 2014-10-24\n",
       "407                       Knock Knock  2015     USA 2015-10-09\n",
       "325              John Wick: Chapter 2  2017     USA 2017-02-10\n",
       "421                       Knock Knock  2017     USA 2017-10-06"
      ]
     },
     "execution_count": 53,
     "metadata": {},
     "output_type": "execute_result"
    }
   ],
   "source": [
    "keanu_movies = cast[(cast.name == 'Keanu Reeves') & (cast.n == 1)].title.to_frame()\n",
    "merged = keanu_movies.merge(release_dates, left_on='title', right_on='title', how='left')\n",
    "merged[merged.country == 'USA'].sort_values('date') "
   ]
  },
  {
   "cell_type": "markdown",
   "metadata": {},
   "source": [
    "### Section III - Q4: Make a bar plot showing the months in which movies with Keanu Reeves tend to be released in the USA?"
   ]
  },
  {
   "cell_type": "code",
   "execution_count": 54,
   "metadata": {},
   "outputs": [
    {
     "data": {
      "text/plain": [
       "<matplotlib.axes._subplots.AxesSubplot at 0xad19316a58>"
      ]
     },
     "execution_count": 54,
     "metadata": {},
     "output_type": "execute_result"
    },
    {
     "data": {
      "image/png": "[encoded data removed]",
      "text/plain": [
       "<Figure size 432x288 with 1 Axes>"
      ]
     },
     "metadata": {
      "needs_background": "light"
     },
     "output_type": "display_data"
    }
   ],
   "source": [
    "keanu_movies = cast[(cast.name == 'Keanu Reeves')].title.to_frame()\n",
    "merged = keanu_movies.merge(release_dates, left_on='title', right_on='title', how='left')\n",
    "merged[merged.country == 'USA'].date.dt.month.value_counts().sort_index().plot(kind='bar')"
   ]
  },
  {
   "cell_type": "markdown",
   "metadata": {},
   "source": [
    "### Section III - Q5: Make a bar plot showing the years in which movies with Ian McKellen tend to be released in the USA?"
   ]
  },
  {
   "cell_type": "code",
   "execution_count": 55,
   "metadata": {},
   "outputs": [
    {
     "data": {
      "text/plain": [
       "<matplotlib.axes._subplots.AxesSubplot at 0xad19d70588>"
      ]
     },
     "execution_count": 55,
     "metadata": {},
     "output_type": "execute_result"
    },
    {
     "data": {
      "image/png": "[encoded data removed]",
      "text/plain": [
       "<Figure size 432x288 with 1 Axes>"
      ]
     },
     "metadata": {
      "needs_background": "light"
     },
     "output_type": "display_data"
    }
   ],
   "source": [
    "ian_movies = cast[(cast.name == 'Ian McKellen')].title.to_frame()\n",
    "merged = ian_movies.merge(release_dates, left_on='title', right_on='title', how='left')\n",
    "merged[merged.country == 'USA'].date.dt.month.value_counts().sort_index().plot(kind='bar')"
   ]
  }
 ],
 "metadata": {
  "kernelspec": {
   "display_name": "Python 3",
   "language": "python",
   "name": "python3"
  },
  "language_info": {
   "codemirror_mode": {
    "name": "ipython",
    "version": 3
   },
   "file_extension": ".py",
   "mimetype": "text/x-python",
   "name": "python",
   "nbconvert_exporter": "python",
   "pygments_lexer": "ipython3",
   "version": "3.7.1"
  }
 },
 "nbformat": 4,
 "nbformat_minor": 2
}
